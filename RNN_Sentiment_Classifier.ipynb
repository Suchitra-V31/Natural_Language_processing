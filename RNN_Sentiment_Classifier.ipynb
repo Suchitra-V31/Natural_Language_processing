{
  "nbformat": 4,
  "nbformat_minor": 0,
  "metadata": {
    "colab": {
      "name": "RNN Sentiment Classifier.ipynb",
      "provenance": [],
      "collapsed_sections": [],
      "authorship_tag": "ABX9TyPCZBq7Uye9B9UVDhAWjuy7",
      "include_colab_link": true
    },
    "kernelspec": {
      "name": "python3",
      "display_name": "Python 3"
    },
    "language_info": {
      "name": "python"
    }
  },
  "cells": [
    {
      "cell_type": "markdown",
      "metadata": {
        "id": "view-in-github",
        "colab_type": "text"
      },
      "source": [
        "<a href=\"https://colab.research.google.com/github/Suchitra-V31/Natural_Language_processing/blob/main/RNN_Sentiment_Classifier.ipynb\" target=\"_parent\"><img src=\"https://colab.research.google.com/assets/colab-badge.svg\" alt=\"Open In Colab\"/></a>"
      ]
    },
    {
      "cell_type": "code",
      "metadata": {
        "id": "nvSs0SS7MNFA"
      },
      "source": [
        "#load the dependencies\n",
        "import tensorflow\n",
        "from tensorflow import keras\n",
        "from keras.datasets import imdb\n",
        "from keras.models import Sequential\n",
        "from keras.layers import Dense,Embedding,SpatialDropout1D,Dropout\n",
        "from keras.layers import SimpleRNN\n",
        "from keras.preprocessing.sequence import pad_sequences\n",
        "import pandas as pd\n"
      ],
      "execution_count": 2,
      "outputs": []
    },
    {
      "cell_type": "markdown",
      "metadata": {
        "id": "p2AuhKSKM1Fa"
      },
      "source": [
        "**Set Hyperparameters**"
      ]
    },
    {
      "cell_type": "code",
      "metadata": {
        "id": "ZfynWxD2Mwlo"
      },
      "source": [
        "#training\n",
        "epoch=13\n",
        "batch_size=128\n",
        "\n",
        "#embedding\n",
        "n_dim=64\n",
        "n_unique_words=10000\n",
        "max_review_len=100\n",
        "pad_type=trunc_type='pre'\n",
        "drop_embed=0.2\n",
        "\n",
        "#rnn\n",
        "n_rnn=256\n",
        "drop_rnn=0.3\n",
        "\n",
        "#dense\n",
        "n_dense=256\n",
        "dropout=0.2"
      ],
      "execution_count": 4,
      "outputs": []
    },
    {
      "cell_type": "markdown",
      "metadata": {
        "id": "NUN_WQEDNyrc"
      },
      "source": [
        "**Load Data**"
      ]
    },
    {
      "cell_type": "code",
      "metadata": {
        "id": "4HPm1kuANwf1"
      },
      "source": [
        "(X_train,y_train),(X_test,y_test)=imdb.load_data(num_words=n_unique_words)"
      ],
      "execution_count": 6,
      "outputs": []
    },
    {
      "cell_type": "markdown",
      "metadata": {
        "id": "gyH3XhxVOLny"
      },
      "source": [
        "**Preprocess data**"
      ]
    },
    {
      "cell_type": "code",
      "metadata": {
        "id": "gUzkIxHlOE5y"
      },
      "source": [
        "X_train=pad_sequences(X_train,maxlen=max_review_len,padding=pad_type,truncating=trunc_type,value=0)\n",
        "X_test=pad_sequences(X_test,maxlen=max_review_len,padding=pad_type,truncating=trunc_type,value=0)"
      ],
      "execution_count": 7,
      "outputs": []
    },
    {
      "cell_type": "markdown",
      "metadata": {
        "id": "oo4NJ7ExOhft"
      },
      "source": [
        "**Design Neural Network**"
      ]
    },
    {
      "cell_type": "code",
      "metadata": {
        "id": "ldL_VqlpOfjT"
      },
      "source": [
        "model=Sequential()\n",
        "#Embedding layer\n",
        "model.add(Embedding(n_unique_words,n_dim,input_length=max_review_len))\n",
        "model.add(SpatialDropout1D(drop_embed))\n",
        "#rnn layer\n",
        "model.add(SimpleRNN(n_rnn,activation='relu',dropout=drop_rnn))\n",
        "#dense layer\n",
        "model.add(Dense(n_dense,activation='relu'))\n",
        "model.add(Dropout(dropout))\n",
        "#o/p layer\n",
        "model.add(Dense(1,activation='sigmoid'))"
      ],
      "execution_count": 9,
      "outputs": []
    },
    {
      "cell_type": "code",
      "metadata": {
        "colab": {
          "base_uri": "https://localhost:8080/"
        },
        "id": "cLKf9nQfPm4x",
        "outputId": "eb2d40fe-9241-47ac-906e-a03bf295eabb"
      },
      "source": [
        "model.summary()"
      ],
      "execution_count": 10,
      "outputs": [
        {
          "output_type": "stream",
          "text": [
            "Model: \"sequential_1\"\n",
            "_________________________________________________________________\n",
            "Layer (type)                 Output Shape              Param #   \n",
            "=================================================================\n",
            "embedding_1 (Embedding)      (None, 100, 64)           640000    \n",
            "_________________________________________________________________\n",
            "spatial_dropout1d (SpatialDr (None, 100, 64)           0         \n",
            "_________________________________________________________________\n",
            "simple_rnn (SimpleRNN)       (None, 256)               82176     \n",
            "_________________________________________________________________\n",
            "dense (Dense)                (None, 256)               65792     \n",
            "_________________________________________________________________\n",
            "dropout (Dropout)            (None, 256)               0         \n",
            "_________________________________________________________________\n",
            "dense_1 (Dense)              (None, 1)                 257       \n",
            "=================================================================\n",
            "Total params: 788,225\n",
            "Trainable params: 788,225\n",
            "Non-trainable params: 0\n",
            "_________________________________________________________________\n"
          ],
          "name": "stdout"
        }
      ]
    },
    {
      "cell_type": "markdown",
      "metadata": {
        "id": "tbymwEfQPw7s"
      },
      "source": [
        "**Compile model**"
      ]
    },
    {
      "cell_type": "code",
      "metadata": {
        "id": "dw2L1_PiPtpw"
      },
      "source": [
        "model.compile(loss='binary_crossentropy',optimizer='nadam',metrics=['accuracy'])"
      ],
      "execution_count": 11,
      "outputs": []
    },
    {
      "cell_type": "markdown",
      "metadata": {
        "id": "xHO-sFbRQCF4"
      },
      "source": [
        "**Train model**"
      ]
    },
    {
      "cell_type": "code",
      "metadata": {
        "colab": {
          "base_uri": "https://localhost:8080/"
        },
        "id": "u3WDz8ZNP-55",
        "outputId": "c7d2a848-866f-4f33-8938-ad7a4ca179b1"
      },
      "source": [
        "model.fit(X_train,y_train,batch_size=batch_size,epochs=epoch,validation_data=(X_test,y_test))"
      ],
      "execution_count": 12,
      "outputs": [
        {
          "output_type": "stream",
          "text": [
            "Epoch 1/13\n",
            "196/196 [==============================] - 58s 285ms/step - loss: 83408.0938 - accuracy: 0.5504 - val_loss: 4.7126 - val_accuracy: 0.5000\n",
            "Epoch 2/13\n",
            "196/196 [==============================] - 56s 284ms/step - loss: 2.8344 - accuracy: 0.5059 - val_loss: 0.6884 - val_accuracy: 0.5487\n",
            "Epoch 3/13\n",
            "196/196 [==============================] - 55s 283ms/step - loss: 1.0282 - accuracy: 0.5061 - val_loss: 0.6806 - val_accuracy: 0.6126\n",
            "Epoch 4/13\n",
            "196/196 [==============================] - 55s 282ms/step - loss: 0.8118 - accuracy: 0.5311 - val_loss: 0.6739 - val_accuracy: 0.6397\n",
            "Epoch 5/13\n",
            "196/196 [==============================] - 55s 282ms/step - loss: 0.7420 - accuracy: 0.5523 - val_loss: 0.6703 - val_accuracy: 0.6386\n",
            "Epoch 6/13\n",
            "196/196 [==============================] - 55s 283ms/step - loss: 0.7132 - accuracy: 0.5646 - val_loss: 0.6788 - val_accuracy: 0.5104\n",
            "Epoch 7/13\n",
            "196/196 [==============================] - 56s 284ms/step - loss: 0.6848 - accuracy: 0.5950 - val_loss: 0.6570 - val_accuracy: 0.6638\n",
            "Epoch 8/13\n",
            "196/196 [==============================] - 56s 284ms/step - loss: 0.6619 - accuracy: 0.6236 - val_loss: 0.6443 - val_accuracy: 0.6802\n",
            "Epoch 9/13\n",
            "196/196 [==============================] - 55s 282ms/step - loss: 0.6360 - accuracy: 0.6604 - val_loss: 0.6286 - val_accuracy: 0.6888\n",
            "Epoch 10/13\n",
            "196/196 [==============================] - 55s 283ms/step - loss: 0.6088 - accuracy: 0.6947 - val_loss: 0.6136 - val_accuracy: 0.7058\n",
            "Epoch 11/13\n",
            "196/196 [==============================] - 55s 283ms/step - loss: 0.5721 - accuracy: 0.7336 - val_loss: 0.5999 - val_accuracy: 0.6860\n",
            "Epoch 12/13\n",
            "196/196 [==============================] - 55s 283ms/step - loss: 0.5356 - accuracy: 0.7540 - val_loss: 0.5909 - val_accuracy: 0.6822\n",
            "Epoch 13/13\n",
            "196/196 [==============================] - 56s 284ms/step - loss: 0.5058 - accuracy: 0.7698 - val_loss: 0.5647 - val_accuracy: 0.7251\n"
          ],
          "name": "stdout"
        },
        {
          "output_type": "execute_result",
          "data": {
            "text/plain": [
              "<keras.callbacks.History at 0x7fa041db5790>"
            ]
          },
          "metadata": {},
          "execution_count": 12
        }
      ]
    },
    {
      "cell_type": "code",
      "metadata": {
        "id": "KhwA_eXtQOlO"
      },
      "source": [
        ""
      ],
      "execution_count": null,
      "outputs": []
    }
  ]
}