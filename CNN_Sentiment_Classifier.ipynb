{
  "nbformat": 4,
  "nbformat_minor": 0,
  "metadata": {
    "colab": {
      "name": "CNN  Sentiment Classifier.ipynb",
      "provenance": [],
      "authorship_tag": "ABX9TyMPGLwZTI9C4ctAIAYi6dZt",
      "include_colab_link": true
    },
    "kernelspec": {
      "name": "python3",
      "display_name": "Python 3"
    },
    "language_info": {
      "name": "python"
    }
  },
  "cells": [
    {
      "cell_type": "markdown",
      "metadata": {
        "id": "view-in-github",
        "colab_type": "text"
      },
      "source": [
        "<a href=\"https://colab.research.google.com/github/Suchitra-V31/Natural_Language_processing/blob/main/CNN_Sentiment_Classifier.ipynb\" target=\"_parent\"><img src=\"https://colab.research.google.com/assets/colab-badge.svg\" alt=\"Open In Colab\"/></a>"
      ]
    },
    {
      "cell_type": "code",
      "metadata": {
        "id": "5azkoVhRIa8u"
      },
      "source": [
        "#load the dependencies\n",
        "import tensorflow\n",
        "from tensorflow import keras\n",
        "from keras.datasets import imdb\n",
        "from keras.preprocessing.sequence import pad_sequences\n",
        "from keras.models import Sequential\n",
        "from keras.layers import Dense,Dropout,Embedding\n",
        "from keras.layers import SpatialDropout1D,Conv1D,GlobalMaxPooling1D\n",
        "from sklearn.metrics import roc_curve,roc_auc_score\n",
        "import pandas as pd\n",
        "import matplotlib.pyplot as plt"
      ],
      "execution_count": 37,
      "outputs": []
    },
    {
      "cell_type": "markdown",
      "metadata": {
        "id": "Q0d0tPKkVTEU"
      },
      "source": [
        "**Set Hyperparameters**"
      ]
    },
    {
      "cell_type": "code",
      "metadata": {
        "id": "B4XJXDIeUXno"
      },
      "source": [
        "#training\n",
        "epochs=4\n",
        "batch_size=128\n",
        "\n",
        "#Embedding \n",
        "n_dim=64\n",
        "n_unique_words=5000\n",
        "max_review_length=400\n",
        "pad_type=trunc_type='pre'\n",
        "drop_embed=0.2\n",
        "\n",
        "#cnn\n",
        "n_conv=256\n",
        "k_conv=3\n",
        "\n",
        "#dense network architecture\n",
        "n_dense=256\n",
        "dropout=0.2"
      ],
      "execution_count": 46,
      "outputs": []
    },
    {
      "cell_type": "markdown",
      "metadata": {
        "id": "GBNYBvb9YTOZ"
      },
      "source": [
        "**Load Data**\n"
      ]
    },
    {
      "cell_type": "code",
      "metadata": {
        "id": "SXXgYwHGfiAi"
      },
      "source": [
        "(X_train,y_train),(X_test,y_test)=imdb.load_data(num_words=n_unique_words)"
      ],
      "execution_count": 39,
      "outputs": []
    },
    {
      "cell_type": "markdown",
      "metadata": {
        "id": "BwRyO-RVY5Cu"
      },
      "source": [
        "**Preprocess Data**"
      ]
    },
    {
      "cell_type": "code",
      "metadata": {
        "id": "-jpYeCVRYzqb"
      },
      "source": [
        "X_train=pad_sequences(X_train,maxlen=max_review_length,padding=pad_type,truncating=trunc_type,value=0)\n",
        "X_test=pad_sequences(X_test,maxlen=max_review_length,padding=pad_type,truncating=trunc_type,value=0)"
      ],
      "execution_count": 40,
      "outputs": []
    },
    {
      "cell_type": "markdown",
      "metadata": {
        "id": "dnUuIY_rZglX"
      },
      "source": [
        "**Design neural network architecture**"
      ]
    },
    {
      "cell_type": "code",
      "metadata": {
        "id": "A0viNsEbZX0X"
      },
      "source": [
        "model=Sequential()\n",
        "#Embedding layer\n",
        "model.add(Embedding(n_unique_words,n_dim,input_length=max_review_length))\n",
        "model.add(SpatialDropout1D(drop_embed))\n",
        "# 1st conv layer\n",
        "model.add(Conv1D(n_conv,k_conv,activation='relu'))\n",
        "model.add(GlobalMaxPooling1D())\n",
        "# 2nd dense layer\n",
        "model.add(Dense(n_dense,activation='relu'))\n",
        "model.add(Dropout(dropout))\n",
        "# o/p layer\n",
        "model.add(Dense(1,activation='sigmoid'))"
      ],
      "execution_count": 41,
      "outputs": []
    },
    {
      "cell_type": "code",
      "metadata": {
        "colab": {
          "base_uri": "https://localhost:8080/"
        },
        "id": "6F6oVM1ua3bF",
        "outputId": "db97da72-4726-4c9c-e197-cab2fe418f27"
      },
      "source": [
        "model.summary()"
      ],
      "execution_count": 42,
      "outputs": [
        {
          "output_type": "stream",
          "text": [
            "Model: \"sequential_5\"\n",
            "_________________________________________________________________\n",
            "Layer (type)                 Output Shape              Param #   \n",
            "=================================================================\n",
            "embedding_4 (Embedding)      (None, 400, 64)           320000    \n",
            "_________________________________________________________________\n",
            "spatial_dropout1d_4 (Spatial (None, 400, 64)           0         \n",
            "_________________________________________________________________\n",
            "conv1d_3 (Conv1D)            (None, 398, 256)          49408     \n",
            "_________________________________________________________________\n",
            "global_max_pooling1d_3 (Glob (None, 256)               0         \n",
            "_________________________________________________________________\n",
            "dense_6 (Dense)              (None, 256)               65792     \n",
            "_________________________________________________________________\n",
            "dropout_3 (Dropout)          (None, 256)               0         \n",
            "_________________________________________________________________\n",
            "dense_7 (Dense)              (None, 1)                 257       \n",
            "=================================================================\n",
            "Total params: 435,457\n",
            "Trainable params: 435,457\n",
            "Non-trainable params: 0\n",
            "_________________________________________________________________\n"
          ],
          "name": "stdout"
        }
      ]
    },
    {
      "cell_type": "markdown",
      "metadata": {
        "id": "iwuC_rACbWBr"
      },
      "source": [
        "**Configure model**\n"
      ]
    },
    {
      "cell_type": "code",
      "metadata": {
        "id": "wRDnTTcKbQzy"
      },
      "source": [
        "model.compile(loss='binary_crossentropy',optimizer='nadam',metrics=['accuracy'])"
      ],
      "execution_count": 43,
      "outputs": []
    },
    {
      "cell_type": "markdown",
      "metadata": {
        "id": "QKq0B_SpboMT"
      },
      "source": [
        "**Train model**"
      ]
    },
    {
      "cell_type": "code",
      "metadata": {
        "colab": {
          "base_uri": "https://localhost:8080/"
        },
        "id": "zq6srwLhbmMg",
        "outputId": "bec6f4c0-9063-43f4-8fb3-61f84581128a"
      },
      "source": [
        "model.fit(X_train,y_train,batch_size=batch_size,epochs=epochs,validation_data=(X_test,y_test))"
      ],
      "execution_count": 28,
      "outputs": [
        {
          "output_type": "stream",
          "text": [
            "Epoch 1/4\n",
            "196/196 [==============================] - 89s 450ms/step - loss: 0.4739 - accuracy: 0.7530 - val_loss: 0.3215 - val_accuracy: 0.8600\n",
            "Epoch 2/4\n",
            "196/196 [==============================] - 88s 449ms/step - loss: 0.2590 - accuracy: 0.8932 - val_loss: 0.2569 - val_accuracy: 0.8942\n",
            "Epoch 3/4\n",
            "196/196 [==============================] - 88s 448ms/step - loss: 0.1829 - accuracy: 0.9310 - val_loss: 0.2765 - val_accuracy: 0.8904\n",
            "Epoch 4/4\n",
            "196/196 [==============================] - 88s 448ms/step - loss: 0.1274 - accuracy: 0.9546 - val_loss: 0.2829 - val_accuracy: 0.8922\n"
          ],
          "name": "stdout"
        },
        {
          "output_type": "execute_result",
          "data": {
            "text/plain": [
              "<keras.callbacks.History at 0x7fa4c2472810>"
            ]
          },
          "metadata": {},
          "execution_count": 28
        }
      ]
    },
    {
      "cell_type": "markdown",
      "metadata": {
        "id": "pcIf7FK8cxxX"
      },
      "source": [
        "**Evaluate model**"
      ]
    },
    {
      "cell_type": "code",
      "metadata": {
        "colab": {
          "base_uri": "https://localhost:8080/"
        },
        "id": "VqXsYIBjb7SO",
        "outputId": "72886381-f320-4a7e-d868-e8afb4d3176c"
      },
      "source": [
        "model.evaluate(X_test,y_test)"
      ],
      "execution_count": 29,
      "outputs": [
        {
          "output_type": "stream",
          "text": [
            "782/782 [==============================] - 22s 28ms/step - loss: 0.2829 - accuracy: 0.8922\n"
          ],
          "name": "stdout"
        },
        {
          "output_type": "execute_result",
          "data": {
            "text/plain": [
              "[0.2829335629940033, 0.8921599984169006]"
            ]
          },
          "metadata": {},
          "execution_count": 29
        }
      ]
    },
    {
      "cell_type": "code",
      "metadata": {
        "id": "LIT8PzM1f0je"
      },
      "source": [
        ""
      ],
      "execution_count": null,
      "outputs": []
    }
  ]
}