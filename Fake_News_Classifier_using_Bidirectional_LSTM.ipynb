{
  "nbformat": 4,
  "nbformat_minor": 0,
  "metadata": {
    "colab": {
      "name": "Fake News Classifier using Bidirectional LSTM.ipynb",
      "provenance": [],
      "collapsed_sections": [],
      "authorship_tag": "ABX9TyME2pG/uGJWAOwfzOaTgiE7",
      "include_colab_link": true
    },
    "kernelspec": {
      "name": "python3",
      "display_name": "Python 3"
    },
    "language_info": {
      "name": "python"
    }
  },
  "cells": [
    {
      "cell_type": "markdown",
      "metadata": {
        "id": "view-in-github",
        "colab_type": "text"
      },
      "source": [
        "<a href=\"https://colab.research.google.com/github/Suchitra-V31/Natural_Language_processing/blob/main/Fake_News_Classifier_using_Bidirectional_LSTM.ipynb\" target=\"_parent\"><img src=\"https://colab.research.google.com/assets/colab-badge.svg\" alt=\"Open In Colab\"/></a>"
      ]
    },
    {
      "cell_type": "markdown",
      "metadata": {
        "id": "jFPWKBgpxAJ4"
      },
      "source": [
        "**Fake News Classifier using Bidirectional LSTM**\n",
        "\n"
      ]
    },
    {
      "cell_type": "markdown",
      "metadata": {
        "id": "8E69WkifxABD"
      },
      "source": [
        "In this notebook we are going to use Fake News Classifier dataset and try to predict whether the given news is fake or not. Fro this we are going to use BidirectionalLSTM."
      ]
    },
    {
      "cell_type": "code",
      "metadata": {
        "id": "WNVZcUeyMQFP"
      },
      "source": [
        "import pandas as pd\n",
        "import numpy as np"
      ],
      "execution_count": null,
      "outputs": []
    },
    {
      "cell_type": "markdown",
      "metadata": {
        "id": "2Aoifg6GNErb"
      },
      "source": [
        "**LOAD DATA**"
      ]
    },
    {
      "cell_type": "code",
      "metadata": {
        "id": "K226QFYRMf3F"
      },
      "source": [
        "data=pd.read_csv('/content/train.csv')"
      ],
      "execution_count": null,
      "outputs": []
    },
    {
      "cell_type": "code",
      "metadata": {
        "colab": {
          "base_uri": "https://localhost:8080/",
          "height": 204
        },
        "id": "XN-2exj_MsU0",
        "outputId": "5dd1ce98-af6e-4647-cbc8-9cf4beaf0ae7"
      },
      "source": [
        "data.head()"
      ],
      "execution_count": null,
      "outputs": [
        {
          "output_type": "execute_result",
          "data": {
            "text/html": [
              "<div>\n",
              "<style scoped>\n",
              "    .dataframe tbody tr th:only-of-type {\n",
              "        vertical-align: middle;\n",
              "    }\n",
              "\n",
              "    .dataframe tbody tr th {\n",
              "        vertical-align: top;\n",
              "    }\n",
              "\n",
              "    .dataframe thead th {\n",
              "        text-align: right;\n",
              "    }\n",
              "</style>\n",
              "<table border=\"1\" class=\"dataframe\">\n",
              "  <thead>\n",
              "    <tr style=\"text-align: right;\">\n",
              "      <th></th>\n",
              "      <th>id</th>\n",
              "      <th>title</th>\n",
              "      <th>author</th>\n",
              "      <th>text</th>\n",
              "      <th>label</th>\n",
              "    </tr>\n",
              "  </thead>\n",
              "  <tbody>\n",
              "    <tr>\n",
              "      <th>0</th>\n",
              "      <td>0</td>\n",
              "      <td>House Dem Aide: We Didn’t Even See Comey’s Let...</td>\n",
              "      <td>Darrell Lucus</td>\n",
              "      <td>House Dem Aide: We Didn’t Even See Comey’s Let...</td>\n",
              "      <td>1</td>\n",
              "    </tr>\n",
              "    <tr>\n",
              "      <th>1</th>\n",
              "      <td>1</td>\n",
              "      <td>FLYNN: Hillary Clinton, Big Woman on Campus - ...</td>\n",
              "      <td>Daniel J. Flynn</td>\n",
              "      <td>Ever get the feeling your life circles the rou...</td>\n",
              "      <td>0</td>\n",
              "    </tr>\n",
              "    <tr>\n",
              "      <th>2</th>\n",
              "      <td>2</td>\n",
              "      <td>Why the Truth Might Get You Fired</td>\n",
              "      <td>Consortiumnews.com</td>\n",
              "      <td>Why the Truth Might Get You Fired October 29, ...</td>\n",
              "      <td>1</td>\n",
              "    </tr>\n",
              "    <tr>\n",
              "      <th>3</th>\n",
              "      <td>3</td>\n",
              "      <td>15 Civilians Killed In Single US Airstrike Hav...</td>\n",
              "      <td>Jessica Purkiss</td>\n",
              "      <td>Videos 15 Civilians Killed In Single US Airstr...</td>\n",
              "      <td>1</td>\n",
              "    </tr>\n",
              "    <tr>\n",
              "      <th>4</th>\n",
              "      <td>4</td>\n",
              "      <td>Iranian woman jailed for fictional unpublished...</td>\n",
              "      <td>Howard Portnoy</td>\n",
              "      <td>Print \\nAn Iranian woman has been sentenced to...</td>\n",
              "      <td>1</td>\n",
              "    </tr>\n",
              "  </tbody>\n",
              "</table>\n",
              "</div>"
            ],
            "text/plain": [
              "   id  ... label\n",
              "0   0  ...     1\n",
              "1   1  ...     0\n",
              "2   2  ...     1\n",
              "3   3  ...     1\n",
              "4   4  ...     1\n",
              "\n",
              "[5 rows x 5 columns]"
            ]
          },
          "metadata": {},
          "execution_count": 3
        }
      ]
    },
    {
      "cell_type": "code",
      "metadata": {
        "colab": {
          "base_uri": "https://localhost:8080/"
        },
        "id": "Kvday_MYMsQE",
        "outputId": "efb7bef7-9496-4f75-ce75-191c5c6e335f"
      },
      "source": [
        "data.shape"
      ],
      "execution_count": null,
      "outputs": [
        {
          "output_type": "execute_result",
          "data": {
            "text/plain": [
              "(20800, 5)"
            ]
          },
          "metadata": {},
          "execution_count": 4
        }
      ]
    },
    {
      "cell_type": "code",
      "metadata": {
        "colab": {
          "base_uri": "https://localhost:8080/"
        },
        "id": "m4P7ttqAMsL_",
        "outputId": "0fbbf440-336f-466f-dc3c-d6ae6beaae3c"
      },
      "source": [
        "data.isnull().sum() # check whether any nan values are present"
      ],
      "execution_count": null,
      "outputs": [
        {
          "output_type": "execute_result",
          "data": {
            "text/plain": [
              "id           0\n",
              "title      558\n",
              "author    1957\n",
              "text        39\n",
              "label        0\n",
              "dtype: int64"
            ]
          },
          "metadata": {},
          "execution_count": 5
        }
      ]
    },
    {
      "cell_type": "code",
      "metadata": {
        "id": "0gI4OR1hMsHa"
      },
      "source": [
        "data=data.dropna() #drop all the nan values"
      ],
      "execution_count": null,
      "outputs": []
    },
    {
      "cell_type": "code",
      "metadata": {
        "id": "t7_PnoQAMsC-"
      },
      "source": [
        "X=data.drop('label',axis=1)\n",
        "y=data['label']"
      ],
      "execution_count": null,
      "outputs": []
    },
    {
      "cell_type": "code",
      "metadata": {
        "colab": {
          "base_uri": "https://localhost:8080/"
        },
        "id": "XW9Qm6IkMr9l",
        "outputId": "c4bd3cad-cbfc-43ac-81a3-6c929e840793"
      },
      "source": [
        "X.shape,y.shape"
      ],
      "execution_count": null,
      "outputs": [
        {
          "output_type": "execute_result",
          "data": {
            "text/plain": [
              "((18285, 4), (18285,))"
            ]
          },
          "metadata": {},
          "execution_count": 8
        }
      ]
    },
    {
      "cell_type": "code",
      "metadata": {
        "id": "DIYI-4ryMr3z"
      },
      "source": [
        "# import the libraries\n",
        "import tensorflow\n",
        "from tensorflow import keras\n",
        "from keras.models import Sequential\n",
        "from keras.preprocessing.sequence import pad_sequences\n",
        "from keras.preprocessing.text import one_hot\n",
        "from keras.layers import Dense,Embedding,LSTM,Bidirectional"
      ],
      "execution_count": null,
      "outputs": []
    },
    {
      "cell_type": "code",
      "metadata": {
        "colab": {
          "base_uri": "https://localhost:8080/"
        },
        "id": "ayA5-JEVMrqF",
        "outputId": "33332070-b434-4572-f641-5cbddf01e4cd"
      },
      "source": [
        "nltk.download('stopwords')"
      ],
      "execution_count": null,
      "outputs": [
        {
          "output_type": "stream",
          "text": [
            "[nltk_data] Downloading package stopwords to /root/nltk_data...\n",
            "[nltk_data]   Unzipping corpora/stopwords.zip.\n"
          ],
          "name": "stdout"
        },
        {
          "output_type": "execute_result",
          "data": {
            "text/plain": [
              "True"
            ]
          },
          "metadata": {},
          "execution_count": 11
        }
      ]
    },
    {
      "cell_type": "markdown",
      "metadata": {
        "id": "-SagLQkAOyzD"
      },
      "source": [
        "**Set Hyperparameters**"
      ]
    },
    {
      "cell_type": "code",
      "metadata": {
        "id": "v9t-aIiVMrls"
      },
      "source": [
        "#train\n",
        "epoch=10\n",
        "batch_size=64\n",
        "#embedding\n",
        "n_dim=40\n",
        "n_unique_words=5000\n",
        "max_review_len=20\n",
        "pad_type='pre'\n",
        "#lstm\n",
        "n_lstm=100\n",
        "n_drop=0.3\n",
        "\n"
      ],
      "execution_count": null,
      "outputs": []
    },
    {
      "cell_type": "markdown",
      "metadata": {
        "id": "LM9HJ8atPnxm"
      },
      "source": [
        "**Data Preprocessing**\n"
      ]
    },
    {
      "cell_type": "code",
      "metadata": {
        "id": "RIa_BkQhMrhI"
      },
      "source": [
        "messages=X.copy()\n",
        "messages.reset_index(inplace=True)"
      ],
      "execution_count": null,
      "outputs": []
    },
    {
      "cell_type": "code",
      "metadata": {
        "id": "HBtI_3yUQjX2"
      },
      "source": [
        "from nltk.stem.porter import PorterStemmer\n"
      ],
      "execution_count": null,
      "outputs": []
    },
    {
      "cell_type": "code",
      "metadata": {
        "id": "38To6Y4rMrc8"
      },
      "source": [
        "stemmer=PorterStemmer()"
      ],
      "execution_count": null,
      "outputs": []
    },
    {
      "cell_type": "code",
      "metadata": {
        "id": "G3_Olwl4MrYu"
      },
      "source": [
        "corpus=[]\n",
        "for i in range(0,len(messages)):\n",
        "  review=re.sub('[a-zA-Z]',' ',messages['title'][i])\n",
        "  review=review.lower()\n",
        "  review=review.split()\n",
        "  review=[stemmer.stem(word) for word in review if word not in stopwords.words('english')]\n",
        "  review=' '.join(review)\n",
        "  corpus.append(review)"
      ],
      "execution_count": null,
      "outputs": []
    },
    {
      "cell_type": "code",
      "metadata": {
        "id": "k0F6GBj9MrTm"
      },
      "source": [
        "one_hot_repr=[one_hot(words,n_unique_words) for words in corpus] #to convert text to numbers"
      ],
      "execution_count": null,
      "outputs": []
    },
    {
      "cell_type": "code",
      "metadata": {
        "id": "qFiOANsjMrO6"
      },
      "source": [
        "embed_doc=pad_sequences(one_hot_repr,padding=pad_type,maxlen=max_review_len)"
      ],
      "execution_count": null,
      "outputs": []
    },
    {
      "cell_type": "markdown",
      "metadata": {
        "id": "OXt0MkhvTFQT"
      },
      "source": [
        "**Design Neural Network Architecture**"
      ]
    },
    {
      "cell_type": "code",
      "metadata": {
        "id": "THPADcdwMrKp"
      },
      "source": [
        "model=Sequential()\n",
        "model.add(Embedding(n_unique_words,n_dim,input_length=max_review_len))\n",
        "model.add(Bidirectional(LSTM(n_lstm,dropout=n_drop)))\n",
        "model.add(Dense(1,activation='sigmoid'))"
      ],
      "execution_count": null,
      "outputs": []
    },
    {
      "cell_type": "code",
      "metadata": {
        "colab": {
          "base_uri": "https://localhost:8080/"
        },
        "id": "xjCnaprZr-us",
        "outputId": "1af3273e-33b0-4520-a575-1d408510a18d"
      },
      "source": [
        "model.summary()"
      ],
      "execution_count": null,
      "outputs": [
        {
          "output_type": "stream",
          "text": [
            "Model: \"sequential_3\"\n",
            "_________________________________________________________________\n",
            "Layer (type)                 Output Shape              Param #   \n",
            "=================================================================\n",
            "embedding_3 (Embedding)      (None, 20, 40)            200000    \n",
            "_________________________________________________________________\n",
            "bidirectional_3 (Bidirection (None, 200)               112800    \n",
            "_________________________________________________________________\n",
            "dense_3 (Dense)              (None, 1)                 201       \n",
            "=================================================================\n",
            "Total params: 313,001\n",
            "Trainable params: 313,001\n",
            "Non-trainable params: 0\n",
            "_________________________________________________________________\n"
          ],
          "name": "stdout"
        }
      ]
    },
    {
      "cell_type": "markdown",
      "metadata": {
        "id": "YoU_mbFDUID4"
      },
      "source": [
        "**Compile Model**"
      ]
    },
    {
      "cell_type": "code",
      "metadata": {
        "id": "O9xOZFaNMrFq"
      },
      "source": [
        "model.compile(loss='binary_crossentropy',optimizer='adam',metrics=['accuracy'])"
      ],
      "execution_count": null,
      "outputs": []
    },
    {
      "cell_type": "code",
      "metadata": {
        "id": "kBtocZqbUdOV"
      },
      "source": [
        "X_final=np.array(embed_doc)\n",
        "y_final=np.array(y)"
      ],
      "execution_count": null,
      "outputs": []
    },
    {
      "cell_type": "markdown",
      "metadata": {
        "id": "oWc7NZoMxjbI"
      },
      "source": [
        "**Split the data into train/test**"
      ]
    },
    {
      "cell_type": "code",
      "metadata": {
        "id": "obJiJAyWUdJ2"
      },
      "source": [
        "from sklearn.model_selection import train_test_split"
      ],
      "execution_count": null,
      "outputs": []
    },
    {
      "cell_type": "code",
      "metadata": {
        "id": "62CktlalUc_a"
      },
      "source": [
        "X_train,X_test,y_train,y_test=train_test_split(X_final,y_final,test_size=0.33,random_state=42)"
      ],
      "execution_count": null,
      "outputs": []
    },
    {
      "cell_type": "markdown",
      "metadata": {
        "id": "l7AkOnZ8UVOu"
      },
      "source": [
        "**TRAIN!!!!**"
      ]
    },
    {
      "cell_type": "code",
      "metadata": {
        "colab": {
          "base_uri": "https://localhost:8080/"
        },
        "id": "kTYUeMXyMq23",
        "outputId": "ab75b8f1-8a5e-47c3-ea90-59bcdcd703e0"
      },
      "source": [
        "model.fit(X_train,y_train,batch_size=batch_size,epochs=epoch,validation_data=(X_test,y_test))"
      ],
      "execution_count": null,
      "outputs": [
        {
          "output_type": "stream",
          "text": [
            "Epoch 1/10\n",
            "192/192 [==============================] - 5s 12ms/step - loss: 0.5630 - accuracy: 0.6765 - val_loss: 0.5763 - val_accuracy: 0.6696\n",
            "Epoch 2/10\n",
            "192/192 [==============================] - 2s 9ms/step - loss: 0.5607 - accuracy: 0.6774 - val_loss: 0.5751 - val_accuracy: 0.6706\n",
            "Epoch 3/10\n",
            "192/192 [==============================] - 2s 9ms/step - loss: 0.5591 - accuracy: 0.6762 - val_loss: 0.5778 - val_accuracy: 0.6701\n",
            "Epoch 4/10\n",
            "192/192 [==============================] - 2s 8ms/step - loss: 0.5575 - accuracy: 0.6771 - val_loss: 0.5760 - val_accuracy: 0.6699\n",
            "Epoch 5/10\n",
            "192/192 [==============================] - 2s 8ms/step - loss: 0.5563 - accuracy: 0.6778 - val_loss: 0.5773 - val_accuracy: 0.6691\n",
            "Epoch 6/10\n",
            "192/192 [==============================] - 2s 9ms/step - loss: 0.5559 - accuracy: 0.6773 - val_loss: 0.5761 - val_accuracy: 0.6673\n",
            "Epoch 7/10\n",
            "192/192 [==============================] - 2s 9ms/step - loss: 0.5559 - accuracy: 0.6777 - val_loss: 0.5768 - val_accuracy: 0.6681\n",
            "Epoch 8/10\n",
            "192/192 [==============================] - 2s 8ms/step - loss: 0.5541 - accuracy: 0.6788 - val_loss: 0.5757 - val_accuracy: 0.6676\n",
            "Epoch 9/10\n",
            "192/192 [==============================] - 2s 9ms/step - loss: 0.5539 - accuracy: 0.6783 - val_loss: 0.5752 - val_accuracy: 0.6669\n",
            "Epoch 10/10\n",
            "192/192 [==============================] - 2s 8ms/step - loss: 0.5527 - accuracy: 0.6779 - val_loss: 0.5785 - val_accuracy: 0.6679\n"
          ],
          "name": "stdout"
        },
        {
          "output_type": "execute_result",
          "data": {
            "text/plain": [
              "<keras.callbacks.History at 0x7fbd0dded650>"
            ]
          },
          "metadata": {},
          "execution_count": 74
        }
      ]
    },
    {
      "cell_type": "markdown",
      "metadata": {
        "id": "IAIgXbwMxp72"
      },
      "source": [
        "We could see that our model has predicted with 67% accuracy."
      ]
    }
  ]
}