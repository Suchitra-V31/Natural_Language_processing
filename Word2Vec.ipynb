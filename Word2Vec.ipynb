{
  "nbformat": 4,
  "nbformat_minor": 0,
  "metadata": {
    "colab": {
      "name": "Word2Vec.ipynb",
      "provenance": [],
      "authorship_tag": "ABX9TyPpjfooiAhW3Z8IavVERe77",
      "include_colab_link": true
    },
    "kernelspec": {
      "name": "python3",
      "display_name": "Python 3"
    },
    "language_info": {
      "name": "python"
    }
  },
  "cells": [
    {
      "cell_type": "markdown",
      "metadata": {
        "id": "view-in-github",
        "colab_type": "text"
      },
      "source": [
        "<a href=\"https://colab.research.google.com/github/Suchitra-V31/Natural_Language_processing/blob/main/Word2Vec.ipynb\" target=\"_parent\"><img src=\"https://colab.research.google.com/assets/colab-badge.svg\" alt=\"Open In Colab\"/></a>"
      ]
    },
    {
      "cell_type": "code",
      "metadata": {
        "id": "Tc3MVawNfKPp"
      },
      "source": [
        "#import the libraries\n",
        "import nltk\n",
        "from nltk import word_tokenize,sent_tokenize\n",
        "import gensim\n",
        "from gensim.models.word2vec import Word2Vec\n",
        "from sklearn.manifold import TSNE\n",
        "import pandas as pd\n",
        "from bokeh.io import output_notebook\n",
        "from bokeh.plotting import show,figure\n"
      ],
      "execution_count": 2,
      "outputs": []
    },
    {
      "cell_type": "code",
      "metadata": {
        "colab": {
          "base_uri": "https://localhost:8080/"
        },
        "id": "4bhHV9ycgmsZ",
        "outputId": "b4ec7144-d41e-4a96-ddd3-dd4acdce4d42"
      },
      "source": [
        "nltk.download('punkt') #English language tokenizer"
      ],
      "execution_count": 3,
      "outputs": [
        {
          "output_type": "stream",
          "text": [
            "[nltk_data] Downloading package punkt to /root/nltk_data...\n",
            "[nltk_data]   Unzipping tokenizers/punkt.zip.\n"
          ],
          "name": "stdout"
        },
        {
          "output_type": "execute_result",
          "data": {
            "text/plain": [
              "True"
            ]
          },
          "metadata": {},
          "execution_count": 3
        }
      ]
    },
    {
      "cell_type": "code",
      "metadata": {
        "colab": {
          "base_uri": "https://localhost:8080/"
        },
        "id": "NDD7pbUpg8RX",
        "outputId": "d3aa46ec-c515-47c5-ab52-33672cf6a12d"
      },
      "source": [
        "#let us load our data\n",
        "nltk.download('gutenberg')\n"
      ],
      "execution_count": 4,
      "outputs": [
        {
          "output_type": "stream",
          "text": [
            "[nltk_data] Downloading package gutenberg to /root/nltk_data...\n",
            "[nltk_data]   Unzipping corpora/gutenberg.zip.\n"
          ],
          "name": "stdout"
        },
        {
          "output_type": "execute_result",
          "data": {
            "text/plain": [
              "True"
            ]
          },
          "metadata": {},
          "execution_count": 4
        }
      ]
    },
    {
      "cell_type": "code",
      "metadata": {
        "id": "_AnmgA1-hJn4"
      },
      "source": [
        "from nltk.corpus import gutenberg"
      ],
      "execution_count": 6,
      "outputs": []
    },
    {
      "cell_type": "code",
      "metadata": {
        "colab": {
          "base_uri": "https://localhost:8080/"
        },
        "id": "h9m40vIHhQsj",
        "outputId": "e6bb6aa3-2f15-4946-9b50-003dc9ec5da1"
      },
      "source": [
        "len(gutenberg.fileids())"
      ],
      "execution_count": 7,
      "outputs": [
        {
          "output_type": "execute_result",
          "data": {
            "text/plain": [
              "18"
            ]
          },
          "metadata": {},
          "execution_count": 7
        }
      ]
    },
    {
      "cell_type": "code",
      "metadata": {
        "colab": {
          "base_uri": "https://localhost:8080/"
        },
        "id": "TeMhG3Wbhaqm",
        "outputId": "c878c9cc-662f-4aa2-eeff-527349348595"
      },
      "source": [
        "gutenberg.fileids()"
      ],
      "execution_count": 8,
      "outputs": [
        {
          "output_type": "execute_result",
          "data": {
            "text/plain": [
              "['austen-emma.txt',\n",
              " 'austen-persuasion.txt',\n",
              " 'austen-sense.txt',\n",
              " 'bible-kjv.txt',\n",
              " 'blake-poems.txt',\n",
              " 'bryant-stories.txt',\n",
              " 'burgess-busterbrown.txt',\n",
              " 'carroll-alice.txt',\n",
              " 'chesterton-ball.txt',\n",
              " 'chesterton-brown.txt',\n",
              " 'chesterton-thursday.txt',\n",
              " 'edgeworth-parents.txt',\n",
              " 'melville-moby_dick.txt',\n",
              " 'milton-paradise.txt',\n",
              " 'shakespeare-caesar.txt',\n",
              " 'shakespeare-hamlet.txt',\n",
              " 'shakespeare-macbeth.txt',\n",
              " 'whitman-leaves.txt']"
            ]
          },
          "metadata": {},
          "execution_count": 8
        }
      ]
    },
    {
      "cell_type": "markdown",
      "metadata": {
        "id": "tQBALPhRhnu4"
      },
      "source": [
        "**Tokenize Text**\n"
      ]
    },
    {
      "cell_type": "code",
      "metadata": {
        "id": "2dF42BDlhdqY"
      },
      "source": [
        "guberg_sent_tokenize=sent_tokenize(gutenberg.raw())"
      ],
      "execution_count": 9,
      "outputs": []
    },
    {
      "cell_type": "code",
      "metadata": {
        "colab": {
          "base_uri": "https://localhost:8080/"
        },
        "id": "go1af_Yphyhl",
        "outputId": "51f4ff26-759e-49ce-87e1-7378700f4732"
      },
      "source": [
        "guberg_sent_tokenize[0:6]"
      ],
      "execution_count": 11,
      "outputs": [
        {
          "output_type": "execute_result",
          "data": {
            "text/plain": [
              "['[Emma by Jane Austen 1816]\\n\\nVOLUME I\\n\\nCHAPTER I\\n\\n\\nEmma Woodhouse, handsome, clever, and rich, with a comfortable home\\nand happy disposition, seemed to unite some of the best blessings\\nof existence; and had lived nearly twenty-one years in the world\\nwith very little to distress or vex her.',\n",
              " \"She was the youngest of the two daughters of a most affectionate,\\nindulgent father; and had, in consequence of her sister's marriage,\\nbeen mistress of his house from a very early period.\",\n",
              " 'Her mother\\nhad died too long ago for her to have more than an indistinct\\nremembrance of her caresses; and her place had been supplied\\nby an excellent woman as governess, who had fallen little short\\nof a mother in affection.',\n",
              " \"Sixteen years had Miss Taylor been in Mr. Woodhouse's family,\\nless as a governess than a friend, very fond of both daughters,\\nbut particularly of Emma.\",\n",
              " 'Between _them_ it was more the intimacy\\nof sisters.',\n",
              " \"Even before Miss Taylor had ceased to hold the nominal\\noffice of governess, the mildness of her temper had hardly allowed\\nher to impose any restraint; and the shadow of authority being\\nnow long passed away, they had been living together as friend and\\nfriend very mutually attached, and Emma doing just what she liked;\\nhighly esteeming Miss Taylor's judgment, but directed chiefly by\\nher own.\"]"
            ]
          },
          "metadata": {},
          "execution_count": 11
        }
      ]
    },
    {
      "cell_type": "code",
      "metadata": {
        "colab": {
          "base_uri": "https://localhost:8080/",
          "height": 52
        },
        "id": "Ydeyiuhzh27M",
        "outputId": "4593d8ef-9d93-4104-b210-e9c2285d80a2"
      },
      "source": [
        "guberg_sent_tokenize[1]"
      ],
      "execution_count": 13,
      "outputs": [
        {
          "output_type": "execute_result",
          "data": {
            "application/vnd.google.colaboratory.intrinsic+json": {
              "type": "string"
            },
            "text/plain": [
              "\"She was the youngest of the two daughters of a most affectionate,\\nindulgent father; and had, in consequence of her sister's marriage,\\nbeen mistress of his house from a very early period.\""
            ]
          },
          "metadata": {},
          "execution_count": 13
        }
      ]
    },
    {
      "cell_type": "code",
      "metadata": {
        "colab": {
          "base_uri": "https://localhost:8080/"
        },
        "id": "ziN4rOHAiA8e",
        "outputId": "ae0c8115-6562-40b7-89e3-c837d615c67c"
      },
      "source": [
        "word_tokenize(guberg_sent_tokenize[1])"
      ],
      "execution_count": 14,
      "outputs": [
        {
          "output_type": "execute_result",
          "data": {
            "text/plain": [
              "['She',\n",
              " 'was',\n",
              " 'the',\n",
              " 'youngest',\n",
              " 'of',\n",
              " 'the',\n",
              " 'two',\n",
              " 'daughters',\n",
              " 'of',\n",
              " 'a',\n",
              " 'most',\n",
              " 'affectionate',\n",
              " ',',\n",
              " 'indulgent',\n",
              " 'father',\n",
              " ';',\n",
              " 'and',\n",
              " 'had',\n",
              " ',',\n",
              " 'in',\n",
              " 'consequence',\n",
              " 'of',\n",
              " 'her',\n",
              " 'sister',\n",
              " \"'s\",\n",
              " 'marriage',\n",
              " ',',\n",
              " 'been',\n",
              " 'mistress',\n",
              " 'of',\n",
              " 'his',\n",
              " 'house',\n",
              " 'from',\n",
              " 'a',\n",
              " 'very',\n",
              " 'early',\n",
              " 'period',\n",
              " '.']"
            ]
          },
          "metadata": {},
          "execution_count": 14
        }
      ]
    },
    {
      "cell_type": "markdown",
      "metadata": {
        "id": "sxLP2X53iKt0"
      },
      "source": [
        "Now we clearly understood the difference between sent and word tokenize."
      ]
    },
    {
      "cell_type": "code",
      "metadata": {
        "id": "M-Ay08SZiHWS"
      },
      "source": [
        "# a convenient method that handles newlines, as well as tokenizing sentences and words in one shot\n",
        "gberg_sents = gutenberg.sents()"
      ],
      "execution_count": 15,
      "outputs": []
    },
    {
      "cell_type": "code",
      "metadata": {
        "colab": {
          "base_uri": "https://localhost:8080/"
        },
        "id": "Kf8FBo8_imgi",
        "outputId": "893f80ce-28b3-48a5-cc85-89fe3fba2942"
      },
      "source": [
        "gberg_sents[0:6]"
      ],
      "execution_count": 16,
      "outputs": [
        {
          "output_type": "execute_result",
          "data": {
            "text/plain": [
              "[['[', 'Emma', 'by', 'Jane', 'Austen', '1816', ']'],\n",
              " ['VOLUME', 'I'],\n",
              " ['CHAPTER', 'I'],\n",
              " ['Emma',\n",
              "  'Woodhouse',\n",
              "  ',',\n",
              "  'handsome',\n",
              "  ',',\n",
              "  'clever',\n",
              "  ',',\n",
              "  'and',\n",
              "  'rich',\n",
              "  ',',\n",
              "  'with',\n",
              "  'a',\n",
              "  'comfortable',\n",
              "  'home',\n",
              "  'and',\n",
              "  'happy',\n",
              "  'disposition',\n",
              "  ',',\n",
              "  'seemed',\n",
              "  'to',\n",
              "  'unite',\n",
              "  'some',\n",
              "  'of',\n",
              "  'the',\n",
              "  'best',\n",
              "  'blessings',\n",
              "  'of',\n",
              "  'existence',\n",
              "  ';',\n",
              "  'and',\n",
              "  'had',\n",
              "  'lived',\n",
              "  'nearly',\n",
              "  'twenty',\n",
              "  '-',\n",
              "  'one',\n",
              "  'years',\n",
              "  'in',\n",
              "  'the',\n",
              "  'world',\n",
              "  'with',\n",
              "  'very',\n",
              "  'little',\n",
              "  'to',\n",
              "  'distress',\n",
              "  'or',\n",
              "  'vex',\n",
              "  'her',\n",
              "  '.'],\n",
              " ['She',\n",
              "  'was',\n",
              "  'the',\n",
              "  'youngest',\n",
              "  'of',\n",
              "  'the',\n",
              "  'two',\n",
              "  'daughters',\n",
              "  'of',\n",
              "  'a',\n",
              "  'most',\n",
              "  'affectionate',\n",
              "  ',',\n",
              "  'indulgent',\n",
              "  'father',\n",
              "  ';',\n",
              "  'and',\n",
              "  'had',\n",
              "  ',',\n",
              "  'in',\n",
              "  'consequence',\n",
              "  'of',\n",
              "  'her',\n",
              "  'sister',\n",
              "  \"'\",\n",
              "  's',\n",
              "  'marriage',\n",
              "  ',',\n",
              "  'been',\n",
              "  'mistress',\n",
              "  'of',\n",
              "  'his',\n",
              "  'house',\n",
              "  'from',\n",
              "  'a',\n",
              "  'very',\n",
              "  'early',\n",
              "  'period',\n",
              "  '.'],\n",
              " ['Her',\n",
              "  'mother',\n",
              "  'had',\n",
              "  'died',\n",
              "  'too',\n",
              "  'long',\n",
              "  'ago',\n",
              "  'for',\n",
              "  'her',\n",
              "  'to',\n",
              "  'have',\n",
              "  'more',\n",
              "  'than',\n",
              "  'an',\n",
              "  'indistinct',\n",
              "  'remembrance',\n",
              "  'of',\n",
              "  'her',\n",
              "  'caresses',\n",
              "  ';',\n",
              "  'and',\n",
              "  'her',\n",
              "  'place',\n",
              "  'had',\n",
              "  'been',\n",
              "  'supplied',\n",
              "  'by',\n",
              "  'an',\n",
              "  'excellent',\n",
              "  'woman',\n",
              "  'as',\n",
              "  'governess',\n",
              "  ',',\n",
              "  'who',\n",
              "  'had',\n",
              "  'fallen',\n",
              "  'little',\n",
              "  'short',\n",
              "  'of',\n",
              "  'a',\n",
              "  'mother',\n",
              "  'in',\n",
              "  'affection',\n",
              "  '.']]"
            ]
          },
          "metadata": {},
          "execution_count": 16
        }
      ]
    },
    {
      "cell_type": "markdown",
      "metadata": {
        "id": "6k7GNja2jIbT"
      },
      "source": [
        "**Run word2vec**\n"
      ]
    },
    {
      "cell_type": "code",
      "metadata": {
        "id": "l3eSgJ35irV2"
      },
      "source": [
        "model=Word2Vec(sentences=gberg_sents,size=64,window=10,min_count=5,workers=8,sg=1)"
      ],
      "execution_count": 17,
      "outputs": []
    },
    {
      "cell_type": "markdown",
      "metadata": {
        "id": "xB1YTQfHjsmy"
      },
      "source": [
        "**Explore model**"
      ]
    },
    {
      "cell_type": "code",
      "metadata": {
        "colab": {
          "base_uri": "https://localhost:8080/"
        },
        "id": "nSbzfn5gjWfH",
        "outputId": "4caa7736-2ae1-460b-928d-416aabc97e74"
      },
      "source": [
        "model.wv['dog']"
      ],
      "execution_count": 18,
      "outputs": [
        {
          "output_type": "execute_result",
          "data": {
            "text/plain": [
              "array([ 0.05980394,  0.07122731,  0.45343778, -0.3077306 , -0.00565275,\n",
              "       -0.54160273, -0.10249903, -0.16086523, -0.04029055,  0.28833053,\n",
              "        0.11056231, -0.25321725, -0.23620997,  0.13145499, -0.09968131,\n",
              "        0.22248249, -0.8444082 ,  0.20023961, -0.39281198,  0.25289404,\n",
              "        0.27200764, -0.33266136, -0.22263204, -0.4287772 ,  0.6506771 ,\n",
              "       -0.2868854 ,  0.10366039,  0.11454537, -0.23087522, -0.00140358,\n",
              "       -0.14852151, -0.30403128, -0.24846022, -0.29396388, -0.01956779,\n",
              "        0.12094762, -0.17546487, -0.20266636,  0.04667315,  0.08962547,\n",
              "       -0.21327536, -0.08734782,  0.12179286,  0.29822913,  0.7345373 ,\n",
              "       -0.30192742, -0.07863507, -0.08664005, -0.10271296, -0.33154202,\n",
              "        0.41943622, -0.3133907 ,  0.1511286 ,  0.35130674, -0.5271047 ,\n",
              "        0.01467333, -0.5146021 ,  0.07990742,  0.04610692,  0.32409057,\n",
              "       -0.4436335 , -0.3865847 , -0.21682152,  0.09396874], dtype=float32)"
            ]
          },
          "metadata": {},
          "execution_count": 18
        }
      ]
    },
    {
      "cell_type": "code",
      "metadata": {
        "colab": {
          "base_uri": "https://localhost:8080/"
        },
        "id": "Mrf73bQkkKN7",
        "outputId": "20b6d022-1677-4bcf-d9ef-8b7766ecf78d"
      },
      "source": [
        "len(model.wv['dog'])"
      ],
      "execution_count": 20,
      "outputs": [
        {
          "output_type": "execute_result",
          "data": {
            "text/plain": [
              "64"
            ]
          },
          "metadata": {},
          "execution_count": 20
        }
      ]
    },
    {
      "cell_type": "code",
      "metadata": {
        "colab": {
          "base_uri": "https://localhost:8080/"
        },
        "id": "h04Fp1v3j7Xf",
        "outputId": "47e376dc-d1d3-43d1-88b4-223fa95f8422"
      },
      "source": [
        "model.wv.most_similar('dog')"
      ],
      "execution_count": 19,
      "outputs": [
        {
          "output_type": "execute_result",
          "data": {
            "text/plain": [
              "[('puppy', 0.8302803039550781),\n",
              " ('chimney', 0.7773364782333374),\n",
              " ('sweeper', 0.7668948769569397),\n",
              " ('broth', 0.7621858716011047),\n",
              " ('whip', 0.7556876540184021),\n",
              " ('thief', 0.7530255913734436),\n",
              " ('cage', 0.7529973983764648),\n",
              " ('boy', 0.7479009628295898),\n",
              " ('kick', 0.745233416557312),\n",
              " ('gallon', 0.7409929037094116)]"
            ]
          },
          "metadata": {},
          "execution_count": 19
        }
      ]
    },
    {
      "cell_type": "code",
      "metadata": {
        "colab": {
          "base_uri": "https://localhost:8080/"
        },
        "id": "VG9ZH_L7kE8F",
        "outputId": "d6c4ab72-932d-4642-850c-94670fd4b60d"
      },
      "source": [
        "model.wv.most_similar('thing')"
      ],
      "execution_count": 21,
      "outputs": [
        {
          "output_type": "execute_result",
          "data": {
            "text/plain": [
              "[('creature', 0.6999353766441345),\n",
              " ('person', 0.6644020676612854),\n",
              " ('miracle', 0.6551187038421631),\n",
              " ('man', 0.6548166275024414),\n",
              " ('dreamer', 0.6400089263916016),\n",
              " ('abominable', 0.6389553546905518),\n",
              " ('convert', 0.6360900402069092),\n",
              " ('ought', 0.6316641569137573),\n",
              " ('inferred', 0.6306948661804199),\n",
              " ('creditor', 0.6231404542922974)]"
            ]
          },
          "metadata": {},
          "execution_count": 21
        }
      ]
    },
    {
      "cell_type": "code",
      "metadata": {
        "colab": {
          "base_uri": "https://localhost:8080/",
          "height": 89
        },
        "id": "U0ctuSD7kRKT",
        "outputId": "6ecb6250-5f7e-4707-bb6f-8cf476a61324"
      },
      "source": [
        "model.wv.doesnt_match('father mother dog'.split())"
      ],
      "execution_count": 23,
      "outputs": [
        {
          "output_type": "stream",
          "text": [
            "/usr/local/lib/python3.7/dist-packages/gensim/models/keyedvectors.py:895: FutureWarning: arrays to stack must be passed as a \"sequence\" type such as list or tuple. Support for non-sequence iterables such as generators is deprecated as of NumPy 1.16 and will raise an error in the future.\n",
            "  vectors = vstack(self.word_vec(word, use_norm=True) for word in used_words).astype(REAL)\n"
          ],
          "name": "stderr"
        },
        {
          "output_type": "execute_result",
          "data": {
            "application/vnd.google.colaboratory.intrinsic+json": {
              "type": "string"
            },
            "text/plain": [
              "'dog'"
            ]
          },
          "metadata": {},
          "execution_count": 23
        }
      ]
    },
    {
      "cell_type": "code",
      "metadata": {
        "colab": {
          "base_uri": "https://localhost:8080/"
        },
        "id": "gJB2ASUWkbmE",
        "outputId": "7ab8df51-d5af-4e5f-cdea-6c68660c7716"
      },
      "source": [
        "# close, but not quite; distinctly in female direction: \n",
        "model.wv.most_similar(positive=['father', 'woman'], negative=['man'])"
      ],
      "execution_count": 24,
      "outputs": [
        {
          "output_type": "execute_result",
          "data": {
            "text/plain": [
              "[('husband', 0.7914562821388245),\n",
              " ('wife', 0.7905358076095581),\n",
              " ('daughter', 0.7878415584564209),\n",
              " ('mother', 0.7719815969467163),\n",
              " ('sister', 0.7632389068603516),\n",
              " ('brother', 0.7349432706832886),\n",
              " ('Rachel', 0.7171083688735962),\n",
              " ('Tamar', 0.6882691383361816),\n",
              " ('Sarai', 0.6832181215286255),\n",
              " ('daughters', 0.6801373958587646)]"
            ]
          },
          "metadata": {},
          "execution_count": 24
        }
      ]
    },
    {
      "cell_type": "code",
      "metadata": {
        "colab": {
          "base_uri": "https://localhost:8080/"
        },
        "id": "PZCJgiQrklfB",
        "outputId": "4250d762-3280-49fc-a75d-3f6b7acba59e"
      },
      "source": [
        "# more confident about this one: \n",
        "model.wv.most_similar(positive=['son', 'woman'], negative=['man'])"
      ],
      "execution_count": 25,
      "outputs": [
        {
          "output_type": "execute_result",
          "data": {
            "text/plain": [
              "[('daughter', 0.7614708542823792),\n",
              " ('Leah', 0.7568139433860779),\n",
              " ('Sarai', 0.7409815788269043),\n",
              " ('wife', 0.7408413887023926),\n",
              " ('Hagar', 0.730961799621582),\n",
              " ('Rachel', 0.7303434014320374),\n",
              " ('Bethuel', 0.7193211913108826),\n",
              " ('Bilhah', 0.7143391966819763),\n",
              " ('Zilpah', 0.7115381956100464),\n",
              " ('Sarah', 0.7095598578453064)]"
            ]
          },
          "metadata": {},
          "execution_count": 25
        }
      ]
    },
    {
      "cell_type": "code",
      "metadata": {
        "colab": {
          "base_uri": "https://localhost:8080/"
        },
        "id": "Q3sR5o1wkzYm",
        "outputId": "a06a8edd-0af0-40d3-d914-2fee2f043113"
      },
      "source": [
        "model.wv.similarity('dog','cat')"
      ],
      "execution_count": 27,
      "outputs": [
        {
          "output_type": "execute_result",
          "data": {
            "text/plain": [
              "0.6796903"
            ]
          },
          "metadata": {},
          "execution_count": 27
        }
      ]
    },
    {
      "cell_type": "code",
      "metadata": {
        "colab": {
          "base_uri": "https://localhost:8080/"
        },
        "id": "Mtslr-VVk9hL",
        "outputId": "be363527-a89c-4399-cc16-a3285b094293"
      },
      "source": [
        "model.wv.similarity('father','mother')"
      ],
      "execution_count": 29,
      "outputs": [
        {
          "output_type": "execute_result",
          "data": {
            "text/plain": [
              "0.862445"
            ]
          },
          "metadata": {},
          "execution_count": 29
        }
      ]
    },
    {
      "cell_type": "markdown",
      "metadata": {
        "id": "pTXba1-jlKdT"
      },
      "source": [
        "**Reduce dimension using t-SNE**"
      ]
    },
    {
      "cell_type": "code",
      "metadata": {
        "colab": {
          "base_uri": "https://localhost:8080/"
        },
        "id": "qS6H7ngRlEaH",
        "outputId": "e07420bb-de5c-4e46-9092-6e4464a445cf"
      },
      "source": [
        "len(model.wv.vocab)"
      ],
      "execution_count": 30,
      "outputs": [
        {
          "output_type": "execute_result",
          "data": {
            "text/plain": [
              "17011"
            ]
          },
          "metadata": {},
          "execution_count": 30
        }
      ]
    },
    {
      "cell_type": "code",
      "metadata": {
        "id": "ZkexJmYClbx2"
      },
      "source": [
        "X=model.wv[model.wv.vocab]"
      ],
      "execution_count": 31,
      "outputs": []
    },
    {
      "cell_type": "code",
      "metadata": {
        "id": "Z5oilLK7li7a"
      },
      "source": [
        "t_sne=TSNE(n_components=2,n_iter=1000)"
      ],
      "execution_count": 33,
      "outputs": []
    },
    {
      "cell_type": "code",
      "metadata": {
        "id": "1hhTtls5lrFI"
      },
      "source": [
        "X_2d=t_sne.fit_transform(X)"
      ],
      "execution_count": 34,
      "outputs": []
    },
    {
      "cell_type": "code",
      "metadata": {
        "colab": {
          "base_uri": "https://localhost:8080/"
        },
        "id": "0FFIens3l0YL",
        "outputId": "850f2fa6-4618-46c6-8665-78468148a9de"
      },
      "source": [
        "X_2d[0:6]"
      ],
      "execution_count": 36,
      "outputs": [
        {
          "output_type": "execute_result",
          "data": {
            "text/plain": [
              "array([[ 45.61215   ,  30.211689  ],\n",
              "       [ 55.408783  , -27.265673  ],\n",
              "       [ -0.24210839, -34.673695  ],\n",
              "       [ 54.877605  , -30.721403  ],\n",
              "       [ 45.52879   ,  30.200188  ],\n",
              "       [ 29.929518  ,  22.322672  ]], dtype=float32)"
            ]
          },
          "metadata": {},
          "execution_count": 36
        }
      ]
    },
    {
      "cell_type": "code",
      "metadata": {
        "id": "NWclxhFcmEGv"
      },
      "source": [
        "df=pd.DataFrame(X_2d,columns=['x','y'])\n",
        "df['token']=model.wv.vocab.keys()"
      ],
      "execution_count": 37,
      "outputs": []
    },
    {
      "cell_type": "code",
      "metadata": {
        "colab": {
          "base_uri": "https://localhost:8080/",
          "height": 204
        },
        "id": "plT2iQshmEBK",
        "outputId": "cdb09e1f-fa7e-42e8-8175-97a4fedc741b"
      },
      "source": [
        "df.head()"
      ],
      "execution_count": 38,
      "outputs": [
        {
          "output_type": "execute_result",
          "data": {
            "text/html": [
              "<div>\n",
              "<style scoped>\n",
              "    .dataframe tbody tr th:only-of-type {\n",
              "        vertical-align: middle;\n",
              "    }\n",
              "\n",
              "    .dataframe tbody tr th {\n",
              "        vertical-align: top;\n",
              "    }\n",
              "\n",
              "    .dataframe thead th {\n",
              "        text-align: right;\n",
              "    }\n",
              "</style>\n",
              "<table border=\"1\" class=\"dataframe\">\n",
              "  <thead>\n",
              "    <tr style=\"text-align: right;\">\n",
              "      <th></th>\n",
              "      <th>x</th>\n",
              "      <th>y</th>\n",
              "      <th>token</th>\n",
              "    </tr>\n",
              "  </thead>\n",
              "  <tbody>\n",
              "    <tr>\n",
              "      <th>0</th>\n",
              "      <td>45.612148</td>\n",
              "      <td>30.211689</td>\n",
              "      <td>[</td>\n",
              "    </tr>\n",
              "    <tr>\n",
              "      <th>1</th>\n",
              "      <td>55.408783</td>\n",
              "      <td>-27.265673</td>\n",
              "      <td>Emma</td>\n",
              "    </tr>\n",
              "    <tr>\n",
              "      <th>2</th>\n",
              "      <td>-0.242108</td>\n",
              "      <td>-34.673695</td>\n",
              "      <td>by</td>\n",
              "    </tr>\n",
              "    <tr>\n",
              "      <th>3</th>\n",
              "      <td>54.877605</td>\n",
              "      <td>-30.721403</td>\n",
              "      <td>Jane</td>\n",
              "    </tr>\n",
              "    <tr>\n",
              "      <th>4</th>\n",
              "      <td>45.528790</td>\n",
              "      <td>30.200188</td>\n",
              "      <td>]</td>\n",
              "    </tr>\n",
              "  </tbody>\n",
              "</table>\n",
              "</div>"
            ],
            "text/plain": [
              "           x          y token\n",
              "0  45.612148  30.211689     [\n",
              "1  55.408783 -27.265673  Emma\n",
              "2  -0.242108 -34.673695    by\n",
              "3  54.877605 -30.721403  Jane\n",
              "4  45.528790  30.200188     ]"
            ]
          },
          "metadata": {},
          "execution_count": 38
        }
      ]
    },
    {
      "cell_type": "code",
      "metadata": {
        "id": "Kd9X7FtWmT4b"
      },
      "source": [
        " #df.to_csv('raw_gutenberg_tsne.csv', index=False)"
      ],
      "execution_count": 40,
      "outputs": []
    },
    {
      "cell_type": "code",
      "metadata": {
        "id": "GIfWib7vnART"
      },
      "source": [
        "output_notebook()"
      ],
      "execution_count": 44,
      "outputs": []
    },
    {
      "cell_type": "code",
      "metadata": {
        "id": "mKFTskq7mTqG"
      },
      "source": [
        "sample_df=df.sample(n=5000)"
      ],
      "execution_count": 45,
      "outputs": []
    },
    {
      "cell_type": "code",
      "metadata": {
        "id": "7pD2q9VQnN3e"
      },
      "source": [
        "p=figure(plot_width=800,plot_height=800)\n",
        "_=p.text(x=sample_df.x,y=sample_df.y,text=sample_df.token)"
      ],
      "execution_count": 46,
      "outputs": []
    },
    {
      "cell_type": "code",
      "metadata": {
        "colab": {
          "base_uri": "https://localhost:8080/",
          "height": 817
        },
        "id": "TpPpEQnenswq",
        "outputId": "21ea9cdd-ba20-4f9c-c60e-74623c3120b4"
      },
      "source": [
        "show(p)"
      ],
      "execution_count": 48,
      "outputs": [
        {
          "output_type": "display_data",
          "data": {
            "application/javascript": [
              "\n",
              "(function(root) {\n",
              "  function now() {\n",
              "    return new Date();\n",
              "  }\n",
              "\n",
              "  var force = true;\n",
              "\n",
              "  if (typeof root._bokeh_onload_callbacks === \"undefined\" || force === true) {\n",
              "    root._bokeh_onload_callbacks = [];\n",
              "    root._bokeh_is_loading = undefined;\n",
              "  }\n",
              "\n",
              "  var JS_MIME_TYPE = 'application/javascript';\n",
              "  var HTML_MIME_TYPE = 'text/html';\n",
              "  var EXEC_MIME_TYPE = 'application/vnd.bokehjs_exec.v0+json';\n",
              "  var CLASS_NAME = 'output_bokeh rendered_html';\n",
              "\n",
              "  /**\n",
              "   * Render data to the DOM node\n",
              "   */\n",
              "  function render(props, node) {\n",
              "    var script = document.createElement(\"script\");\n",
              "    node.appendChild(script);\n",
              "  }\n",
              "\n",
              "  /**\n",
              "   * Handle when an output is cleared or removed\n",
              "   */\n",
              "  function handleClearOutput(event, handle) {\n",
              "    var cell = handle.cell;\n",
              "\n",
              "    var id = cell.output_area._bokeh_element_id;\n",
              "    var server_id = cell.output_area._bokeh_server_id;\n",
              "    // Clean up Bokeh references\n",
              "    if (id != null && id in Bokeh.index) {\n",
              "      Bokeh.index[id].model.document.clear();\n",
              "      delete Bokeh.index[id];\n",
              "    }\n",
              "\n",
              "    if (server_id !== undefined) {\n",
              "      // Clean up Bokeh references\n",
              "      var cmd = \"from bokeh.io.state import curstate; print(curstate().uuid_to_server['\" + server_id + \"'].get_sessions()[0].document.roots[0]._id)\";\n",
              "      cell.notebook.kernel.execute(cmd, {\n",
              "        iopub: {\n",
              "          output: function(msg) {\n",
              "            var id = msg.content.text.trim();\n",
              "            if (id in Bokeh.index) {\n",
              "              Bokeh.index[id].model.document.clear();\n",
              "              delete Bokeh.index[id];\n",
              "            }\n",
              "          }\n",
              "        }\n",
              "      });\n",
              "      // Destroy server and session\n",
              "      var cmd = \"import bokeh.io.notebook as ion; ion.destroy_server('\" + server_id + \"')\";\n",
              "      cell.notebook.kernel.execute(cmd);\n",
              "    }\n",
              "  }\n",
              "\n",
              "  /**\n",
              "   * Handle when a new output is added\n",
              "   */\n",
              "  function handleAddOutput(event, handle) {\n",
              "    var output_area = handle.output_area;\n",
              "    var output = handle.output;\n",
              "\n",
              "    // limit handleAddOutput to display_data with EXEC_MIME_TYPE content only\n",
              "    if ((output.output_type != \"display_data\") || (!Object.prototype.hasOwnProperty.call(output.data, EXEC_MIME_TYPE))) {\n",
              "      return\n",
              "    }\n",
              "\n",
              "    var toinsert = output_area.element.find(\".\" + CLASS_NAME.split(' ')[0]);\n",
              "\n",
              "    if (output.metadata[EXEC_MIME_TYPE][\"id\"] !== undefined) {\n",
              "      toinsert[toinsert.length - 1].firstChild.textContent = output.data[JS_MIME_TYPE];\n",
              "      // store reference to embed id on output_area\n",
              "      output_area._bokeh_element_id = output.metadata[EXEC_MIME_TYPE][\"id\"];\n",
              "    }\n",
              "    if (output.metadata[EXEC_MIME_TYPE][\"server_id\"] !== undefined) {\n",
              "      var bk_div = document.createElement(\"div\");\n",
              "      bk_div.innerHTML = output.data[HTML_MIME_TYPE];\n",
              "      var script_attrs = bk_div.children[0].attributes;\n",
              "      for (var i = 0; i < script_attrs.length; i++) {\n",
              "        toinsert[toinsert.length - 1].firstChild.setAttribute(script_attrs[i].name, script_attrs[i].value);\n",
              "        toinsert[toinsert.length - 1].firstChild.textContent = bk_div.children[0].textContent\n",
              "      }\n",
              "      // store reference to server id on output_area\n",
              "      output_area._bokeh_server_id = output.metadata[EXEC_MIME_TYPE][\"server_id\"];\n",
              "    }\n",
              "  }\n",
              "\n",
              "  function register_renderer(events, OutputArea) {\n",
              "\n",
              "    function append_mime(data, metadata, element) {\n",
              "      // create a DOM node to render to\n",
              "      var toinsert = this.create_output_subarea(\n",
              "        metadata,\n",
              "        CLASS_NAME,\n",
              "        EXEC_MIME_TYPE\n",
              "      );\n",
              "      this.keyboard_manager.register_events(toinsert);\n",
              "      // Render to node\n",
              "      var props = {data: data, metadata: metadata[EXEC_MIME_TYPE]};\n",
              "      render(props, toinsert[toinsert.length - 1]);\n",
              "      element.append(toinsert);\n",
              "      return toinsert\n",
              "    }\n",
              "\n",
              "    /* Handle when an output is cleared or removed */\n",
              "    events.on('clear_output.CodeCell', handleClearOutput);\n",
              "    events.on('delete.Cell', handleClearOutput);\n",
              "\n",
              "    /* Handle when a new output is added */\n",
              "    events.on('output_added.OutputArea', handleAddOutput);\n",
              "\n",
              "    /**\n",
              "     * Register the mime type and append_mime function with output_area\n",
              "     */\n",
              "    OutputArea.prototype.register_mime_type(EXEC_MIME_TYPE, append_mime, {\n",
              "      /* Is output safe? */\n",
              "      safe: true,\n",
              "      /* Index of renderer in `output_area.display_order` */\n",
              "      index: 0\n",
              "    });\n",
              "  }\n",
              "\n",
              "  // register the mime type if in Jupyter Notebook environment and previously unregistered\n",
              "  if (root.Jupyter !== undefined) {\n",
              "    var events = require('base/js/events');\n",
              "    var OutputArea = require('notebook/js/outputarea').OutputArea;\n",
              "\n",
              "    if (OutputArea.prototype.mime_types().indexOf(EXEC_MIME_TYPE) == -1) {\n",
              "      register_renderer(events, OutputArea);\n",
              "    }\n",
              "  }\n",
              "\n",
              "  \n",
              "  if (typeof (root._bokeh_timeout) === \"undefined\" || force === true) {\n",
              "    root._bokeh_timeout = Date.now() + 5000;\n",
              "    root._bokeh_failed_load = false;\n",
              "  }\n",
              "\n",
              "  var NB_LOAD_WARNING = {'data': {'text/html':\n",
              "     \"<div style='background-color: #fdd'>\\n\"+\n",
              "     \"<p>\\n\"+\n",
              "     \"BokehJS does not appear to have successfully loaded. If loading BokehJS from CDN, this \\n\"+\n",
              "     \"may be due to a slow or bad network connection. Possible fixes:\\n\"+\n",
              "     \"</p>\\n\"+\n",
              "     \"<ul>\\n\"+\n",
              "     \"<li>re-rerun `output_notebook()` to attempt to load from CDN again, or</li>\\n\"+\n",
              "     \"<li>use INLINE resources instead, as so:</li>\\n\"+\n",
              "     \"</ul>\\n\"+\n",
              "     \"<code>\\n\"+\n",
              "     \"from bokeh.resources import INLINE\\n\"+\n",
              "     \"output_notebook(resources=INLINE)\\n\"+\n",
              "     \"</code>\\n\"+\n",
              "     \"</div>\"}};\n",
              "\n",
              "  function display_loaded() {\n",
              "    var el = document.getElementById(null);\n",
              "    if (el != null) {\n",
              "      el.textContent = \"BokehJS is loading...\";\n",
              "    }\n",
              "    if (root.Bokeh !== undefined) {\n",
              "      if (el != null) {\n",
              "        el.textContent = \"BokehJS \" + root.Bokeh.version + \" successfully loaded.\";\n",
              "      }\n",
              "    } else if (Date.now() < root._bokeh_timeout) {\n",
              "      setTimeout(display_loaded, 100)\n",
              "    }\n",
              "  }\n",
              "\n",
              "\n",
              "  function run_callbacks() {\n",
              "    try {\n",
              "      root._bokeh_onload_callbacks.forEach(function(callback) {\n",
              "        if (callback != null)\n",
              "          callback();\n",
              "      });\n",
              "    } finally {\n",
              "      delete root._bokeh_onload_callbacks\n",
              "    }\n",
              "    console.debug(\"Bokeh: all callbacks have finished\");\n",
              "  }\n",
              "\n",
              "  function load_libs(css_urls, js_urls, callback) {\n",
              "    if (css_urls == null) css_urls = [];\n",
              "    if (js_urls == null) js_urls = [];\n",
              "\n",
              "    root._bokeh_onload_callbacks.push(callback);\n",
              "    if (root._bokeh_is_loading > 0) {\n",
              "      console.debug(\"Bokeh: BokehJS is being loaded, scheduling callback at\", now());\n",
              "      return null;\n",
              "    }\n",
              "    if (js_urls == null || js_urls.length === 0) {\n",
              "      run_callbacks();\n",
              "      return null;\n",
              "    }\n",
              "    console.debug(\"Bokeh: BokehJS not loaded, scheduling load and callback at\", now());\n",
              "    root._bokeh_is_loading = css_urls.length + js_urls.length;\n",
              "\n",
              "    function on_load() {\n",
              "      root._bokeh_is_loading--;\n",
              "      if (root._bokeh_is_loading === 0) {\n",
              "        console.debug(\"Bokeh: all BokehJS libraries/stylesheets loaded\");\n",
              "        run_callbacks()\n",
              "      }\n",
              "    }\n",
              "\n",
              "    function on_error(url) {\n",
              "      console.error(\"failed to load \" + url);\n",
              "    }\n",
              "\n",
              "    for (let i = 0; i < css_urls.length; i++) {\n",
              "      const url = css_urls[i];\n",
              "      const element = document.createElement(\"link\");\n",
              "      element.onload = on_load;\n",
              "      element.onerror = on_error.bind(null, url);\n",
              "      element.rel = \"stylesheet\";\n",
              "      element.type = \"text/css\";\n",
              "      element.href = url;\n",
              "      console.debug(\"Bokeh: injecting link tag for BokehJS stylesheet: \", url);\n",
              "      document.body.appendChild(element);\n",
              "    }\n",
              "\n",
              "    const hashes = {\"https://cdn.bokeh.org/bokeh/release/bokeh-2.3.3.min.js\": \"dM3QQsP+wXdHg42wTqW85BjZQdLNNIXqlPw/BgKoExPmTG7ZLML4EGqLMfqHT6ON\", \"https://cdn.bokeh.org/bokeh/release/bokeh-tables-2.3.3.min.js\": \"8x57I4YuIfu8XyZfFo0XVr2WAT8EK4rh/uDe3wF7YuW2FNUSNEpJbsPaB1nJ2fz2\", \"https://cdn.bokeh.org/bokeh/release/bokeh-widgets-2.3.3.min.js\": \"3QTqdz9LyAm2i0sG5XTePsHec3UHWwVsrOL68SYRoAXsafvfAyqtQ+h440+qIBhS\"};\n",
              "\n",
              "    for (let i = 0; i < js_urls.length; i++) {\n",
              "      const url = js_urls[i];\n",
              "      const element = document.createElement('script');\n",
              "      element.onload = on_load;\n",
              "      element.onerror = on_error.bind(null, url);\n",
              "      element.async = false;\n",
              "      element.src = url;\n",
              "      if (url in hashes) {\n",
              "        element.crossOrigin = \"anonymous\";\n",
              "        element.integrity = \"sha384-\" + hashes[url];\n",
              "      }\n",
              "      console.debug(\"Bokeh: injecting script tag for BokehJS library: \", url);\n",
              "      document.head.appendChild(element);\n",
              "    }\n",
              "  };\n",
              "\n",
              "  function inject_raw_css(css) {\n",
              "    const element = document.createElement(\"style\");\n",
              "    element.appendChild(document.createTextNode(css));\n",
              "    document.body.appendChild(element);\n",
              "  }\n",
              "\n",
              "  \n",
              "  var js_urls = [\"https://cdn.bokeh.org/bokeh/release/bokeh-2.3.3.min.js\", \"https://cdn.bokeh.org/bokeh/release/bokeh-widgets-2.3.3.min.js\", \"https://cdn.bokeh.org/bokeh/release/bokeh-tables-2.3.3.min.js\"];\n",
              "  var css_urls = [];\n",
              "  \n",
              "\n",
              "  var inline_js = [\n",
              "    function(Bokeh) {\n",
              "      Bokeh.set_log_level(\"info\");\n",
              "    },\n",
              "    function(Bokeh) {\n",
              "    \n",
              "    \n",
              "    }\n",
              "  ];\n",
              "\n",
              "  function run_inline_js() {\n",
              "    \n",
              "    if (root.Bokeh !== undefined || force === true) {\n",
              "      \n",
              "    for (var i = 0; i < inline_js.length; i++) {\n",
              "      inline_js[i].call(root, root.Bokeh);\n",
              "    }\n",
              "    } else if (Date.now() < root._bokeh_timeout) {\n",
              "      setTimeout(run_inline_js, 100);\n",
              "    } else if (!root._bokeh_failed_load) {\n",
              "      console.log(\"Bokeh: BokehJS failed to load within specified timeout.\");\n",
              "      root._bokeh_failed_load = true;\n",
              "    } else if (force !== true) {\n",
              "      var cell = $(document.getElementById(null)).parents('.cell').data().cell;\n",
              "      cell.output_area.append_execute_result(NB_LOAD_WARNING)\n",
              "    }\n",
              "\n",
              "  }\n",
              "\n",
              "  if (root._bokeh_is_loading === 0) {\n",
              "    console.debug(\"Bokeh: BokehJS loaded, going straight to plotting\");\n",
              "    run_inline_js();\n",
              "  } else {\n",
              "    load_libs(css_urls, js_urls, function() {\n",
              "      console.debug(\"Bokeh: BokehJS plotting callback run at\", now());\n",
              "      run_inline_js();\n",
              "    });\n",
              "  }\n",
              "}(window));"
            ],
            "application/vnd.bokehjs_load.v0+json": "\n(function(root) {\n  function now() {\n    return new Date();\n  }\n\n  var force = true;\n\n  if (typeof root._bokeh_onload_callbacks === \"undefined\" || force === true) {\n    root._bokeh_onload_callbacks = [];\n    root._bokeh_is_loading = undefined;\n  }\n\n  \n\n  \n  if (typeof (root._bokeh_timeout) === \"undefined\" || force === true) {\n    root._bokeh_timeout = Date.now() + 5000;\n    root._bokeh_failed_load = false;\n  }\n\n  var NB_LOAD_WARNING = {'data': {'text/html':\n     \"<div style='background-color: #fdd'>\\n\"+\n     \"<p>\\n\"+\n     \"BokehJS does not appear to have successfully loaded. If loading BokehJS from CDN, this \\n\"+\n     \"may be due to a slow or bad network connection. Possible fixes:\\n\"+\n     \"</p>\\n\"+\n     \"<ul>\\n\"+\n     \"<li>re-rerun `output_notebook()` to attempt to load from CDN again, or</li>\\n\"+\n     \"<li>use INLINE resources instead, as so:</li>\\n\"+\n     \"</ul>\\n\"+\n     \"<code>\\n\"+\n     \"from bokeh.resources import INLINE\\n\"+\n     \"output_notebook(resources=INLINE)\\n\"+\n     \"</code>\\n\"+\n     \"</div>\"}};\n\n  function display_loaded() {\n    var el = document.getElementById(null);\n    if (el != null) {\n      el.textContent = \"BokehJS is loading...\";\n    }\n    if (root.Bokeh !== undefined) {\n      if (el != null) {\n        el.textContent = \"BokehJS \" + root.Bokeh.version + \" successfully loaded.\";\n      }\n    } else if (Date.now() < root._bokeh_timeout) {\n      setTimeout(display_loaded, 100)\n    }\n  }\n\n\n  function run_callbacks() {\n    try {\n      root._bokeh_onload_callbacks.forEach(function(callback) {\n        if (callback != null)\n          callback();\n      });\n    } finally {\n      delete root._bokeh_onload_callbacks\n    }\n    console.debug(\"Bokeh: all callbacks have finished\");\n  }\n\n  function load_libs(css_urls, js_urls, callback) {\n    if (css_urls == null) css_urls = [];\n    if (js_urls == null) js_urls = [];\n\n    root._bokeh_onload_callbacks.push(callback);\n    if (root._bokeh_is_loading > 0) {\n      console.debug(\"Bokeh: BokehJS is being loaded, scheduling callback at\", now());\n      return null;\n    }\n    if (js_urls == null || js_urls.length === 0) {\n      run_callbacks();\n      return null;\n    }\n    console.debug(\"Bokeh: BokehJS not loaded, scheduling load and callback at\", now());\n    root._bokeh_is_loading = css_urls.length + js_urls.length;\n\n    function on_load() {\n      root._bokeh_is_loading--;\n      if (root._bokeh_is_loading === 0) {\n        console.debug(\"Bokeh: all BokehJS libraries/stylesheets loaded\");\n        run_callbacks()\n      }\n    }\n\n    function on_error(url) {\n      console.error(\"failed to load \" + url);\n    }\n\n    for (let i = 0; i < css_urls.length; i++) {\n      const url = css_urls[i];\n      const element = document.createElement(\"link\");\n      element.onload = on_load;\n      element.onerror = on_error.bind(null, url);\n      element.rel = \"stylesheet\";\n      element.type = \"text/css\";\n      element.href = url;\n      console.debug(\"Bokeh: injecting link tag for BokehJS stylesheet: \", url);\n      document.body.appendChild(element);\n    }\n\n    const hashes = {\"https://cdn.bokeh.org/bokeh/release/bokeh-2.3.3.min.js\": \"dM3QQsP+wXdHg42wTqW85BjZQdLNNIXqlPw/BgKoExPmTG7ZLML4EGqLMfqHT6ON\", \"https://cdn.bokeh.org/bokeh/release/bokeh-tables-2.3.3.min.js\": \"8x57I4YuIfu8XyZfFo0XVr2WAT8EK4rh/uDe3wF7YuW2FNUSNEpJbsPaB1nJ2fz2\", \"https://cdn.bokeh.org/bokeh/release/bokeh-widgets-2.3.3.min.js\": \"3QTqdz9LyAm2i0sG5XTePsHec3UHWwVsrOL68SYRoAXsafvfAyqtQ+h440+qIBhS\"};\n\n    for (let i = 0; i < js_urls.length; i++) {\n      const url = js_urls[i];\n      const element = document.createElement('script');\n      element.onload = on_load;\n      element.onerror = on_error.bind(null, url);\n      element.async = false;\n      element.src = url;\n      if (url in hashes) {\n        element.crossOrigin = \"anonymous\";\n        element.integrity = \"sha384-\" + hashes[url];\n      }\n      console.debug(\"Bokeh: injecting script tag for BokehJS library: \", url);\n      document.head.appendChild(element);\n    }\n  };\n\n  function inject_raw_css(css) {\n    const element = document.createElement(\"style\");\n    element.appendChild(document.createTextNode(css));\n    document.body.appendChild(element);\n  }\n\n  \n  var js_urls = [\"https://cdn.bokeh.org/bokeh/release/bokeh-2.3.3.min.js\", \"https://cdn.bokeh.org/bokeh/release/bokeh-widgets-2.3.3.min.js\", \"https://cdn.bokeh.org/bokeh/release/bokeh-tables-2.3.3.min.js\"];\n  var css_urls = [];\n  \n\n  var inline_js = [\n    function(Bokeh) {\n      Bokeh.set_log_level(\"info\");\n    },\n    function(Bokeh) {\n    \n    \n    }\n  ];\n\n  function run_inline_js() {\n    \n    if (root.Bokeh !== undefined || force === true) {\n      \n    for (var i = 0; i < inline_js.length; i++) {\n      inline_js[i].call(root, root.Bokeh);\n    }\n    } else if (Date.now() < root._bokeh_timeout) {\n      setTimeout(run_inline_js, 100);\n    } else if (!root._bokeh_failed_load) {\n      console.log(\"Bokeh: BokehJS failed to load within specified timeout.\");\n      root._bokeh_failed_load = true;\n    } else if (force !== true) {\n      var cell = $(document.getElementById(null)).parents('.cell').data().cell;\n      cell.output_area.append_execute_result(NB_LOAD_WARNING)\n    }\n\n  }\n\n  if (root._bokeh_is_loading === 0) {\n    console.debug(\"Bokeh: BokehJS loaded, going straight to plotting\");\n    run_inline_js();\n  } else {\n    load_libs(css_urls, js_urls, function() {\n      console.debug(\"Bokeh: BokehJS plotting callback run at\", now());\n      run_inline_js();\n    });\n  }\n}(window));"
          },
          "metadata": {}
        },
        {
          "output_type": "display_data",
          "data": {
            "text/html": [
              "\n",
              "\n",
              "\n",
              "\n",
              "\n",
              "\n",
              "  <div class=\"bk-root\" id=\"6735781e-98fa-428f-a627-09c8b8937df4\" data-root-id=\"1002\"></div>\n"
            ]
          },
          "metadata": {}
        },
        {
          "output_type": "display_data",
          "data": {
            "application/javascript": [
              "(function(root) {\n",
              "  function embed_document(root) {\n",
              "    \n",
              "  var docs_json = {\"4a00c5fc-f1f8-4fae-878b-f640e0303f58\":{\"defs\":[],\"roots\":{\"references\":[{\"attributes\":{\"below\":[{\"id\":\"1011\"}],\"center\":[{\"id\":\"1014\"},{\"id\":\"1018\"}],\"height\":800,\"left\":[{\"id\":\"1015\"}],\"renderers\":[{\"id\":\"1036\"}],\"title\":{\"id\":\"1038\"},\"toolbar\":{\"id\":\"1026\"},\"width\":800,\"x_range\":{\"id\":\"1003\"},\"x_scale\":{\"id\":\"1007\"},\"y_range\":{\"id\":\"1005\"},\"y_scale\":{\"id\":\"1009\"}},\"id\":\"1002\",\"subtype\":\"Figure\",\"type\":\"Plot\"},{\"attributes\":{\"text_color\":{\"value\":\"black\"},\"x\":{\"field\":\"x\"},\"y\":{\"field\":\"y\"}},\"id\":\"1034\",\"type\":\"Text\"},{\"attributes\":{\"text_alpha\":{\"value\":0.1},\"text_color\":{\"value\":\"black\"},\"x\":{\"field\":\"x\"},\"y\":{\"field\":\"y\"}},\"id\":\"1035\",\"type\":\"Text\"},{\"attributes\":{},\"id\":\"1023\",\"type\":\"ResetTool\"},{\"attributes\":{\"data\":{\"text\":[\"recollected\",\"consider\",\"currents\",\"naughty\",\"envy\",\"brighter\",\"Flee\",\"dial\",\"urgent\",\"refer\",\"yong\",\"connect\",\"squeeze\",\"Babe\",\"Humph\",\"arrested\",\"exercised\",\"stirring\",\"chap\",\"Soul\",\"misfortunes\",\"imparted\",\"moral\",\"conversant\",\"Jesus\",\"guide\",\"Lower\",\"domain\",\"faculties\",\"imbecile\",\"Beat\",\"abounded\",\"adrift\",\"heeles\",\"tunes\",\"palate\",\"articles\",\"eternall\",\"Rain\",\"declare\",\"feverish\",\"Philippi\",\"squaw\",\"pertaineth\",\"Midian\",\"unanswerable\",\"reprove\",\"inhabitants\",\"homewards\",\"pewter\",\"miseries\",\"roof\",\"Perfectly\",\"engaged\",\"culture\",\"works\",\"casting\",\"dispositions\",\"Shuhite\",\"boarded\",\"Epistle\",\"proposal\",\"regularly\",\"cocked\",\"boarding\",\"Afterward\",\"cowards\",\"rarely\",\"hints\",\"relaxed\",\"effect\",\"much\",\"prints\",\"slacken\",\"happier\",\"stealing\",\"slimy\",\"archangel\",\"event\",\"murmured\",\"meanness\",\"pit\",\"minded\",\"curling\",\"casual\",\"phrases\",\"yet\",\"torrent\",\"anchored\",\"Squirrel\",\"define\",\"hovering\",\"restraints\",\"proverb\",\"finely\",\"forefinger\",\"bunches\",\"borrowing\",\"well\",\"purchase\",\"lame\",\"census\",\"Husband\",\"Nantucketers\",\"refreshed\",\"shutters\",\"Tirshatha\",\"unwittingly\",\"for\",\"joins\",\"stove\",\"college\",\"Often\",\"bearer\",\"Alone\",\"tonight\",\"destroy\",\"consented\",\"likened\",\"invisible\",\"candlestick\",\"tossed\",\"possibilities\",\"pondering\",\"sufficiency\",\"Curse\",\"lend\",\"Persian\",\"whichever\",\"groves\",\"cords\",\"mine\",\"tiller\",\"pleasanter\",\"virginity\",\"quickened\",\"nook\",\"lighter\",\"crowding\",\"negligence\",\"affirmed\",\"Megiddo\",\"fleece\",\"plaintiffs\",\"peep\",\"Pagiel\",\"marbles\",\"Accept\",\"strawberry\",\"Hodges\",\"Rabbah\",\"travellers\",\"Jerubbaal\",\"127\",\"thundered\",\"trowsers\",\"THEN\",\"sidelong\",\"See\",\"weeds\",\"whalemen\",\"joining\",\"civilly\",\"heartless\",\"contemned\",\"spell\",\"reliance\",\"Apostle\",\"purely\",\"earthly\",\"belov\",\"rewards\",\"greefe\",\"replaced\",\"Mapple\",\"taint\",\"Saul\",\"grinding\",\"Har\",\"cod\",\"mists\",\"open\",\"third\",\"materialism\",\"mend\",\"spikes\",\"cream\",\"majority\",\"rattle\",\"additional\",\"school\",\"king\",\"Government\",\"unconscious\",\"dazzle\",\"Snow\",\"sporting\",\"dimness\",\"Broke\",\"puffed\",\"Danish\",\"dishonour\",\"retirement\",\"Conqueror\",\"stuff\",\"must\",\"rational\",\"walkest\",\"jolly\",\"brilliant\",\"pang\",\"prophecies\",\"tradition\",\"Jesse\",\"millstones\",\"contention\",\"humor\",\"Lord\",\"clods\",\"weakly\",\"arches\",\"object\",\"Boys\",\"engrossed\",\"Haue\",\"memories\",\"nourished\",\"ankle\",\"rites\",\"brigands\",\"Swiftly\",\"bog\",\"fixedly\",\"shelter\",\"aloof\",\"Woman\",\"hieroglyphics\",\"observe\",\"Dorsetshire\",\"slipping\",\"seaweed\",\"careth\",\"undoubted\",\"vastly\",\"worms\",\"Farewell\",\"magistrate\",\"Heidelburgh\",\"Ethel\",\"scaly\",\"Adam\",\"emerald\",\"chose\",\"Aquila\",\"Thessalonica\",\"Joash\",\"fulfilling\",\"aristocracy\",\"bag\",\"shee\",\"locust\",\"II\",\"NEW\",\"Euen\",\"Player\",\"baser\",\"mast\",\"nighest\",\"spying\",\"Fourth\",\"envelop\",\"Mac\",\"119\",\"sarcastically\",\"submerged\",\"North\",\"Pulpit\",\"climbing\",\"48\",\"pinioned\",\"Bertha\",\"friend\",\"Mahanaim\",\"refusing\",\"ejaculated\",\"frankly\",\"prosper\",\"scratching\",\"promote\",\"powre\",\"unfrequently\",\"parks\",\"frightened\",\"among\",\"greatest\",\"Guernsey\",\"satin\",\"backe\",\"whaler\",\"shopman\",\"massacre\",\"deserves\",\"hymns\",\"ene\",\"curtains\",\"artists\",\"southern\",\"censure\",\"edges\",\"Or\",\"rightly\",\"Natures\",\"reckoned\",\"voyce\",\"cleaveth\",\"d\",\"enlarge\",\"dread\",\"capital\",\"bullet\",\"CAN\",\"fourteenth\",\"choicest\",\"flukes\",\"folly\",\"preceding\",\"convex\",\"incense\",\"Monday\",\"assiduous\",\"gentleman\",\"meditations\",\"specialist\",\"veil\",\"headsmen\",\"Araunah\",\"washing\",\"advancing\",\"Fred\",\"seclusion\",\"peddler\",\"Salem\",\"odious\",\"enthusiasts\",\"Zebul\",\"desiring\",\"Anne\",\"market\",\"houre\",\"hatred\",\"reiterated\",\"happiest\",\"Gone\",\"VII\",\"gratis\",\"worlds\",\"aperture\",\"interfere\",\"Jehu\",\"tribe\",\"canoe\",\"Maple\",\"fashionable\",\"Brethren\",\"drank\",\"done\",\"hadst\",\"like\",\"Hovering\",\"harvest\",\"cleave\",\"tropic\",\"Tychicus\",\"warriors\",\"gin\",\"bless\",\"wailing\",\"sombre\",\"Catholics\",\"Armes\",\"composed\",\"onset\",\"interests\",\"straps\",\"fortunate\",\"accomplishment\",\"huzza\",\"nuts\",\"becomes\",\"sails\",\"Judas\",\"eludes\",\"cabin\",\"Lucius\",\"heaps\",\"soever\",\"beares\",\"windward\",\"injure\",\"Cook\",\"devour\",\"incompatible\",\"fur\",\"writhed\",\"Cyrus\",\"constellations\",\"seizure\",\"Raphael\",\"hindered\",\"Belteshazzar\",\"utter\",\"Natural\",\"ankles\",\"inspire\",\"thud\",\"resorted\",\"Reserved\",\"holdeth\",\"snatch\",\"Tyranny\",\"OLD\",\"speeding\",\"afloat\",\"scall\",\"phenomenon\",\"scales\",\"defeated\",\"paper\",\"budded\",\"turned\",\"unctuous\",\"36\",\"Soon\",\"newspaper\",\"pyramid\",\"serves\",\"gross\",\"torment\",\"calamity\",\"healing\",\"prior\",\"pines\",\"incline\",\"winding\",\"plantation\",\"embodiment\",\"reel\",\"gorgeous\",\"Gothic\",\"Peradventure\",\"Mamma\",\"Moza\",\"hard\",\"_he_\",\"spray\",\"cotton\",\"Men\",\"ridiculous\",\"skeletons\",\"Rest\",\"soul\",\"Elnathan\",\"abated\",\"gurgling\",\"procured\",\"Bozrah\",\"Mr\",\"Titus\",\"attentively\",\"Oakly\",\"Pyrrhus\",\"Medes\",\"amazingly\",\"crouched\",\"woolly\",\"summoned\",\"Improvisatore\",\"cross\",\"merit\",\"numerous\",\"languor\",\"spreads\",\"assertion\",\"arming\",\"affliction\",\"oil\",\"dwellingplaces\",\"inconveniences\",\"miracle\",\"wisest\",\"cosmos\",\"Russian\",\"presence\",\"strangers\",\"idleness\",\"Davis\",\"allowing\",\"determinate\",\"Thence\",\"aid\",\"magnet\",\"Grand\",\"mastery\",\"cherries\",\"multiply\",\"entry\",\"Soule\",\"millionaire\",\"unfolded\",\"journeying\",\"portrait\",\"seaman\",\"coincidence\",\"37\",\"hasty\",\"innumerable\",\"cough\",\"gave\",\"riding\",\"night\",\"Hezron\",\"letters\",\"Red\",\"persecution\",\"mothers\",\"deficiency\",\"rising\",\"served\",\"refreshing\",\"undertake\",\"departing\",\"swings\",\"Star\",\"colder\",\"chaps\",\"Willoughby\",\"accident\",\"dreaming\",\"Florida\",\"apt\",\"anon\",\"Deliver\",\"voyagers\",\"spoilt\",\"Dagda\",\"craft\",\"locks\",\"trophy\",\"pleading\",\"Witches\",\"torrid\",\"rides\",\"Paris\",\"curses\",\"Creature\",\"expressed\",\"cast\",\"drops\",\"Souldiers\",\"err\",\"undecided\",\"Comes\",\"tenderly\",\"whale\",\"pervading\",\"refreshment\",\"gravity\",\"Nazarite\",\"kitchen\",\"Manxman\",\"sweareth\",\"Business\",\"inspired\",\"gifts\",\"disperse\",\"speeds\",\"divorced\",\"council\",\"amity\",\"wavering\",\"decayed\",\"dissatisfaction\",\"dimensions\",\"keeping\",\"Ammonite\",\"Labour\",\"Java\",\"steer\",\"faileth\",\"liuing\",\"cannibals\",\"L\",\"Tekoa\",\"Lady\",\"sanctification\",\"fantastic\",\"Pompeyes\",\"teachers\",\"mowers\",\"peacock\",\"remembrances\",\"Giles\",\"recalled\",\"objects\",\"pass\",\"honoured\",\"attempting\",\"editors\",\"identities\",\"Police\",\"Hananiah\",\"miracles\",\"Angus\",\"unnaturally\",\"BUSTER\",\"loving\",\"pointed\",\"Still\",\"baskets\",\"ministry\",\"turban\",\"Hurrah\",\"Fell\",\"Gadites\",\"liable\",\"nuptial\",\"tolerable\",\"starting\",\"oblige\",\"excepted\",\"stoned\",\"trees\",\"midday\",\"beget\",\"Jebusite\",\"spoilers\",\"fabled\",\"scriptures\",\"creature\",\"berry\",\"midnight\",\"spontaneous\",\"vowed\",\"Heshbon\",\"residing\",\"giuen\",\"disabled\",\"lined\",\"magnificent\",\"tear\",\"civil\",\"features\",\"Mansion\",\"parody\",\"word\",\"135\",\"free\",\"assuring\",\"disputing\",\"Be\",\"gums\",\"praise\",\"His\",\"Parkinson\",\"chowder\",\"learned\",\"punch\",\"way\",\"anvil\",\"astride\",\"squire\",\"passenger\",\"owner\",\"Powers\",\"Sidon\",\"Come\",\"need\",\"eyeing\",\"keepe\",\"else\",\"Nights\",\"score\",\"lifting\",\"drams\",\"dancer\",\"preparatory\",\"out\",\"cavern\",\"reconciled\",\"ROBERT\",\"embracing\",\"Husbands\",\"assassin\",\"pyramids\",\"Together\",\"ransom\",\"Gods\",\"casks\",\"themselues\",\"Kentucky\",\"Morn\",\"firstling\",\"rereward\",\"stab\",\"elsewhere\",\"sprinkled\",\"Ethiopian\",\"neighboring\",\"move\",\"lunatic\",\"making\",\"sprung\",\"Grope\",\"1\",\"partnership\",\"intense\",\"cliff\",\"lessons\",\"coolly\",\"compacted\",\"expanding\",\"obviously\",\"step\",\"coffins\",\"restricted\",\"Fates\",\"stumbled\",\"hark\",\"chargeable\",\"trial\",\"desire\",\"visage\",\"support\",\"parsonage\",\"Baanah\",\"atonement\",\"owns\",\"vocal\",\"board\",\"arrive\",\"Frenchmen\",\"fulfilment\",\"goes\",\"Aye\",\"elders\",\"adultery\",\"Slaue\",\"madnesse\",\"claims\",\"swelled\",\"ingenious\",\"yards\",\"murky\",\"creep\",\"throbbing\",\"menacing\",\"BOOK\",\"assented\",\"devils\",\"jewelled\",\"tale\",\"mediator\",\"Aha\",\"publicans\",\"Fish\",\"Ephah\",\"tow\",\"superiority\",\"superficial\",\"Jethro\",\"strings\",\"Sire\",\"footman\",\"sacred\",\"Zidon\",\"corner\",\"pilots\",\"portentous\",\"almond\",\"streaks\",\"Tishbite\",\"sins\",\"wished\",\"instinctive\",\"shirt\",\"Pagan\",\"cab\",\"lank\",\"hears\",\"blinked\",\"Sound\",\"triumphantly\",\"Laish\",\"parables\",\"prophets\",\"left\",\"Ammon\",\"discharging\",\"averted\",\"fold\",\"liberty\",\"graciousness\",\"nicest\",\"indicated\",\"Oriental\",\"grey\",\"Catholic\",\"hailing\",\"Pennsylvania\",\"artist\",\"reminds\",\"Weymouth\",\"intelligible\",\"99\",\"difficult\",\"headsman\",\"Joses\",\"watchman\",\"44\",\"earlier\",\"lithe\",\"exert\",\"deprive\",\"indefatigable\",\"entreaties\",\"redeem\",\"MUST\",\"comes\",\"phantom\",\"notwithstanding\",\"Jonadab\",\"formless\",\"crossing\",\"beaver\",\"housework\",\"Absalom\",\"frigid\",\"meats\",\"demon\",\"consecrated\",\"Beor\",\"Meshach\",\"forks\",\"icy\",\"pack\",\"commend\",\"80\",\"avenue\",\"absurdity\",\"heated\",\"crested\",\"principle\",\"diuell\",\"admirers\",\"Hophni\",\"straits\",\"sunder\",\"2002\",\"beautify\",\"gardener\",\"Victoria\",\"introduction\",\"blessing\",\"motor\",\"barn\",\"girth\",\"sunrise\",\"pistol\",\"noisome\",\"lamp\",\"82\",\"refusal\",\"PROJECT\",\"fortress\",\"grope\",\"absolute\",\"Ahiezer\",\"controversy\",\"rivals\",\"mind\",\"104\",\"hut\",\"speaking\",\"Dagon\",\"homes\",\"madly\",\"adventures\",\"20\",\"ambition\",\"supporting\",\"representations\",\"Eshtemoa\",\"amazed\",\"herb\",\"kindness\",\"resembled\",\"principles\",\"sister\",\"peasant\",\"contradicted\",\"hissed\",\"dandy\",\"knows\",\"Wilt\",\"beastly\",\"discover\",\"suburbs\",\"Jahath\",\"names\",\"melody\",\"Tables\",\"An\",\"ending\",\"approve\",\"cabs\",\"chapter\",\"Cannot\",\"Patrick\",\"whirr\",\"Woe\",\"buildings\",\"smooth\",\"beseeching\",\"manger\",\"subdued\",\"strawed\",\"chain\",\"bedfellow\",\"peeled\",\"porches\",\"begin\",\"infused\",\"players\",\"his\",\"However\",\"defer\",\"understand\",\"jokes\",\"yarn\",\"Aurora\",\"adulterous\",\"Gileadite\",\"detective\",\"WILL\",\"nevertheless\",\"stride\",\"Along\",\"Less\",\"writer\",\"madness\",\"biscuit\",\"hinges\",\"brazen\",\"owning\",\"servitude\",\"Archive\",\"folks\",\"pulses\",\"cape\",\"forest\",\"craftiness\",\"Beyond\",\"friendliness\",\"angrily\",\"land\",\"fort\",\"liberally\",\"thrill\",\"inherited\",\"studied\",\"Ahira\",\"turning\",\"armoury\",\"inconvenient\",\"orchards\",\"senile\",\"merry\",\"defendants\",\"Enderby\",\"knit\",\"dazzling\",\"loomed\",\"Arise\",\"creeds\",\"judges\",\"fishers\",\"Shelah\",\"bleating\",\"Behold\",\"lakes\",\"Owle\",\"Edmund\",\"thunderings\",\"unrolled\",\"Saying\",\"pitching\",\"followes\",\"planet\",\"army\",\"And\",\"holiday\",\"remarkable\",\"Mighty\",\"palace\",\"(\",\"receiving\",\"Huh\",\"conference\",\"raw\",\"Ephraim\",\"nature\",\"worth\",\"wherever\",\"bloody\",\"special\",\"complaisance\",\"misery\",\"Henry\",\"twain\",\"pudding\",\"wall\",\"conveyed\",\"runneth\",\"protect\",\"Well\",\"Strike\",\"trade\",\"Count\",\"argued\",\"wearily\",\"proposition\",\"fellow\",\"terrors\",\"watery\",\"proceed\",\"stopping\",\"thinkes\",\"suspense\",\"Cornelius\",\"collar\",\"Seed\",\"reciprocal\",\"spare\",\"glided\",\"stalks\",\"blankets\",\"languisheth\",\"furnace\",\"shrieking\",\"sending\",\"proclaimed\",\"shekels\",\"treacherously\",\"doubtfully\",\"doves\",\"privileged\",\"hunted\",\"Rezin\",\"shutteth\",\"bye\",\"Her\",\"ho\",\"Herod\",\"Antony\",\"thing\",\"slighted\",\"shillings\",\"tooke\",\"away\",\"Antarctic\",\"worke\",\"moustache\",\"thou\",\"Pure\",\"diffuse\",\"transparent\",\"indifference\",\"Reuel\",\"spoiled\",\"strictly\",\"chisel\",\"snap\",\"creditable\",\"frightful\",\"job\",\"chanting\",\"132\",\"89\",\"multiplied\",\"stiff\",\"excluded\",\"playing\",\"by\",\"Illinois\",\"demand\",\"applied\",\"Howbeit\",\"bulls\",\"arisen\",\"talked\",\"tulip\",\"plank\",\"charity\",\"steering\",\"glide\",\"glint\",\"Saviour\",\"punctually\",\"bitterly\",\"roads\",\"pledge\",\"reckless\",\"thousands\",\"assisting\",\"Jehoiakim\",\"peaked\",\"impalpable\",\"turneth\",\"unreal\",\"torch\",\"maniac\",\"Zion\",\"Binnui\",\"boot\",\"SCENE\",\"LOST\",\"Nob\",\"raptures\",\"presumptuously\",\"ignorant\",\"model\",\"fireside\",\"dreary\",\"book\",\"buried\",\"implements\",\"parallel\",\"greenness\",\"repenteth\",\"suggesting\",\"To\",\"Saints\",\"binding\",\"Pedaiah\",\"conducted\",\"longing\",\"heat\",\"Bird\",\"thunderbolt\",\"past\",\"kinsmen\",\"Jones\",\"parable\",\"impertinence\",\"birthright\",\"Blast\",\"walking\",\"Ehud\",\"Cauldron\",\"Reasons\",\"portions\",\"say\",\"crowning\",\"firstfruits\",\"tan\",\"rapidly\",\"dig\",\"hazarded\",\"thoroughfares\",\"confess\",\"eunuch\",\"Terrors\",\"But\",\"clasp\",\"yeare\",\"thistles\",\"blunders\",\"planning\",\"Tulip\",\"inner\",\"apologetic\",\"Vicarage\",\"chamberlain\",\"theft\",\"female\",\"Wandering\",\"cheered\",\"liveth\",\"transported\",\"pains\",\"cables\",\"oceans\",\"foreseen\",\"jubile\",\"whiteness\",\"leprosy\",\"atmospheres\",\"northward\",\"license\",\"imitated\",\"exertion\",\"tight\",\"seventh\",\"calmer\",\"suspicion\",\"wicket\",\"Meremoth\",\"Benjamite\",\"deacons\",\"darts\",\"mats\",\"So\",\"magnified\",\"globes\",\"rider\",\"shrouds\",\"handling\",\"various\",\"Polon\",\"worthless\",\"tramping\",\"Like\",\"perform\",\"frogs\",\"candid\",\"seaside\",\"Speaking\",\"combatants\",\"Vnkle\",\"Franklin\",\"unfeeling\",\"beheld\",\"prou\",\"afflictions\",\"Mesopotamian\",\"terms\",\"dishes\",\"Desire\",\"hammered\",\"lamentable\",\"infallibly\",\"taught\",\"impossible\",\"rushes\",\"stricken\",\"persevered\",\"Starre\",\"ginger\",\"streamed\",\"Naples\",\"believe\",\"fireworks\",\"wedded\",\"tm\",\"merited\",\"solve\",\"circumstance\",\"result\",\"Italy\",\"pieces\",\"thoughtful\",\"from\",\"healthy\",\"cannot\",\"believing\",\"pocket\",\"cases\",\"fitful\",\"reasonably\",\"destiny\",\"Piccola\",\"grateful\",\"Shushan\",\"putrid\",\"actions\",\"isn\",\"corrupted\",\"covers\",\"Answerest\",\"YOUR\",\"hammock\",\"Anger\",\"fanatic\",\"Heauen\",\"goods\",\"closely\",\"Blacky\",\"befriend\",\"Macey\",\"cellars\",\"Israelites\",\"Maon\",\"whip\",\"fortitude\",\"shekel\",\"hands\",\"exertions\",\"stablish\",\"doubtful\",\"crazy\",\"HAD\",\"moments\",\"scold\",\"commence\",\"avenues\",\"Anarchist\",\"whereto\",\"strew\",\"cedars\",\"judging\",\"Bethshean\",\"ridden\",\"pitiable\",\"Isaiah\",\"recollection\",\"Turk\",\"avail\",\"maintenance\",\"newes\",\"Exmoor\",\"flush\",\"Townsend\",\"forked\",\"Esau\",\"Meraioth\",\"weights\",\"fat\",\"safe\",\"jagged\",\"wicked\",\"increased\",\"sixteenth\",\"Dagger\",\"grandson\",\"javelin\",\"Flag\",\"dictate\",\"application\",\"profited\",\"balcony\",\"entangled\",\"birds\",\"emerged\",\"huge\",\"shadowing\",\"Abiezer\",\"blot\",\"Haul\",\"dismall\",\"instruments\",\"included\",\"m\",\"engagement\",\"practices\",\"prairie\",\"country\",\"face\",\"Highbury\",\"odor\",\"grinned\",\"Crying\",\"lees\",\"mortification\",\"interposed\",\"something\",\"Whale\",\"our\",\"Falconroy\",\"loyalty\",\"reads\",\"charming\",\"loudest\",\"stammered\",\"socks\",\"permanently\",\"aery\",\"mouldy\",\"scalding\",\"keepes\",\"fifty\",\"DUODECIMO\",\"pulling\",\"Archer\",\"THE\",\"sojourners\",\"Etam\",\"belong\",\"Seek\",\"Denmarke\",\"Caska\",\"opera\",\"Caes\",\"Abarim\",\"branch\",\"Milcah\",\"Vanity\",\"paws\",\"batter\",\"signe\",\"Lima\",\"bespeak\",\"priest\",\"inhabit\",\"needs\",\"horizon\",\"peace\",\"baths\",\"decrees\",\"kennel\",\"withholden\",\"Shema\",\"Letters\",\"torments\",\"twixt\",\"greedily\",\"chasten\",\"keys\",\"wrecked\",\"Frenchman\",\"removing\",\"obtained\",\"tailor\",\"Doe\",\"beings\",\"Bachelor\",\"fairest\",\"gleamed\",\"sit\",\"coldness\",\"slouching\",\"BROWN\",\"stay\",\"galloping\",\"robbers\",\"SIR\",\"jeopardy\",\"obstinate\",\"wafted\",\"84\",\"contrasted\",\"really\",\"Ocran\",\"echo\",\"Likewise\",\"aileth\",\"steak\",\"summit\",\"dally\",\"Three\",\"Michaelmas\",\"Howl\",\"Tarsus\",\"blasphemous\",\"bury\",\"astonish\",\"sherry\",\"pulled\",\"maze\",\"civilized\",\"scandal\",\"Salmon\",\"hall\",\"orb\",\"alter\",\"reach\",\"thunder\",\"eve\",\"Sits\",\"foretell\",\"hulls\",\"custom\",\"dresses\",\"undone\",\"kettle\",\"unwise\",\"kick\",\"tickled\",\"rear\",\"attending\",\"expound\",\"weaving\",\"taskmasters\",\"picking\",\"executioner\",\"feele\",\"communicated\",\"decent\",\"Spanish\",\"memory\",\"deal\",\"Whence\",\"guides\",\"Thinks\",\"struggles\",\"nine\",\"yarns\",\"judiciously\",\"gayest\",\"sperm\",\"Turn\",\"talking\",\"journeyed\",\"assemble\",\"Duck\",\"Choice\",\"tens\",\"ignore\",\"audience\",\"grimly\",\"stiffly\",\"bowl\",\"Flatterers\",\"ominous\",\"walketh\",\"ideal\",\"education\",\"debris\",\"snuffed\",\"adventure\",\"commendation\",\"attempted\",\"Shakespeare\",\"Trumpet\",\"rousing\",\"Wood\",\"chastening\",\"waistcoats\",\"hap\",\"gardeners\",\"therefore\",\"hangs\",\"diverse\",\"hilarious\",\"Herculaneum\",\"tribute\",\"pump\",\"dangers\",\"beach\",\"reside\",\"Laban\",\"Caterpillar\",\"explanation\",\"uplifted\",\"mysterious\",\"bright\",\"meadow\",\"obliging\",\"FOLIO\",\"Sole\",\"fatigued\",\"Santa\",\"dumb\",\"overseers\",\"musician\",\"hesitating\",\"punishment\",\"hypocritical\",\"Cabin\",\"muscular\",\"flourish\",\"exclaim\",\"Egypt\",\"finally\",\"billows\",\"Pleiades\",\"Macduffe\",\"Heere\",\"about\",\"Nay\",\"plump\",\"Kirjatharba\",\"money\",\"barbaric\",\"unbelieving\",\"sleepers\",\"Shechem\",\"enclosing\",\"pity\",\"cooked\",\"everyone\",\"European\",\"XII\",\"Remember\",\"logical\",\"intricacies\",\"waist\",\"longest\",\"accepts\",\"issued\",\"Europe\",\"whiskers\",\"consecration\",\"frequently\",\"Beside\",\"spouse\",\"sweeping\",\"associations\",\"Thane\",\"declined\",\"words\",\"parallelogram\",\"inform\",\"Christmas\",\"grasp\",\"plainly\",\"Hamath\",\"ain\",\"Ahaziah\",\"knives\",\"thoughtless\",\"mounted\",\"Nobody\",\"caw\",\"feast\",\"breasts\",\"sparrows\",\"distribute\",\"evermore\",\"SHE\",\"freighted\",\"VIII\",\"rapport\",\"revolved\",\"escaped\",\"barely\",\"amazing\",\"chat\",\"_that_\",\"Michal\",\"Kohath\",\"jerk\",\"visibly\",\"vanishing\",\"86\",\"recommendations\",\"136\",\"conceiving\",\"ports\",\"Common\",\"mitre\",\"overthrow\",\"chaste\",\"serious\",\"ordered\",\"lay\",\"cankerworm\",\"yourself\",\"unclean\",\"rend\",\"quitted\",\"facing\",\"Bethaven\",\"hopped\",\"between\",\"turns\",\"ideas\",\"domestic\",\"Chase\",\"offices\",\"spoon\",\"Zobah\",\"faltering\",\"invest\",\"expose\",\"handmaids\",\"Samaria\",\"Job\",\"headed\",\"er\",\"incorporate\",\"curacy\",\"sprained\",\"Faith\",\"Trebonius\",\"benevolent\",\"Mannahatta\",\"impartial\",\"Tall\",\"strata\",\"savages\",\"subjected\",\"suspiciously\",\"raillery\",\"holdest\",\"beholds\",\"wakes\",\"heel\",\"seuerall\",\"remission\",\"plucked\",\"Monkey\",\"remaineth\",\"necklace\",\"nursed\",\"Persians\",\"allusion\",\"fornication\",\"royal\",\"fools\",\"Lory\",\"turne\",\"continents\",\"Peru\",\"SPERM\",\"piazza\",\"authority\",\"perennial\",\"fulfil\",\"measuring\",\"Frogs\",\"sport\",\"Draw\",\"fairs\",\"material\",\"pertaining\",\"eligible\",\"almonds\",\"oxen\",\"labours\",\"Thoughts\",\"rushed\",\"hunters\",\"foremost\",\"pits\",\"owe\",\"Other\",\"integrity\",\"appalling\",\"doo\",\"Pul\",\"booths\",\"blunt\",\"perfect\",\"card\",\"bondwoman\",\"partition\",\"Jezreel\",\"flat\",\"ghastly\",\"shoals\",\"limping\",\"Cask\",\"Hush\",\"looke\",\"foolish\",\"more\",\"amongst\",\"Fortunately\",\"pendant\",\"prop\",\"98\",\"romance\",\"estimation\",\"thanking\",\"attracted\",\"abstraction\",\"chances\",\"pattern\",\"restitution\",\"Ater\",\"Lucky\",\"Pekah\",\"One\",\"tax\",\"applications\",\"aching\",\"missed\",\"Eglon\",\"ago\",\"eateth\",\"wondering\",\"tolerate\",\"Want\",\"eager\",\"Naphtali\",\"setteth\",\"True\",\"unbearable\",\"perceiue\",\"maidens\",\"He\",\"triumphs\",\"distressed\",\"abroad\",\"thrones\",\".\\\"\",\"Britain\",\"Wimpey\",\"HIS\",\"lop\",\"friendly\",\"closer\",\"Shark\",\"Halloa\",\"multiform\",\"Sanctify\",\"Kensington\",\"contentions\",\"greeted\",\"tastes\",\"Grateful\",\"melting\",\"owl\",\"situated\",\"Asse\",\"Hum\",\"vicinity\",\"confirming\",\"Cologne\",\"silenced\",\"equivalent\",\"Park\",\"repel\",\"silver\",\"ewe\",\"invitation\",\"fearfulness\",\"savagely\",\"alongside\",\"ahoy\",\"Naomi\",\")--\",\"require\",\"interfering\",\"hospital\",\"Esther\",\"scarcely\",\"Seal\",\"forbids\",\"arithmetic\",\"inches\",\"freewill\",\"owest\",\"flaming\",\"shot\",\"sunny\",\"mill\",\"excess\",\"erewhile\",\"Listen\",\"power\",\"Sold\",\"vague\",\"militant\",\"constable\",\"essentially\",\"manifested\",\"expelled\",\"scribes\",\"wits\",\"Laertes\",\"strict\",\"sail\",\"Minde\",\"practice\",\"dizzy\",\"couched\",\"dam\",\"Australia\",\"forgave\",\"Philip\",\"Orleans\",\"during\",\"portable\",\"Read\",\"rogues\",\"unworthy\",\"confound\",\"brute\",\"Judah\",\"reflectively\",\"nourish\",\"sucklings\",\"architecture\",\"discipline\",\"curiously\",\"cover\",\"renewing\",\"adhering\",\"organs\",\"files\",\"forbade\",\"Maker\",\"WANT\",\"fly\",\"November\",\"slain\",\"MacIan\",\"Majesty\",\"penitence\",\"communicative\",\"sanctify\",\"sorts\",\"inaccessible\",\"maiden\",\"slumber\",\"considerable\",\"frolic\",\"force\",\"mandrakes\",\"Haman\",\"bondman\",\"Hittite\",\"apple\",\"mines\",\"up\",\"eats\",\"grains\",\"congratulations\",\"aloft\",\"retorted\",\"Narwhale\",\"Zippor\",\"degrees\",\"Rosse\",\"pageant\",\"couples\",\"blackberries\",\"Charme\",\"dainties\",\"spurs\",\"added\",\"capacity\",\"point\",\"implicit\",\"position\",\"ogre\",\"Immer\",\"monk\",\"bud\",\"III\",\"Freely\",\"accursed\",\"hid\",\"Towards\",\"starts\",\"Richard\",\"growths\",\"hazel\",\"remembering\",\"china\",\"section\",\"Eidolons\",\"injury\",\"Bid\",\"streams\",\"appearing\",\"wroth\",\"hull\",\"signs\",\"mariner\",\"acorn\",\"anxiety\",\"tiles\",\"ribs\",\"dirge\",\"playground\",\"beds\",\"fascination\",\"struggled\",\"cleansed\",\"fears\",\"middle\",\"blasphemies\",\"margin\",\"Joah\",\"fret\",\"hoist\",\"lodging\",\"lain\",\"energy\",\"nursing\",\"motive\",\"Africa\",\"Shame\",\"blotted\",\"Yarman\",\"Bunger\",\"flow\",\"publish\",\"jumped\",\"abased\",\"trenches\",\"holiness\",\"use\",\"Marry\",\"trying\",\"gunpowder\",\"dinners\",\"often\",\"history\",\"purer\",\"shaken\",\"Fomorians\",\"deceitful\",\"salute\",\"92\",\"fifth\",\"exaggeration\",\"illustrious\",\"hyssop\",\"Charlotte\",\"offence\",\"errand\",\"sow\",\"pitcher\",\"favour\",\"baked\",\"vivacious\",\"carry\",\"demoniac\",\"watches\",\"throw\",\"confronted\",\"inviting\",\"wolf\",\"!\\\"\",\"breakfast\",\"jointure\",\"translate\",\"overtaken\",\"doctrines\",\"Broadway\",\"refused\",\"cats\",\"Jenning\",\"Elliots\",\"aspirations\",\"breakwater\",\"curing\",\"footstool\",\"Uriah\",\"carts\",\"charged\",\"hesitated\",\"ostentatiously\",\"color\",\"trip\",\"meaneth\",\"offensive\",\"celestial\",\"Should\",\"Cornish\",\"tenor\",\"END\",\"unicorn\",\"announcement\",\"transcendent\",\"Ner\",\"burne\",\"Bright\",\"touches\",\"opaque\",\"continue\",\"condescending\",\"desperate\",\"illustrate\",\"letter\",\"Dunsinane\",\"?)\",\"cutlass\",\"earthquakes\",\"WHALE\",\"substitute\",\"garrisons\",\"cease\",\"turtles\",\"melancholy\",\"writ\",\"Talbot\",\"attract\",\"Reuben\",\"cook\",\"round\",\"violet\",\"humorous\",\"babe\",\"meditate\",\"repeat\",\"Wise\",\"mistrust\",\"Street\",\"annual\",\"preserver\",\"shirts\",\"Horse\",\"vistas\",\"bold\",\"whereas\",\"quivering\",\"Creator\",\"recovered\",\"hung\",\"strength\",\"coward\",\"57\",\"overboard\",\"shop\",\"habitual\",\"vile\",\"swarthy\",\"Kanada\",\"curly\",\"rejoicing\",\"courses\",\"Shalt\",\"shouldest\",\"thirteenth\",\"yer\",\"subtlest\",\"ethereal\",\"remorseless\",\"Diuell\",\"weedy\",\"golden\",\"Geshur\",\"furniture\",\"bricks\",\"Pope\",\"layer\",\"Massa\",\"devoted\",\"bills\",\"Society\",\"shrunk\",\"Ezekiel\",\"vehemence\",\"mishap\",\"finde\",\"insect\",\"vail\",\"Rechab\",\"confesse\",\"box\",\"backward\",\"been\",\"becoming\",\"legged\",\"blasphemeth\",\"Remove\",\"revolted\",\"staircase\",\"consecrate\",\"magistrates\",\"twas\",\"emulate\",\"wentest\",\"Shelemiah\",\"Young\",\"delightful\",\"Elizabethan\",\"range\",\"harpooneer\",\"anxiously\",\"whisper\",\"se\",\"hips\",\"alas\",\"chop\",\"persecute\",\"safest\",\"presenting\",\"jester\",\"gliding\",\"lives\",\"nursery\",\"Dibon\",\"hours\",\"want\",\"THEY\",\"Shem\",\"Shout\",\"Hell\",\"observations\",\"rumbly\",\"Eternity\",\"Achan\",\"leaven\",\"die\",\"Windmill\",\"examples\",\"class\",\"Typhoon\",\"loth\",\"muttered\",\"feat\",\"elements\",\"Flambeau\",\"caps\",\"daubed\",\"liest\",\"disappeared\",\"hare\",\"outmost\",\"difficulties\",\"ruin\",\"107\",\"towering\",\"Agag\",\"eel\",\"pair\",\"\\\"*\",\"barefoot\",\"expensive\",\"changing\",\"assay\",\"kneeling\",\"semi\",\"tyrant\",\"profoundly\",\"buoy\",\"flame\",\"VOYAGE\",\"giveth\",\"dissimilar\",\"ample\",\"sieve\",\"shake\",\"stolidity\",\"stain\",\"ash\",\"solitary\",\"traffick\",\"moth\",\"towed\",\"surveying\",\"raving\",\"balls\",\"haile\",\"inhabitant\",\"labour\",\"Bates\",\"Command\",\"resistance\",\"loue\",\"Voice\",\"enter\",\"Democracy\",\"sung\",\"care\",\"laboured\",\"intuition\",\"progress\",\"doeth\",\"Achilles\",\"plum\",\"walled\",\"clown\",\"Impossible\",\"sorceries\",\"destitute\",\"split\",\"named\",\"bosoms\",\"sleeves\",\"disturb\",\"steadfastly\",\"adhesiveness\",\"sleepless\",\"Martin\",\"feverishly\",\"merchandise\",\"carrying\",\"beginning\",\"frost\",\"Confound\",\"islands\",\"goal\",\"Suckling\",\"glistened\",\"closed\",\"liver\",\"falsely\",\"Fairfax\",\"Gather\",\"ere\",\"amid\",\"equality\",\"pilot\",\"sorrows\",\"Eve\",\"he\",\"halted\",\"Knightley\",\"sockets\",\"strive\",\"record\",\"party\",\"brilliancy\",\"King\",\"ceasing\",\"exclaimed\",\"Arioch\",\"carve\",\"gentlemen\",\"ghost\",\"stretches\",\"Us\",\"vulgarity\",\"dared\",\"enlivened\",\"reprobate\",\"pooh\",\"doest\",\"when\",\"vouchsafe\",\"tempers\",\"York\",\"film\",\"oh\",\"Legions\",\"groans\",\"back\",\"Macb\",\"expanse\",\"altogether\",\"resolu\",\"Madam\",\"wares\",\"tapers\",\"Weep\",\"stir\",\"Breathe\",\"spoken\",\"Smallridge\",\"seller\",\"Frog\",\"Highest\",\"threatened\",\"solid\",\"graven\",\"assumed\",\"whoever\",\"IS\",\"unlocked\",\"reluctant\",\"rang\",\"fishy\",\"Drum\",\"Gerar\",\"ninth\",\"barking\",\"relations\",\"silk\",\"liking\",\"constantly\",\"freed\",\"flannel\",\"elate\",\"beleeue\",\"Jupiter\",\"Ashtaroth\",\"cruell\",\"strip\",\"modesty\",\"assayed\",\"annihilation\",\"demanded\",\"insulted\",\"dearly\",\"slaves\",\"reversed\",\"hewn\",\"months\",\"prosperity\",\"Whoso\",\"tasting\",\"classic\",\"coast\",\"traditions\",\"renounced\",\"soule\",\"correspond\",\"Ginger\",\"rush\",\"tribulation\",\"vivid\",\"inexperienced\",\"area\",\"barrels\",\"rested\",\"ceaseless\",\"infancy\",\"recesses\",\"midwives\",\"extra\",\"Ple\",\"overcame\",\"rob\",\"refrained\",\"GREAT\",\"consequent\",\"attacked\",\"Speech\",\"particle\",\"chariot\",\"earthquake\",\"plentiful\",\"connection\",\"Randalls\",\"desk\",\"Zimri\",\"Felix\",\"commandeth\",\"August\",\"sacks\",\"Lakeman\",\"Christendom\",\"Raised\",\"loggerhead\",\"flee\",\"leaps\",\"unkind\",\"pilgrimage\",\"bewail\",\"Laodicea\",\"trap\",\"deepening\",\"Hearken\",\"Love\",\"kite\",\"Montano\",\"swear\",\"turkey\",\"hither\",\"remaining\",\"remainder\",\"feared\",\"fetch\",\"temperature\",\"straining\",\"flint\",\"fuller\",\"approval\",\"uniform\",\"fitly\",\"defileth\",\"map\",\"liars\",\"continuance\",\"Enterprize\",\"followed\",\"ripped\",\"Jarmuth\",\"prick\",\"Beneath\",\"Lazarus\",\"puns\",\"pantomime\",\"Strathspey\",\"hoot\",\"pound\",\"whereby\",\"schooling\",\"receiv\",\"matches\",\"gleaned\",\"Diamond\",\"freely\",\"Brobdingnag\",\"foxes\",\"salt\",\"lusty\",\"respecting\",\"Doesn\",\"Plato\",\"conversation\",\"Jersey\",\"Ramothgilead\",\"yielding\",\"others\",\"envying\",\"glimmering\",\"produce\",\"gap\",\"braces\",\"racing\",\"Mock\",\"reaching\",\"find\",\"106\",\"searching\",\"lie\",\"spoke\",\"plates\",\"grounded\",\"Westgate\",\"schoolmistress\",\"unlike\",\"Todhunter\",\"years\",\"Descend\",\"When\",\"mingled\",\"looked\",\"chestnut\",\"stiffnecked\",\"misfortune\",\"dance\",\"causing\",\"valiant\",\"cared\",\"Crow\",\"perfected\",\"preach\",\"thrift\",\"Nor\",\"nervous\",\"handsome\",\"Anybody\",\"beare\",\"direst\",\"nay\",\"flourishing\",\"adulteries\",\"misty\",\"Custome\",\"irrational\",\"opposed\",\"murder\",\"Brahma\",\"transformed\",\"justly\",\"parade\",\"Little\",\"Huzza\",\"wills\",\"offences\",\"hadn\",\"wandered\",\"inward\",\"Zanoah\",\"gasp\",\"sanctity\",\"blown\",\"dense\",\"Tarry\",\"hereby\",\"Muscari\",\"edifying\",\"suck\",\"divinely\",\"bidden\",\"drowned\",\"aloes\",\"swallow\",\"wasteful\",\"candlesticks\",\"corresponding\",\"Tranquo\",\"againe\",\"stumblingblock\",\"Ahab\",\"shattering\",\"tree\",\"swallows\",\"Clear\",\"upset\",\"admit\",\"slack\",\"great\",\"sweep\",\"committeth\",\"102\",\"woodland\",\"shortest\",\"tendeth\",\"cities\",\"wallow\",\"necessarily\",\"railing\",\"waiting\",\"piled\",\"bridle\",\"attributed\",\"Titinius\",\"onely\",\"baffled\",\"prayer\",\"Almost\",\"whistling\",\"top\",\"Elisabeth\",\"reappeared\",\"Observe\",\"hovered\",\"life\",\"emerods\",\"believed\",\"important\",\"Mast\",\"possess\",\"populous\",\"being\",\"sum\",\"78\",\"lengthen\",\"panes\",\"grew\",\"gloves\",\"Harim\",\"books\",\"tugged\",\"Cherethites\",\"richness\",\"swayed\",\"literal\",\"Nun\",\"reality\",\"commonly\",\"devout\",\"chuckling\",\"representative\",\"irons\",\"dexterity\",\"presume\",\"Anathoth\",\"outwardly\",\"titles\",\"test\",\"discuss\",\"Look\",\"retreat\",\"admitted\",\"pointing\",\"cruelty\",\"cheerful\",\"Sihon\",\"striving\",\"professing\",\"noiseless\",\"attacks\",\"Knock\",\"ancient\",\"expressive\",\"maine\",\"Lye\",\"Childe\",\"wilder\",\"seemed\",\"buzz\",\"turnes\",\"Villaine\",\"bald\",\"scar\",\"owes\",\"ivory\",\"practically\",\"unfairly\",\"Cowper\",\"haul\",\"Freedom\",\"BARRING\",\"quickeneth\",\"vast\",\"chest\",\"consisted\",\"conclude\",\"Morning\",\"longsuffering\",\"independent\",\"diseases\",\"Esaias\",\"excursion\",\"grassy\",\"hasting\",\"thigh\",\"popped\",\"sweeps\",\"forth\",\"mingle\",\"comeliness\",\"Isaac\",\"darling\",\"bewitching\",\"tucked\",\"blundering\",\"Knightleys\",\"blasts\",\"inasmuch\",\"heauy\",\"extremely\",\"gray\",\"bark\",\"kneel\",\"credit\",\"heightened\",\"makes\",\"sluggish\",\"observer\",\"early\",\"charitable\",\"helm\",\"disparity\",\"Elijah\",\"suckling\",\"Gibeah\",\"cloudy\",\"chaise\",\"beam\",\"Sucklings\",\"moderate\",\"Gibeonites\",\"keep\",\"posted\",\"hypocrites\",\"prudent\",\"Excuse\",\"lave\",\"shuddered\",\"Coming\",\"Finding\",\"humour\",\"\\\"`\",\"Castle\",\"whatever\",\"denying\",\"dissent\",\"rivulet\",\"dipping\",\"swiftness\",\"83\",\"called\",\"stump\",\"innermost\",\"interpretation\",\"Between\",\"leading\",\"spectacles\",\"mortifying\",\"distresses\",\"35\",\"sturdy\",\"appealed\",\"nodding\",\"thunderstruck\",\"she\",\"46\",\"asunder\",\"ploughing\",\"invention\",\"railroad\",\"subtle\",\"drunken\",\"wid\",\"retort\",\"head\",\"refuses\",\"hourly\",\"Meanwhile\",\"garlands\",\"demands\",\"murther\",\"Ephron\",\"daybreak\",\"unmeaning\",\"interrupted\",\"jaw\",\"jewels\",\"ravens\",\"poet\",\"improbable\",\",--\",\"MAN\",\"lays\",\"sendeth\",\"Zeeb\",\"reddish\",\"drunk\",\"fortunately\",\"Ill\",\"Phinehas\",\"mounts\",\"Fight\",\"suspend\",\"thanke\",\"railroads\",\"correctly\",\"Ahasuerus\",\"sorely\",\"robe\",\"Tom\",\"learning\",\"working\",\"Chick\",\"bully\",\"forbear\",\"wilful\",\"144\",\"gilt\",\"quire\",\"riot\",\"creatures\",\"guests\",\"mightily\",\"thank\",\"discovered\",\"moderately\",\"Zealand\",\"maddening\",\"level\",\"sawest\",\"Brunswick\",\"sideways\",\"brain\",\"Starting\",\"shines\",\"gird\",\"William\",\"whose\",\"impertinent\",\"Elkanah\",\"desireth\",\"Jane\",\"confirmation\",\"tore\",\"sob\",\"Jehiel\",\"prophet\",\"scolding\",\"oarsmen\",\"goe\",\"chairs\",\"piteous\",\"perfume\",\"kingly\",\"twisted\",\"resources\",\"latitude\",\"indicate\",\"released\",\"Nicodemus\",\"morsel\",\"curate\",\"Lion\",\"Hor\",\"oliveyards\",\"wilt\",\"watered\",\"profile\",\"9\",\"incurable\",\"adorned\",\"Yours\",\"mysteriously\",\"essence\",\"file\",\"Pardon\",\"fastening\",\"broken\",\"deceased\",\"rolls\",\"rust\",\"ocean\",\"floundering\",\"whilst\",\"fancies\",\"meanes\",\"swept\",\"hoped\",\"dismayed\",\"Can\",\"Timnath\",\"plaister\",\"sepulchre\",\"severely\",\"Our\",\"Hararite\",\"ripening\",\"_you_\",\"fragments\",\"glass\",\"interesting\",\"food\",\"estates\",\"together\",\"spoiler\",\"Ahikam\",\"provoked\",\"practicable\",\"scientific\",\"naturally\",\"buns\",\"welcome\",\"givest\",\"Gomorrah\",\"inherent\",\"foil\",\"clipped\",\"shaketh\",\"pacified\",\"Mercy\",\"Canaan\",\"Gaal\",\"pathetic\",\"Canaanite\",\"coiled\",\"enjoined\",\"primal\",\"intimately\",\"indulgence\",\"--\\\"\",\"faithfulness\",\"drawing\",\"southward\",\"chests\",\"around\",\",)\",\"won\",\"Ashdod\",\"Caius\",\"fathom\",\"dusty\",\"noise\",\"High\",\"recommendation\",\"blemish\",\"Suddenly\",\"communed\",\"60\",\"deputy\",\"syllable\",\"persecutest\",\"rous\",\"laboring\",\"imminent\",\"Hey\",\"engravings\",\"billiard\",\"introduced\",\"glistening\",\"suffered\",\"wrenched\",\"noticing\",\"tarts\",\"defect\",\"Fifth\",\"digging\",\"Baal\",\"rejected\",\"lanterns\",\"flour\",\"matchless\",\"Earl\",\"Omri\",\"warrant\",\"employment\",\"shy\",\"suddenly\",\"nobler\",\"Andrew\",\"friends\",\"Small\",\"stunning\",\"unreasonable\",\"freshly\",\"collection\",\"suitable\",\"Macduff\",\"empyreal\",\"foreigners\",\"flakes\",\"enterprise\",\"fury\",\"bent\",\"proclaim\",\"Son\",\"tales\",\"morbid\",\"drag\",\"hailed\",\"scarf\",\"dirt\",\"shrewd\",\"homer\",\"sentences\",\"mantle\",\"_The\",\"pilgrim\",\"Naaman\",\"offend\",\"blanket\",\"banker\",\"Hercules\",\"did\",\"lowering\",\"Bahurim\",\"companions\",\"omitted\",\"singular\",\"repulsed\",\"muskets\",\"penetrate\",\"Gave\",\"welcomed\",\"Bombay\",\"dey\",\"corridor\",\"accidental\",\"luck\",\"sick\",\"baptized\",\"gather\",\"declares\",\"ex\",\"churning\",\"reproved\",\"monomaniac\",\"beneath\",\"myrrh\",\"archer\",\"civilities\",\"James\",\"rueful\",\";--\",\"Magog\",\"Steelkilt\",\"abundance\",\"flowed\",\"tost\",\"arch\",\"clung\",\"shallow\",\"meaning\",\"85\",\"soles\",\"Juda\",\"roes\",\"louder\",\"sailors\",\"mulberry\",\"US\",\"polluted\",\"meddle\",\"buckle\",\"smile\",\"removed\",\"daresay\",\"elemental\",\"natur\",\"Tema\",\"any\",\"seene\",\"bellowing\",\"Salvation\",\"whelps\",\"vigorous\",\"enclosure\",\"everybody\",\"tenant\",\"pronounce\",\"ignoble\",\"salutes\",\"poised\",\"defy\",\"asleepe\",\"ken\",\"weaker\",\"Pedahzur\",\"Circus\",\"guise\",\"FARMER\",\"failed\",\"alarm\",\"conquering\",\"giants\",\"impressed\",\"unattended\",\"Past\",\"darken\",\"FATHER\",\"bolts\",\"contain\",\"BACK\",\"freckles\",\"lance\",\"frosty\",\"twelue\",\"gentility\",\"retreated\",\"debts\",\"studded\",\"fiends\",\"authors\",\"confidential\",\"fix\",\"torches\",\"assigned\",\"sware\",\"52\",\"clefts\",\"hardy\",\"relics\",\"Cato\",\"indisputable\",\"thrice\",\"Chaldeans\",\"swerve\",\"cleansing\",\"tumbled\",\"Thou\",\"French\",\"Mar\",\"ephah\",\"Mixed\",\"village\",\"worn\",\"mellow\",\"whalebone\",\"Amongst\",\"unconquerable\",\"limits\",\"faintest\",\"describe\",\"consumed\",\"calmness\",\"peal\",\"assaults\",\"bemoan\",\"rebelled\",\"Part\",\"contrasting\",\"revived\",\"given\",\"supplication\",\"serpentine\",\"barns\",\"VI\",\"overturned\",\"neat\",\"unaccountable\",\"timidity\",\"ambush\",\"spilt\",\"testimonies\",\"consultation\",\"March\",\"betraying\",\"inspiration\",\"woven\",\"Highlander\",\"holding\",\"practising\",\"neighbourhood\",\"faces\",\"Richmond\",\"according\",\"namely\",\"Ziklag\",\"follows\",\"proportion\",\"whereat\",\"etc\",\"species\",\"Iron\",\"swallowing\",\"Texas\",\"seamen\",\"Sarai\",\"Hood\",\"security\",\"Table\",\"Charles\",\"embarrassment\",\"actor\",\"ornamented\",\"date\",\"Jack\",\"perilous\",\"makest\",\"pursuits\",\"righteously\",\"sheet\",\"--\\\"'\",\"Horses\",\"engage\",\"ruinous\",\"earnestly\",\"Horatio\",\"Galatia\",\"trout\",\"stake\",\"godmother\",\"ounce\",\"confront\",\"beehive\",\"indeed\",\"alarms\",\"Mark\",\"wither\",\"mechanical\",\"direct\",\"Pale\",\"neighbors\",\"incarnate\",\"pole\",\"clouded\",\"mixing\",\"Violet\",\"oak\",\"greedy\",\"sequel\",\"dreams\",\"anointing\",\"Carolina\",\"gripped\",\"desart\",\"little\",\"canoes\",\"Twice\",\"hiding\",\"intervals\",\"severity\",\"Crowne\",\"deadly\",\"owne\",\"Atlantic\",\"intentions\",\"arbitrary\",\"shuts\",\"malicious\",\"wag\",\"glazed\",\"Perseus\",\"Torch\",\"Governor\",\"Beast\",\"policeman\",\"Urim\",\"ministered\",\"Mayhew\",\"smite\",\"Holy\",\"133\",\"encourage\",\"projections\",\"hidden\",\"Confess\",\"reconciliation\",\"56\",\"related\",\"indulge\",\"loops\",\"hasteth\",\"Line\",\"spirited\",\"Stygian\",\"recoil\",\"resent\",\"Prison\",\"hence\",\"linked\",\"Jeush\",\"mamma\",\"70\",\"Lazy\",\"Zacharias\",\"shreds\",\"lengths\",\"squadrons\",\"crafty\",\"Hee\",\"delicately\",\"likelihood\",\"industrious\",\"pretending\",\"hating\",\"faith\",\"amend\",\"comely\",\"scorn\",\"Baalpeor\",\"OR\",\"puff\",\"chanc\",\"echoing\",\"Five\",\"fretting\",\"untold\",\"battle\",\"Tamar\",\"XIII\",\"seruice\",\"mud\",\"man\",\"hammer\",\"truths\",\"rapidity\",\"lastly\",\"quarrelling\",\"Soft\",\"Folly\",\"Day\",\"keels\",\"sinneth\",\"Truck\",\"persuading\",\"fearest\",\"Cadiz\",\"pod\",\"selfsame\",\"foundation\",\"afford\",\"Dixon\",\"handle\",\"Then\",\"Nineveh\",\"bang\",\"drove\",\"apology\",\"blameless\",\"Godhead\",\"backbone\",\"tenderness\",\"BUT\",\"foule\",\"Neuer\",\"possible\",\"141\",\"cruet\",\"quantity\",\"Conscience\",\"ambassador\",\"transgressed\",\"hoarse\",\"Horonaim\",\"shrieks\",\"Harley\",\"refrain\",\"Confusion\",\"fried\",\"twinkle\",\"decks\",\"harm\",\"youthful\",\"prosperous\",\"political\",\"absorbing\",\"route\",\".'\\\"\",\"splendid\",\"uprightness\",\"finishing\",\"pressing\",\"dressing\",\"autumn\",\"trusteth\",\"orphans\",\"dissuade\",\"best\",\"Gihon\",\"Rehabiah\",\"inn\",\"triumph\",\"furrow\",\"softened\",\"jump\",\"shudder\",\"Neriah\",\"serpent\",\"Italian\",\"Power\",\"safely\",\"champion\",\"helper\",\"tract\",\"spake\",\"burying\",\"magnifying\",\"mincer\",\"clock\",\"agreeing\",\"Jehoahaz\",\"rooms\",\"sell\",\"loosing\",\"yawn\",\"winged\",\"roar\",\"sigh\",\"Thine\",\"thickly\",\"based\",\"democratic\",\"cheap\",\"eyed\",\"emptiness\",\"dead\",\"seven\",\"Shall\",\"crests\",\"ridges\",\"trials\",\"testified\",\"Sun\",\"imposed\",\"frivolous\",\"Emperor\",\"merits\",\"Else\",\"observed\",\"Family\",\"KNOW\",\"shed\",\"track\",\"monstrous\",\"fences\",\"ayre\",\"shod\",\"Joram\",\"nails\",\"eBooks\",\"Urijah\",\"threshingfloor\",\"fresher\",\"ribands\",\"fleeth\",\"grazed\",\"rod\",\"polish\",\"rue\",\"Pip\",\"career\",\"harper\",\"thinkers\",\"connexion\",\"impose\",\"beads\",\"variations\",\"following\",\"splinter\",\"boiling\",\"Pelatiah\",\"deaths\",\"eate\",\"stone\",\"Black\",\"Fifty\",\"Ur\",\"guilt\",\"leathern\",\"loaf\",\"palpable\",\"constancy\",\"roadside\",\"redeemer\",\"checked\",\"Yea\",\"earn\",\"rouse\",\"coax\",\"maddened\",\"Lo\",\"filling\",\"literatures\",\"search\",\"excited\",\"comrades\",\"moveth\",\"whirl\",\"bride\",\"glories\",\"moon\",\"bare\",\"shouldst\",\"loftiest\",\"built\",\"105\",\"precept\",\"charmed\",\"shure\",\"tops\",\"reverend\",\"agents\",\"thickness\",\"patients\",\"Mean\",\"canopy\",\"comparatively\",\"warfare\",\"hilarity\",\"marry\",\"jackets\",\"papers\",\"increase\",\"mockers\",\"paling\",\"Lud\",\"duly\",\"Menahem\",\"_\",\"sanguine\",\"Azmaveth\",\"rememberest\",\"undaunted\",\"mortality\",\"magnanimity\",\"Cowdray\",\"potent\",\"blissful\",\"outlet\",\"stationary\",\"supposition\",\"simultaneously\",\"blazed\",\"hurrying\",\"remembrance\",\"listener\",\"stout\",\"outlined\",\"sustenance\",\"Worse\",\"therein\",\"Baruch\",\"so\",\"Bab\",\"endured\",\"frankness\",\"hearts\",\"Sometimes\",\"Stern\",\"Asaph\",\"appeal\",\"weren\",\"bends\",\"nameless\",\"teach\",\"penitent\",\"asked\",\"Lost\",\"dubious\",\"olives\",\"unfeigned\",\"woes\",\"inheritance\",\"reflection\",\"ceases\",\"noses\",\"agonies\",\"disdained\",\"occupied\",\"Would\",\"boyish\",\"kiss\",\"meekness\",\"ravenous\",\"compassion\",\"bitter\",\"larboard\",\"lepers\",\"Adah\",\"affluence\",\"XI\",\"dawning\",\"extended\",\"Sleet\",\"flash\",\"doors\",\"Amon\",\"faithful\",\"diseased\",\"avoiding\",\"operation\",\"Scotland\",\"listen\",\"sapphire\",\"lattice\",\"limber\",\"consulted\",\"solemnly\",\"posterity\",\"Hearty\",\"husbandmen\",\"vicarage\",\"suicide\",\"displeased\",\"trades\",\"Whaling\",\"oppressors\",\"police\",\"Only\",\"smallness\",\"combat\",\"separated\",\"magicians\",\"streaming\",\"lions\",\"fleshhooks\",\"wheeling\",\"allowance\",\"dies\",\"hoe\",\"deceiveth\",\"unpleasant\",\"Chinese\",\"exist\",\"Captain\",\"summon\",\"using\",\"attitude\",\"stink\",\"Boston\",\"unsafe\",\"prettily\",\"shuddering\",\"Knave\",\"exhortation\",\"banquet\",\"discussed\",\"sensibly\",\"splash\",\"uncommonly\",\"weight\",\"singer\",\"sake\",\"Iscariot\",\"pronounced\",\"outrage\",\"hardship\",\"Micaiah\",\"professor\",\"ruling\",\"undo\",\"breaking\",\"Methuselah\",\"Directly\",\"Gera\",\"firm\",\"wouldst\",\"vpon\",\"chalk\",\"saluting\",\"uttering\",\"shepherds\",\"prejudiced\",\"tide\",\"wiles\",\"fir\",\"merriment\",\"dressed\",\"intent\",\"purged\",\"breaths\",\"westward\",\"detached\",\"alone\",\"blending\",\"oath\",\"affirm\",\"latest\",\"community\",\"hoofs\",\"Jobab\",\"obeisance\",\"Maiestie\",\"Osricke\",\"aliens\",\"Wheel\",\"suffice\",\"thereof\",\"Sunne\",\"start\",\"blackberry\",\"bowls\",\"Machpelah\",\"Much\",\"Dormouse\",\"Nebuzaradan\",\"compliance\",\"inverted\",\"Thither\",\"l\",\"obeying\",\"Bow\",\"quell\",\"mightiest\",\"buckler\",\"Comrade\",\"pasteboard\",\"tremendous\",\"Carpenter\",\"companion\",\"usurpation\",\"66\",\"Bear\",\"sprouts\",\"indissoluble\",\"godliness\",\"litter\",\"modestly\",\"Evil\",\"continuous\",\"heart\",\"stark\",\"!--\",\"Approaching\",\"popular\",\"depending\",\"huzzaing\",\"stripes\",\"pages\",\"undeviating\",\"exhibit\",\"120\",\"oppose\",\"four\",\"confidence\",\"careful\",\"staid\",\"Muse\",\"Perhaps\",\"grunted\",\"upside\",\"cipher\",\"shafts\",\"dispute\",\"deprived\",\"benevolence\",\"befel\",\"lest\",\"guest\",\"falls\",\"some\",\"nearing\",\"overtake\",\"Gomorrha\",\"climes\",\"acquit\",\"bringeth\",\"subdue\",\"hedges\",\"single\",\"Enoch\",\"fan\",\"attack\",\"briers\",\"consult\",\"cocoa\",\"sights\",\"Mink\",\"delayed\",\"pensive\",\"plausible\",\"Pacific\",\"beryl\",\"tumble\",\"Aiah\",\"specially\",\"forgiving\",\"charade\",\"Alps\",\"kinder\",\"Turnbull\",\"TALBOT\",\"tasks\",\"instrument\",\"encamped\",\"envelope\",\"drawings\",\"ability\",\"reveries\",\"landing\",\"light\",\"Israelitish\",\"figure\",\"lifeless\",\"Union\",\"Gall\",\"examine\",\"helpers\",\"six\",\"evade\",\"Therein\",\"obvious\",\"oblique\",\"attends\",\"recitative\",\"fearefull\",\"vales\",\"denote\",\"Hail\",\"swollen\",\"Tappuah\",\"mending\",\"mechanics\",\"Doeg\",\"be\",\"straightened\",\"drip\",\"content\",\"drum\",\"verie\",\"glory\",\"snare\",\"vice\",\"urged\",\"fail\",\"trodden\",\"Leave\",\"pays\",\"summer\",\"reserved\",\"joyful\",\"Wherefore\",\"reputation\",\"Unknown\",\"along\",\"needeth\",\"horrible\",\"resplendent\",\"Elector\",\"Stand\",\"leaned\",\"angels\",\"clearness\",\"Creatures\",\"19\",\"appearances\",\"42\",\"plunge\",\"returning\",\"138\",\"maternal\",\"stedfast\",\"amendment\",\"newly\",\"heardest\",\"tough\",\"hillside\",\"approach\",\"illiterate\",\"discernible\",\"avenging\",\"shilling\",\"admires\",\"Croker\",\"resolution\",\"robbed\",\"counted\",\"wrath\",\"tramp\",\"stick\",\"unwillingness\",\"professed\",\"eccentric\",\"heron\",\"Honourable\",\"winked\",\"waded\",\"Hilkiah\",\"tails\",\"menservants\",\"Secunda\",\"SNEEZES\",\"Peggy\",\"mistook\",\"Doth\",\"bowers\",\"communication\",\"unluckily\",\"races\",\"coats\",\"tearing\",\"disciple\",\"milliner\",\"embrace\",\"managed\",\"neuer\",\"swamp\",\"saddle\",\"presumed\",\"disapprove\",\"prythee\",\"send\",\"scuttle\",\"waiteth\",\"earring\",\"leap\",\"matrimony\",\"knocked\",\"tatters\",\"Comforter\",\"brightness\",\"deserted\",\"Pahathmoab\",\"staggered\",\"rash\",\"stamping\",\"dissipation\",\"herd\",\"themes\",\"deceived\",\"procession\",\"knights\",\"ashore\",\"hump\",\"moisture\",\"torn\",\"diminish\",\"edify\",\"stained\",\"Might\",\"ravished\",\"Clouds\",\"shortened\",\"appointment\",\"Greek\",\"embarrassed\",\"Rephaim\",\"Horn\",\"breezes\",\"Honour\",\"Ligarius\",\"extravagance\",\"grandmother\",\"Beasts\",\"accord\",\"wantonness\",\"cleared\",\"help\",\"departure\",\"stooping\",\"Torches\",\"Cush\",\"scheme\",\"cent\",\"recollect\",\"Syme\",\"Voyage\",\"practise\",\"brightest\",\"soundings\",\"led\",\"Foe\",\"amply\",\"circumspection\",\"hardly\",\"dodge\",\"bounding\",\"isolated\",\"aloud\",\"anyone\",\"Suffer\",\"picturesque\",\"contracted\",\"comforters\",\"universes\",\"Y\",\"utterance\",\"anew\",\"mans\",\"afresh\",\"Crossing\",\"armed\",\"contend\",\"peeped\",\"Help\",\"Fellowes\",\"Allah\",\"benefited\",\"erred\",\"gladly\",\"raised\",\"attire\",\"bowing\",\"thyself\",\"creating\",\"measles\",\"dreadfull\",\"Baasha\",\"defile\",\"solitude\",\"Peace\",\"sunrising\",\"hastened\",\"scotcher\",\"reward\",\"created\",\"may\",\"voyage\",\"German\",\"Innumerable\",\"rattled\",\"April\",\"Merry\",\"fruitless\",\"shouldn\",\"infection\",\"largely\",\"'.\",\"restlessness\",\"imaginable\",\"nose\",\"Brian\",\"palms\",\"gaze\",\"tanner\",\"lurk\",\"monks\",\"leysure\",\"surprize\",\"none\",\"dues\",\"pilgrims\",\"brake\",\"twentieth\",\"schoolboy\",\"foreskins\",\"bored\",\"warning\",\"intently\",\"quieted\",\"unreasonably\",\"Space\",\"Providence\",\"sobriety\",\"heresies\",\"Seraph\",\"excels\",\"Rehob\",\"33\",\"jealousy\",\"value\",\"grow\",\"comming\",\"Malchijah\",\"lasting\",\"rib\",\"remembered\",\"barbed\",\"Congress\",\"puzzling\",\"consorted\",\"faults\",\"improved\",\"made\",\"Following\",\"toiling\",\"Loud\",\"Piercefield\",\"reacheth\",\"hinder\",\"pride\",\"Aloud\",\"courtesy\",\"Matthew\",\"drivers\",\"Eh\",\"unabated\",\"cause\",\"address\",\"those\",\"Pharisees\",\"brandishing\",\"rearing\",\"us\",\"clean\",\"black\",\"fleet\",\"Against\",\"soup\",\"Jozadak\",\"arms\",\"c\",\"royalty\",\"inevitably\",\"\\\"'\",\"stars\",\"Republic\",\"marvels\",\"guarding\",\"brace\",\"arrow\",\"sceptical\",\"ordinarily\",\"Azekah\",\"readers\",\"imports\",\"society\",\"Golgotha\",\"Ono\",\"trieth\",\"rural\",\"economy\",\"alien\",\"duties\",\"collapsed\",\"plowed\",\"herds\",\"revealeth\",\"Chicago\",\"unfound\",\"idly\",\"crack\",\"hieroglyphic\",\"walls\",\"eare\",\"olive\",\"discerning\",\"13\",\"holiest\",\"fork\",\"Polar\",\"flashed\",\"distances\",\"annoy\",\"slily\",\"Aijalon\",\"prune\",\"Queene\",\"passages\",\"outer\",\"lily\",\"identity\",\"irregular\",\"spears\",\"seats\",\"hazard\",\"undoubtedly\",\"iudgement\",\"hearkened\",\"rind\",\"hem\",\"Truly\",\"Set\",\"represent\",\"Bashemath\",\"parish\",\"thenceforth\",\"Looking\",\"brains\",\"harness\",\"um\",\"intrusion\",\"magnetic\",\"sabbaths\",\"earth\",\"pained\",\"duck\",\"foe\",\"toothpick\",\"avails\",\"recompense\",\"Maaseiah\",\"moved\",\"pray\",\"snail\",\"elaborate\",\"DOES\",\"august\",\"Opening\",\"Tears\",\"axe\",\"gloomy\",\"Greywood\",\"perpetual\",\"gipsies\",\"Greenland\",\"weakened\",\"crude\",\"sensations\",\"teacheth\",\"hireling\",\"hunter\",\"stifling\",\"reference\",\"Bar\",\"hurriedly\",\"Padanaram\",\"un\",\"wrench\",\"Going\",\"unearthly\",\"Cray\",\"swinging\",\"recorded\",\"heap\",\"tumults\",\"acted\",\"expressions\",\"distance\",\"evince\",\"Larkins\",\"agreeable\",\"nautical\",\"Life\",\"Cruelty\",\"incidentally\",\"handful\",\"whereon\",\"wants\",\"sunlit\",\"Tongue\",\"Calp\",\"Whiles\",\"Agagite\",\"complaints\",\"Cut\",\"suspension\",\"eye\",\"usages\",\"Billy\",\"burdensome\",\"deficiencies\",\"Tarlton\",\"Agrippa\",\"grotesque\",\"concrete\",\"wilde\",\"extending\",\"Thirty\",\"if\",\"Rooke\",\"Sharon\",\"strengtheneth\",\"dunce\",\"contrive\",\"omnipotent\",\"disgrace\",\"disappointment\",\"opened\",\"gradual\",\"Christopher\",\"cup\",\"Dreyfus\",\"helpe\",\"Potomac\",\"tempestuous\",\"Bold\",\"Bela\",\"Crete\",\"clusters\",\"pitty\",\"aged\",\"playful\",\"politics\",\"Tragedie\",\"rebuked\",\"convenience\",\"invoke\",\"thus\",\"stared\",\"tubs\",\"Shechaniah\",\"paintings\",\"amateur\",\"bugle\",\"blades\",\"occasional\",\"disinterested\",\"clerk\",\"collect\",\"preference\",\"mood\",\"table\",\"timidly\",\"recount\",\"sea\",\"reap\",\"Jehovah\",\"pet\",\"infants\",\"lawn\",\"payment\",\"heedful\",\"scant\",\"mount\",\"wrinkled\",\"toucheth\",\"lecture\",\"Forth\",\"gash\",\"ado\",\"spread\",\"emphasis\",\"worsted\",\"),\",\"tropical\",\"Seruant\",\"volume\",\"washed\",\"gains\",\"Four\",\"conjecture\",\"native\",\"window\",\"gush\",\"perhaps\",\"Grammar\",\"knowledge\",\"disposed\",\"ropes\",\"caricature\",\"July\",\"prudently\",\"originated\",\"squeezing\",\"perisheth\",\"Gay\",\"Tyrant\",\"protection\",\"strife\",\"crouching\",\"quicker\",\"case\",\"filleth\",\"button\",\"province\",\"nowhere\",\"apologies\",\"We\",\"capable\",\"worst\",\"losses\",\"detest\",\"neighbour\",\"women\",\"strides\",\"relative\",\"excitement\",\"peals\",\"grasshoppers\",\"attendants\",\"peril\",\"construction\",\"melt\",\"desolate\",\"Thummim\",\"Tahath\",\"Shur\",\"resulting\",\"Nethinims\",\"aspects\",\"!--(\",\"workmen\",\"clothes\",\"suspected\",\"hen\",\"Lark\",\"!)\",\"Hide\",\"Oft\",\"clank\",\"stagger\",\"Leonora\",\"Whereas\",\"volley\",\"tangle\",\"contemptuous\",\"Bru\",\"softening\",\"Thy\",\"Carmelite\",\"weaned\",\"dewy\",\"swung\",\"disquieted\",\"paid\",\"Thumb\",\"inquire\",\"earnestness\",\"budding\",\"NO\",\"bite\",\"Bread\",\"highth\",\"sunk\",\"blinding\",\"wel\",\"gotten\",\"fertile\",\"warmly\",\"contracting\",\"eastern\",\"habit\",\"23\",\"equally\",\"forcibly\",\"devoid\",\"luckily\",\"behaving\",\"pairs\",\"exercise\",\"miss\",\"angelick\",\"wounds\",\"lacking\",\"Devil\",\"Zaccur\",\"weariness\",\"found\",\"Slowly\",\"inhuman\",\"Palmers\",\"defended\",\"we\",\"leaped\",\"weird\",\"augmented\",\"voiceless\",\"meteors\",\"entrails\",\"Made\",\"receiue\",\"breathes\",\"Carolinas\",\"removeth\",\"skulls\",\"hell\",\"dauntless\",\"Rebellious\",\"youngest\",\"lighted\",\"copying\",\"Malc\",\"brethren\",\"sunset\",\"terror\",\"Joel\",\"Shishak\",\"artificial\",\"Selah\",\"lets\",\"venison\",\"stairs\",\"dieth\",\"callous\",\"complexion\",\"Babes\",\"paths\",\"blazes\",\"lamb\",\"alarming\",\"Years\",\"Abel\",\"eyelids\",\"eater\",\"whist\",\"humbleth\",\"road\",\"treasury\",\"Whosoever\",\"stayed\",\"dogs\",\"resisted\",\"vale\",\"delay\",\"bidding\",\"fetched\",\"starry\",\"SHIP\",\"Fool\",\"facts\",\"Commission\",\"cavalry\",\"Zadok\",\"enveloping\",\"guessing\",\"leviathan\",\"fills\",\"securing\",\"Carstairs\",\"impudence\",\"deplore\",\"Bill\",\"Hopkins\",\"isles\",\"contrivances\",\"Nebat\",\"Anak\",\"lawgiver\",\"Flew\",\"differing\",\"Louisa\",\"vase\",\"enterprize\",\"Comrades\",\"Close\",\"campaigns\",\"overwhelmed\",\"loveliness\",\"catching\",\"buryingplace\",\"diamond\",\"lamented\",\"stern\",\"signify\",\"lasciviousness\",\"copied\",\"begotten\",\"decide\",\"destroyed\",\"castle\",\"_her_\",\"behave\",\"adamantine\",\"fairies\",\"twittering\",\"Wisedome\",\"non\",\"broom\",\"drama\",\"merchants\",\"Immortal\",\"Instrument\",\"Foundation\",\"builded\",\"threats\",\"blasted\",\"spilled\",\"orphan\",\"gales\",\"snaky\",\"Johanan\",\"Golden\",\"gamesome\",\"envied\",\"handsomely\",\"impossibility\",\"pregnant\",\"bill\",\"diviners\",\"extend\",\"Gingerbread\",\"Coward\",\"warmth\",\"natured\",\"Mexico\",\"Amalekites\",\"twitched\",\"sweetest\",\"camel\",\"WAS\",\"instance\",\"conceit\",\"unquiet\",\"ancestors\",\"maize\",\"ariseth\",\"foure\",\"humble\",\"weave\",\"Michael\",\"Unless\",\"resignation\",\"tablets\",\"differences\",\"happens\",\"wrote\",\"Seyton\",\"bases\",\"misled\",\"unjust\",\"81\",\"rugged\",\"slumbering\",\"Evening\",\"drawers\",\"tangled\",\"dusk\",\"famed\",\"ripe\",\"paradise\",\"end\",\"thumb\",\"Methinks\",\"silence\",\"Rich\",\"wring\",\"flights\",\"Hamilton\",\"dismasted\",\"stript\",\"active\",\"Room\",\"consists\",\"intricate\",\"beene\",\"Cold\",\"valley\",\"travelling\",\"intimacy\",\"protected\",\"plow\",\"temperate\",\"despite\",\"jacket\",\"fruition\",\"drugged\",\"passionately\",\"charge\",\"Pompey\",\"mainly\",\"Flourish\",\"message\",\"glued\",\"builders\",\"preceded\",\"MacNabs\",\"bosom\",\"knowing\",\"though\",\"Macbeth\",\"Langsdorff\",\"Stars\",\"partiality\",\"obscurity\",\"viper\",\"neede\",\"woof\",\"nought\",\"cheating\",\"directions\",\"trailing\",\"subsided\",\"nobles\",\"skies\",\"chastise\",\"sheltered\",\"sleek\",\"sojourn\",\"banners\",\"88\",\"Indeed\",\"wayes\",\"throat\",\"architects\",\"knight\",\"fiery\",\"glorify\",\"tows\",\"HAS\",\"gathereth\",\"eagles\",\"marched\",\"beforehand\",\"fog\",\"elegance\",\"willows\",\"recurring\",\"outlandish\",\"prayed\",\"peas\",\"courts\",\"satisfaction\",\"interchange\",\"on\",\"aghast\",\"aforetime\",\"majestic\",\"Perizzites\",\"league\",\"playfully\",\"Ghosts\",\"Sure\",\"laughter\",\"_must_\",\"dromedary\",\"founder\",\"O\",\"decisive\",\"smoked\",\"WHALING\",\"enjoyments\",\"spring\",\"getting\",\"spinal\",\"defrauded\",\"Jericho\",\"bet\",\"hymn\",\"Timotheus\",\"Polonius\",\"knelt\",\"caresses\",\"Daughter\",\"distrustful\",\"talke\",\"_she_\",\"showed\",\"talent\",\"lashed\",\"clipper\",\"greater\",\"carriages\",\"solemnity\",\"document\",\"Wales\",\"surprise\",\"Liege\",\"rewarded\",\"threepence\",\"courtiers\",\"acts\",\"rendered\",\"dispose\",\"leader\",\"footpath\",\"plate\",\"recital\",\"hide\",\"Euroclydon\",\"encouraged\",\"pockets\",\"blasphemy\",\"Angell\",\"achieve\",\"revolving\",\"foolishly\",\"Hosanna\",\"61\",\"effusion\",\"interruption\",\"blessed\",\"bleed\",\"bore\",\"90\",\"stile\",\"wasting\",\"orgies\",\"difficulty\",\"audacity\",\"humanity\",\"patriot\",\"professional\",\"trivial\",\"Amariah\",\"redresse\",\"tiny\",\"soonest\",\"As\",\"Jews\",\"Alphaeus\",\"talebearer\",\"air\",\"Debir\",\"Cole\",\"Geba\",\"helped\",\"cheery\",\"rate\",\"arrange\",\"swims\",\"Hur\",\"fins\",\"reverie\",\"accidents\",\"flatteries\",\"carol\",\"conception\",\"alienated\",\"contraction\",\"perplexed\",\"Instead\",\"Peleg\",\"flapping\",\"Arthur\",\"communicating\",\"reign\",\"varnished\",\"E\",\"featured\",\"kindly\",\"abound\",\"131\",\"provisions\",\"Goose\",\"saith\",\"Darius\",\"restrain\",\"Question\",\"jelly\",\"scape\",\"resigned\",\"whole\",\"inferior\",\"habitations\",\"omen\",\"paralysis\",\"violets\",\"Benjamin\",\"wee\",\"histories\",\"Hebron\",\"throughly\",\"coffin\",\"dairy\",\"question\",\"?\\\"\",\"uncomfortable\",\"Below\",\"overflowing\",\"governess\",\"Somerville\",\"shedding\",\"Busy\",\"solicitous\",\"comest\",\"Folio\",\"hemm\",\"deere\",\"sever\",\"relent\",\"peaceful\",\"cooking\",\"claps\",\"because\",\"throats\",\"boundless\",\"Fast\",\"Ceremonies\",\"bridegroom\",\"Jonas\",\"cracks\",\"trading\",\"hook\",\"conditions\",\"Berechiah\",\"Josiah\",\"Ar\",\"owners\",\"Ned\",\"livelihood\",\"y\",\"barouche\",\"predictions\",\"commonest\",\"impute\",\"beside\",\"fishes\",\"dark\",\"pence\",\"saluted\",\"----\\\"\",\"Ephesus\",\"Will\",\"fore\",\"aliue\",\"kindreds\",\"\\\",\",\"crying\",\"broidered\",\"inside\",\"somebody\",\"prince\",\"England\",\"trance\",\"answer\",\"fine\",\"drave\",\"tackles\",\"worry\",\"Traitors\",\"ceiling\",\"sensation\",\"lonely\",\"caves\",\"indulging\",\"loveliest\",\"forsake\",\"Epaminondas\",\"attaching\",\"festival\",\"Walt\",\"win\",\"Susan\",\"Spouter\",\"inns\",\"harbour\",\"latch\",\"proves\",\"trailed\",\"rival\",\"waking\",\"Philistines\",\"supremacy\",\"capture\",\"forsook\",\"ascertain\",\"prospered\",\"Carry\",\"possession\",\"partner\",\"Gezer\",\"bards\",\"hearer\",\"muse\",\"disappearing\",\"apologetically\",\"designed\",\"innkeeper\",\"dispensed\",\"grieve\",\"Alexander\",\"footed\",\"killeth\",\"results\",\"probable\",\"breaks\",\"appointments\",\"jets\",\"wert\",\"Leicester\",\"Of\",\"beguiled\",\"Bond\",\"get\",\"ribbon\",\"advantageous\",\"farmers\",\"Emperors\",\"Heauens\",\"markets\",\"tombs\",\"narrower\",\"private\",\"lavers\",\"perfection\",\"sickening\",\"faire\",\"omer\",\"contrivance\",\"sportsman\",\"hauling\",\"affrighted\",\"carcases\",\"103\",\"omnibus\",\"uneasy\",\"Faithful\",\"vibration\",\"seduce\",\"Ontario\",\"livest\",\"smitten\",\"clash\",\"Gemariah\",\"headway\",\"leagues\",\"eddies\",\"amiable\",\"livery\",\"withereth\",\"woody\",\"transformation\",\"chattering\",\"hav\",\"weake\",\"Lightning\",\"gaped\",\"ruins\",\"pierced\",\"howbeit\",\"Till\",\"Nelson\",\"Face\",\"drift\",\"omit\",\"Lucy\",\"tune\",\"warp\",\"wot\",\"bear\",\"vanished\",\"devised\",\"Obed\",\"adore\",\"modes\",\"queen\",\"caused\",\"passion\",\"crocodile\",\"miraculous\",\"Women\",\"intercept\",\"offerings\",\"wind\",\"undressed\",\"Donwell\",\"storms\",\"far\",\"Fleans\",\"strove\",\"missing\",\"delusion\",\"trash\",\"Ever\",\"buzzing\",\"crimes\",\"RIGHT\",\"overthroweth\",\"Rekem\",\"Ben\",\"28\",\"genially\",\"morbidity\",\"glean\",\"gleam\",\"Lizard\",\"princely\"],\"x\":{\"__ndarray__\":\"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\",\"dtype\":\"float32\",\"order\":\"little\",\"shape\":[5000]},\"y\":{\"__ndarray__\":\"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\",\"dtype\":\"float32\",\"order\":\"little\",\"shape\":[5000]}},\"selected\":{\"id\":\"1048\"},\"selection_policy\":{\"id\":\"1047\"}},\"id\":\"1033\",\"type\":\"ColumnDataSource\"},{\"attributes\":{},\"id\":\"1007\",\"type\":\"LinearScale\"},{\"attributes\":{},\"id\":\"1020\",\"type\":\"WheelZoomTool\"},{\"attributes\":{\"axis\":{\"id\":\"1011\"},\"ticker\":null},\"id\":\"1014\",\"type\":\"Grid\"},{\"attributes\":{},\"id\":\"1022\",\"type\":\"SaveTool\"},{\"attributes\":{},\"id\":\"1003\",\"type\":\"DataRange1d\"},{\"attributes\":{\"source\":{\"id\":\"1033\"}},\"id\":\"1037\",\"type\":\"CDSView\"},{\"attributes\":{\"formatter\":{\"id\":\"1041\"},\"major_label_policy\":{\"id\":\"1040\"},\"ticker\":{\"id\":\"1012\"}},\"id\":\"1011\",\"type\":\"LinearAxis\"},{\"attributes\":{},\"id\":\"1012\",\"type\":\"BasicTicker\"},{\"attributes\":{\"bottom_units\":\"screen\",\"fill_alpha\":0.5,\"fill_color\":\"lightgrey\",\"left_units\":\"screen\",\"level\":\"overlay\",\"line_alpha\":1.0,\"line_color\":\"black\",\"line_dash\":[4,4],\"line_width\":2,\"right_units\":\"screen\",\"syncable\":false,\"top_units\":\"screen\"},\"id\":\"1025\",\"type\":\"BoxAnnotation\"},{\"attributes\":{\"axis\":{\"id\":\"1015\"},\"dimension\":1,\"ticker\":null},\"id\":\"1018\",\"type\":\"Grid\"},{\"attributes\":{},\"id\":\"1043\",\"type\":\"AllLabels\"},{\"attributes\":{},\"id\":\"1024\",\"type\":\"HelpTool\"},{\"attributes\":{},\"id\":\"1040\",\"type\":\"AllLabels\"},{\"attributes\":{},\"id\":\"1019\",\"type\":\"PanTool\"},{\"attributes\":{},\"id\":\"1041\",\"type\":\"BasicTickFormatter\"},{\"attributes\":{},\"id\":\"1044\",\"type\":\"BasicTickFormatter\"},{\"attributes\":{},\"id\":\"1048\",\"type\":\"Selection\"},{\"attributes\":{},\"id\":\"1009\",\"type\":\"LinearScale\"},{\"attributes\":{\"active_multi\":null,\"tools\":[{\"id\":\"1019\"},{\"id\":\"1020\"},{\"id\":\"1021\"},{\"id\":\"1022\"},{\"id\":\"1023\"},{\"id\":\"1024\"}]},\"id\":\"1026\",\"type\":\"Toolbar\"},{\"attributes\":{},\"id\":\"1038\",\"type\":\"Title\"},{\"attributes\":{\"formatter\":{\"id\":\"1044\"},\"major_label_policy\":{\"id\":\"1043\"},\"ticker\":{\"id\":\"1016\"}},\"id\":\"1015\",\"type\":\"LinearAxis\"},{\"attributes\":{},\"id\":\"1047\",\"type\":\"UnionRenderers\"},{\"attributes\":{},\"id\":\"1016\",\"type\":\"BasicTicker\"},{\"attributes\":{},\"id\":\"1005\",\"type\":\"DataRange1d\"},{\"attributes\":{\"data_source\":{\"id\":\"1033\"},\"glyph\":{\"id\":\"1034\"},\"hover_glyph\":null,\"muted_glyph\":null,\"nonselection_glyph\":{\"id\":\"1035\"},\"view\":{\"id\":\"1037\"}},\"id\":\"1036\",\"type\":\"GlyphRenderer\"},{\"attributes\":{\"overlay\":{\"id\":\"1025\"}},\"id\":\"1021\",\"type\":\"BoxZoomTool\"}],\"root_ids\":[\"1002\"]},\"title\":\"Bokeh Application\",\"version\":\"2.3.3\"}};\n",
              "  var render_items = [{\"docid\":\"4a00c5fc-f1f8-4fae-878b-f640e0303f58\",\"root_ids\":[\"1002\"],\"roots\":{\"1002\":\"6735781e-98fa-428f-a627-09c8b8937df4\"}}];\n",
              "  root.Bokeh.embed.embed_items_notebook(docs_json, render_items);\n",
              "\n",
              "  }\n",
              "  if (root.Bokeh !== undefined) {\n",
              "    embed_document(root);\n",
              "  } else {\n",
              "    var attempts = 0;\n",
              "    var timer = setInterval(function(root) {\n",
              "      if (root.Bokeh !== undefined) {\n",
              "        clearInterval(timer);\n",
              "        embed_document(root);\n",
              "      } else {\n",
              "        attempts++;\n",
              "        if (attempts > 100) {\n",
              "          clearInterval(timer);\n",
              "          console.log(\"Bokeh: ERROR: Unable to run BokehJS code because BokehJS library is missing\");\n",
              "        }\n",
              "      }\n",
              "    }, 10, root)\n",
              "  }\n",
              "})(window);"
            ],
            "application/vnd.bokehjs_exec.v0+json": ""
          },
          "metadata": {
            "application/vnd.bokehjs_exec.v0+json": {
              "id": "1002"
            }
          }
        }
      ]
    },
    {
      "cell_type": "code",
      "metadata": {
        "id": "0KbB3dBOnu0g"
      },
      "source": [
        ""
      ],
      "execution_count": null,
      "outputs": []
    }
  ]
}