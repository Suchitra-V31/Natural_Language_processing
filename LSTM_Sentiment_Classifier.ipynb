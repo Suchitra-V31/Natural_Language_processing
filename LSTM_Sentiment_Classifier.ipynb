{
  "nbformat": 4,
  "nbformat_minor": 0,
  "metadata": {
    "colab": {
      "name": "LSTM Sentiment Classifier.ipynb",
      "provenance": [],
      "authorship_tag": "ABX9TyOqaLyDbn8X4m/sIkPYLPcw",
      "include_colab_link": true
    },
    "kernelspec": {
      "name": "python3",
      "display_name": "Python 3"
    },
    "language_info": {
      "name": "python"
    }
  },
  "cells": [
    {
      "cell_type": "markdown",
      "metadata": {
        "id": "view-in-github",
        "colab_type": "text"
      },
      "source": [
        "<a href=\"https://colab.research.google.com/github/Suchitra-V31/Natural_Language_processing/blob/main/LSTM_Sentiment_Classifier.ipynb\" target=\"_parent\"><img src=\"https://colab.research.google.com/assets/colab-badge.svg\" alt=\"Open In Colab\"/></a>"
      ]
    },
    {
      "cell_type": "code",
      "metadata": {
        "id": "Q_rB8LiLSR1y"
      },
      "source": [
        "#load the dependencies\n",
        "import tensorflow\n",
        "from tensorflow import keras\n",
        "from keras.datasets import imdb \n",
        "from keras.preprocessing.sequence import pad_sequences\n",
        "from keras.models import Sequential \n",
        "from keras.layers import Dense,Dropout,Embedding,SpatialDropout1D\n",
        "from keras.layers import LSTM"
      ],
      "execution_count": 4,
      "outputs": []
    },
    {
      "cell_type": "markdown",
      "metadata": {
        "id": "V2_7uqyaStsS"
      },
      "source": [
        "**Set Hyperparameters**"
      ]
    },
    {
      "cell_type": "code",
      "metadata": {
        "id": "86N9JM0VSsdF"
      },
      "source": [
        "# train\n",
        "epoch=4\n",
        "batch_size=128\n",
        "\n",
        "#embedding\n",
        "n_dim=64\n",
        "n_unique_words=10000\n",
        "max_review_len=100\n",
        "pad_type=trunc_type='pre'\n",
        "drop_embed=0.3\n",
        "\n",
        "# lstm\n",
        "n_lstm=256\n",
        "n_drop=0.2\n"
      ],
      "execution_count": 5,
      "outputs": []
    },
    {
      "cell_type": "markdown",
      "metadata": {
        "id": "QzNXsbmrUA9x"
      },
      "source": [
        "**Load Data**"
      ]
    },
    {
      "cell_type": "code",
      "metadata": {
        "colab": {
          "base_uri": "https://localhost:8080/"
        },
        "id": "0YNBH7dATy4t",
        "outputId": "d09649ff-bff7-4efe-bdce-a5a0d19cd4e1"
      },
      "source": [
        "(X_train,y_train),(X_test,y_test)=imdb.load_data(num_words=n_unique_words)"
      ],
      "execution_count": 6,
      "outputs": [
        {
          "output_type": "stream",
          "text": [
            "Downloading data from https://storage.googleapis.com/tensorflow/tf-keras-datasets/imdb.npz\n",
            "17465344/17464789 [==============================] - 0s 0us/step\n",
            "17473536/17464789 [==============================] - 0s 0us/step\n"
          ],
          "name": "stdout"
        }
      ]
    },
    {
      "cell_type": "markdown",
      "metadata": {
        "id": "cOQyJSclUd2j"
      },
      "source": [
        "**Preprocess data**"
      ]
    },
    {
      "cell_type": "code",
      "metadata": {
        "id": "CmFjFkTRTzZz"
      },
      "source": [
        "X_train=pad_sequences(X_train,maxlen=max_review_len,padding=pad_type,truncating=trunc_type,value=0)\n",
        "X_test=pad_sequences(X_test,maxlen=max_review_len,padding=pad_type,truncating=trunc_type,value=0)"
      ],
      "execution_count": 7,
      "outputs": []
    },
    {
      "cell_type": "markdown",
      "metadata": {
        "id": "CWxOlDiJUgmS"
      },
      "source": [
        "**Design neural network architecture**"
      ]
    },
    {
      "cell_type": "code",
      "metadata": {
        "id": "SMmVqO-uUHom"
      },
      "source": [
        "model=Sequential()\n",
        "#Embedding layer\n",
        "model.add(Embedding(n_unique_words,n_dim,input_length=max_review_len))\n",
        "model.add(SpatialDropout1D(drop_embed))\n",
        "#rnn layer\n",
        "model.add(LSTM(n_lstm,activation='relu',dropout=n_drop))\n",
        "#o/p layer\n",
        "model.add(Dense(1,activation='sigmoid'))"
      ],
      "execution_count": 9,
      "outputs": []
    },
    {
      "cell_type": "code",
      "metadata": {
        "colab": {
          "base_uri": "https://localhost:8080/"
        },
        "id": "_eTOd_VbUSke",
        "outputId": "d67cf458-86ea-4de7-b8dc-13e97e320ba8"
      },
      "source": [
        "model.summary()"
      ],
      "execution_count": 10,
      "outputs": [
        {
          "output_type": "stream",
          "text": [
            "Model: \"sequential_1\"\n",
            "_________________________________________________________________\n",
            "Layer (type)                 Output Shape              Param #   \n",
            "=================================================================\n",
            "embedding_1 (Embedding)      (None, 100, 64)           640000    \n",
            "_________________________________________________________________\n",
            "spatial_dropout1d_1 (Spatial (None, 100, 64)           0         \n",
            "_________________________________________________________________\n",
            "lstm (LSTM)                  (None, 256)               328704    \n",
            "_________________________________________________________________\n",
            "dense (Dense)                (None, 1)                 257       \n",
            "=================================================================\n",
            "Total params: 968,961\n",
            "Trainable params: 968,961\n",
            "Non-trainable params: 0\n",
            "_________________________________________________________________\n"
          ],
          "name": "stdout"
        }
      ]
    },
    {
      "cell_type": "markdown",
      "metadata": {
        "id": "2DlCDCgNUvaM"
      },
      "source": [
        "**Compile Model**"
      ]
    },
    {
      "cell_type": "code",
      "metadata": {
        "id": "1iPXVgUhUcDK"
      },
      "source": [
        "model.compile(loss='binary_crossentropy',optimizer='nadam',metrics=['accuracy'])"
      ],
      "execution_count": 11,
      "outputs": []
    },
    {
      "cell_type": "markdown",
      "metadata": {
        "id": "5wZTT1zEUzOj"
      },
      "source": [
        "**Train Model**"
      ]
    },
    {
      "cell_type": "code",
      "metadata": {
        "colab": {
          "base_uri": "https://localhost:8080/"
        },
        "id": "dm3ywQCNUrpA",
        "outputId": "88903254-f535-47bb-9036-58a16e2e614e"
      },
      "source": [
        "model.fit(X_train,y_train,batch_size=batch_size,epochs=epoch,validation_data=(X_test,y_test))"
      ],
      "execution_count": 12,
      "outputs": [
        {
          "output_type": "stream",
          "text": [
            "Epoch 1/4\n",
            "196/196 [==============================] - 212s 1s/step - loss: 48185909182464.0000 - accuracy: 0.5739 - val_loss: 0.6741 - val_accuracy: 0.6456\n",
            "Epoch 2/4\n",
            "196/196 [==============================] - 206s 1s/step - loss: 0.6641 - accuracy: 0.7030 - val_loss: 0.6604 - val_accuracy: 0.7034\n",
            "Epoch 3/4\n",
            "196/196 [==============================] - 203s 1s/step - loss: 0.6456 - accuracy: 0.7447 - val_loss: 0.6438 - val_accuracy: 0.7196\n",
            "Epoch 4/4\n",
            "196/196 [==============================] - 202s 1s/step - loss: 0.6235 - accuracy: 0.7644 - val_loss: 0.6257 - val_accuracy: 0.7282\n"
          ],
          "name": "stdout"
        },
        {
          "output_type": "execute_result",
          "data": {
            "text/plain": [
              "<keras.callbacks.History at 0x7f835c6fdb90>"
            ]
          },
          "metadata": {},
          "execution_count": 12
        }
      ]
    },
    {
      "cell_type": "code",
      "metadata": {
        "id": "B9_yg7nMUt70"
      },
      "source": [
        ""
      ],
      "execution_count": null,
      "outputs": []
    }
  ]
}