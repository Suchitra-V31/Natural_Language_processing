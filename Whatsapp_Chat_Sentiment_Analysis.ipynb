{
  "nbformat": 4,
  "nbformat_minor": 0,
  "metadata": {
    "colab": {
      "name": "Whatsapp Chat Sentiment Analysis.ipynb",
      "provenance": [],
      "authorship_tag": "ABX9TyMMPa86/cTSsNmlMvwBzY2K",
      "include_colab_link": true
    },
    "kernelspec": {
      "name": "python3",
      "display_name": "Python 3"
    },
    "language_info": {
      "name": "python"
    }
  },
  "cells": [
    {
      "cell_type": "markdown",
      "metadata": {
        "id": "view-in-github",
        "colab_type": "text"
      },
      "source": [
        "<a href=\"https://colab.research.google.com/github/Suchitra-V31/Natural_Language_processing/blob/main/Whatsapp_Chat_Sentiment_Analysis.ipynb\" target=\"_parent\"><img src=\"https://colab.research.google.com/assets/colab-badge.svg\" alt=\"Open In Colab\"/></a>"
      ]
    },
    {
      "cell_type": "code",
      "metadata": {
        "colab": {
          "base_uri": "https://localhost:8080/"
        },
        "id": "Jm22EVFibPMP",
        "outputId": "62a42c3d-37ba-4d5f-bf97-29e032ad7913"
      },
      "source": [
        "pip install emoji --upgrade"
      ],
      "execution_count": 4,
      "outputs": [
        {
          "output_type": "stream",
          "text": [
            "Collecting emoji\n",
            "  Downloading emoji-1.4.2.tar.gz (184 kB)\n",
            "\u001b[?25l\r\u001b[K     |█▊                              | 10 kB 23.3 MB/s eta 0:00:01\r\u001b[K     |███▌                            | 20 kB 30.3 MB/s eta 0:00:01\r\u001b[K     |█████▎                          | 30 kB 15.4 MB/s eta 0:00:01\r\u001b[K     |███████                         | 40 kB 11.5 MB/s eta 0:00:01\r\u001b[K     |████████▉                       | 51 kB 5.5 MB/s eta 0:00:01\r\u001b[K     |██████████▋                     | 61 kB 5.6 MB/s eta 0:00:01\r\u001b[K     |████████████▍                   | 71 kB 6.1 MB/s eta 0:00:01\r\u001b[K     |██████████████▏                 | 81 kB 5.8 MB/s eta 0:00:01\r\u001b[K     |████████████████                | 92 kB 4.6 MB/s eta 0:00:01\r\u001b[K     |█████████████████▊              | 102 kB 5.1 MB/s eta 0:00:01\r\u001b[K     |███████████████████▌            | 112 kB 5.1 MB/s eta 0:00:01\r\u001b[K     |█████████████████████▎          | 122 kB 5.1 MB/s eta 0:00:01\r\u001b[K     |███████████████████████         | 133 kB 5.1 MB/s eta 0:00:01\r\u001b[K     |████████████████████████▉       | 143 kB 5.1 MB/s eta 0:00:01\r\u001b[K     |██████████████████████████▋     | 153 kB 5.1 MB/s eta 0:00:01\r\u001b[K     |████████████████████████████▍   | 163 kB 5.1 MB/s eta 0:00:01\r\u001b[K     |██████████████████████████████▏ | 174 kB 5.1 MB/s eta 0:00:01\r\u001b[K     |███████████████████████████████▉| 184 kB 5.1 MB/s eta 0:00:01\r\u001b[K     |████████████████████████████████| 184 kB 5.1 MB/s \n",
            "\u001b[?25hBuilding wheels for collected packages: emoji\n",
            "  Building wheel for emoji (setup.py) ... \u001b[?25l\u001b[?25hdone\n",
            "  Created wheel for emoji: filename=emoji-1.4.2-py3-none-any.whl size=186469 sha256=6cd2c93fcb62e136be7bd8afecc80272f1b2fec0fd5e8cabdc02d3712bc9b851\n",
            "  Stored in directory: /root/.cache/pip/wheels/e4/61/e7/2fc1ac8f306848fc66c6c013ab511f0a39ef4b1825b11363b2\n",
            "Successfully built emoji\n",
            "Installing collected packages: emoji\n",
            "Successfully installed emoji-1.4.2\n"
          ],
          "name": "stdout"
        }
      ]
    },
    {
      "cell_type": "markdown",
      "metadata": {
        "id": "0s4J3X2Eg0RL"
      },
      "source": [
        "Let us import the necessary libraries"
      ]
    },
    {
      "cell_type": "code",
      "metadata": {
        "id": "CPQh8zQ6as6N"
      },
      "source": [
        "import re\n",
        "import pandas as pd\n",
        "import numpy as np\n",
        "import matplotlib.pyplot as plt\n",
        "import emoji\n",
        "from PIL import Image\n",
        "from collections import Counter\n",
        "from wordcloud import WordCloud,STOPWORDS,ImageColorGenerator"
      ],
      "execution_count": 6,
      "outputs": []
    },
    {
      "cell_type": "code",
      "metadata": {
        "id": "O2MsNrJqduW_"
      },
      "source": [
        "#Extract time\n",
        "def date_time(s):\n",
        "  pattern='^([0-9]+)(\\/)([0-9]+)(\\/)([0-9]+), ([0-9]+):([0-9]+)[ ]?(AM|PM|am|pm)? -'\n",
        "  result=re.match(pattern,s)  #re.match() function of re in Python will search the regular expression pattern and return the first occurrence\n",
        "  if result:\n",
        "    return True\n",
        "  return False\n",
        "#Find Authors or contacts\n",
        "def find_author(s):\n",
        "  s=s.split(':')\n",
        "  if len(s)==2:\n",
        "    return True\n",
        "  return False\n",
        "def getDataPoint(line):\n",
        "  splitline=line.split('-')\n",
        "  datetime=splitline[0]\n",
        "  date,time=datetime.split(',')\n",
        "  message=' '.join(splitline[1:])\n",
        "  if find_author(message):\n",
        "    splitmessage=message.split(':')\n",
        "    author=splitmessage[0]\n",
        "    message=' '.join(splitmessage[1:])\n",
        "  else:\n",
        "    author=None\n",
        "  return date,time,author,message\n"
      ],
      "execution_count": 15,
      "outputs": []
    },
    {
      "cell_type": "code",
      "metadata": {
        "id": "MNb8R90Nhjey"
      },
      "source": [
        " data=[]\n",
        "conversation='/content/WhatsApp Chat with Kirthiga.txt'\n",
        "with open(conversation,encoding='utf-8') as fp:\n",
        "  fp.readline()\n",
        "  messageBuffer=[]\n",
        "  date,time,author=None,None,None\n",
        "  while True:\n",
        "    line=fp.readline()\n",
        "    if not line:\n",
        "      break\n",
        "    line=line.strip()\n",
        "    if date_time(line):\n",
        "      if len(messageBuffer)>0:\n",
        "        data.append([date,time,author,' '.join(messageBuffer)])\n",
        "      messageBuffer.clear()\n",
        "      date,time,author,message =getDataPoint(line)\n",
        "      messageBuffer.append(message)\n",
        "    else:\n",
        "      messageBuffer.append(line)"
      ],
      "execution_count": 17,
      "outputs": []
    },
    {
      "cell_type": "markdown",
      "metadata": {
        "id": "o9fzlRsZg7fJ"
      },
      "source": [
        "In the previous code we have split the data into time date author(contact name) and our mesage...let us create a dataframe with these features."
      ]
    },
    {
      "cell_type": "code",
      "metadata": {
        "id": "NFS4wmdshEdB"
      },
      "source": [
        "df=pd.DataFrame(data,columns=['date','time','author','message'])\n",
        "df['date']=pd.to_datetime(df['date'])"
      ],
      "execution_count": 18,
      "outputs": []
    },
    {
      "cell_type": "code",
      "metadata": {
        "colab": {
          "base_uri": "https://localhost:8080/",
          "height": 204
        },
        "id": "hwv_3Vjzk1tT",
        "outputId": "cc267ce7-6e90-46d5-b4b9-ce056a0a5002"
      },
      "source": [
        "df.head()"
      ],
      "execution_count": 19,
      "outputs": [
        {
          "output_type": "execute_result",
          "data": {
            "text/html": [
              "<div>\n",
              "<style scoped>\n",
              "    .dataframe tbody tr th:only-of-type {\n",
              "        vertical-align: middle;\n",
              "    }\n",
              "\n",
              "    .dataframe tbody tr th {\n",
              "        vertical-align: top;\n",
              "    }\n",
              "\n",
              "    .dataframe thead th {\n",
              "        text-align: right;\n",
              "    }\n",
              "</style>\n",
              "<table border=\"1\" class=\"dataframe\">\n",
              "  <thead>\n",
              "    <tr style=\"text-align: right;\">\n",
              "      <th></th>\n",
              "      <th>date</th>\n",
              "      <th>time</th>\n",
              "      <th>author</th>\n",
              "      <th>message</th>\n",
              "    </tr>\n",
              "  </thead>\n",
              "  <tbody>\n",
              "    <tr>\n",
              "      <th>0</th>\n",
              "      <td>2019-08-13</td>\n",
              "      <td>7:10 PM</td>\n",
              "      <td>Kirthiga</td>\n",
              "      <td></td>\n",
              "    </tr>\n",
              "    <tr>\n",
              "      <th>1</th>\n",
              "      <td>2019-08-13</td>\n",
              "      <td>8:12 PM</td>\n",
              "      <td>Suji</td>\n",
              "      <td>Hi</td>\n",
              "    </tr>\n",
              "    <tr>\n",
              "      <th>2</th>\n",
              "      <td>2019-08-13</td>\n",
              "      <td>8:12 PM</td>\n",
              "      <td>Suji</td>\n",
              "      <td>Un Peru sollu d</td>\n",
              "    </tr>\n",
              "    <tr>\n",
              "      <th>3</th>\n",
              "      <td>2019-08-13</td>\n",
              "      <td>8:14 PM</td>\n",
              "      <td>Kirthiga</td>\n",
              "      <td>Hii</td>\n",
              "    </tr>\n",
              "    <tr>\n",
              "      <th>4</th>\n",
              "      <td>2019-08-13</td>\n",
              "      <td>8:14 PM</td>\n",
              "      <td>Kirthiga</td>\n",
              "      <td>Kirthiga</td>\n",
              "    </tr>\n",
              "  </tbody>\n",
              "</table>\n",
              "</div>"
            ],
            "text/plain": [
              "        date       time     author           message\n",
              "0 2019-08-13   7:10 PM    Kirthiga                  \n",
              "1 2019-08-13   8:12 PM        Suji                Hi\n",
              "2 2019-08-13   8:12 PM        Suji   Un Peru sollu d\n",
              "3 2019-08-13   8:14 PM    Kirthiga               Hii\n",
              "4 2019-08-13   8:14 PM    Kirthiga          Kirthiga"
            ]
          },
          "metadata": {},
          "execution_count": 19
        }
      ]
    },
    {
      "cell_type": "code",
      "metadata": {
        "id": "WBTbPUEQk3x4"
      },
      "source": [
        "#let us drop all the nan values\n",
        "data=df.dropna()"
      ],
      "execution_count": 37,
      "outputs": []
    },
    {
      "cell_type": "markdown",
      "metadata": {
        "id": "8VNuZwwimBoW"
      },
      "source": [
        "**VADER ( Valence Aware Dictionary for Sentiment Reasoning)** is a model used for text sentiment analysis that is sensitive to both polarity (positive/negative) and intensity (strength) of emotion. It is available in the NLTK package and can be applied directly to unlabeled text data."
      ]
    },
    {
      "cell_type": "code",
      "metadata": {
        "colab": {
          "base_uri": "https://localhost:8080/"
        },
        "id": "9ctbbXosmtSH",
        "outputId": "e1b59f3f-aa0e-48cb-af85-0b53e5e117ae"
      },
      "source": [
        "import nltk\n",
        "nltk.download('vader_lexicon')"
      ],
      "execution_count": 38,
      "outputs": [
        {
          "output_type": "stream",
          "text": [
            "[nltk_data] Downloading package vader_lexicon to /root/nltk_data...\n",
            "[nltk_data]   Package vader_lexicon is already up-to-date!\n"
          ],
          "name": "stdout"
        },
        {
          "output_type": "execute_result",
          "data": {
            "text/plain": [
              "True"
            ]
          },
          "metadata": {},
          "execution_count": 38
        }
      ]
    },
    {
      "cell_type": "code",
      "metadata": {
        "id": "t79G9qAHmcOp"
      },
      "source": [
        "from nltk.sentiment.vader import SentimentIntensityAnalyzer"
      ],
      "execution_count": 39,
      "outputs": []
    },
    {
      "cell_type": "code",
      "metadata": {
        "id": "CzNicj27lSdR"
      },
      "source": [
        "sentiments=SentimentIntensityAnalyzer()"
      ],
      "execution_count": 40,
      "outputs": []
    },
    {
      "cell_type": "code",
      "metadata": {
        "id": "jBx_e1nnmN1-"
      },
      "source": [
        "data['Positive']=[sentiments.polarity_scores(i)['pos'] for i in data['message']]\n",
        "data['Negative']=[sentiments.polarity_scores(i)['neg'] for i in data['message']]\n",
        "data['Neutral']=[sentiments.polarity_scores(i)['neu'] for i in data['message']]"
      ],
      "execution_count": 42,
      "outputs": []
    },
    {
      "cell_type": "code",
      "metadata": {
        "colab": {
          "base_uri": "https://localhost:8080/",
          "height": 204
        },
        "id": "UkffmNOxoFmb",
        "outputId": "cd40d152-212e-4658-89fd-d78bae7e5af5"
      },
      "source": [
        "data.head()"
      ],
      "execution_count": 43,
      "outputs": [
        {
          "output_type": "execute_result",
          "data": {
            "text/html": [
              "<div>\n",
              "<style scoped>\n",
              "    .dataframe tbody tr th:only-of-type {\n",
              "        vertical-align: middle;\n",
              "    }\n",
              "\n",
              "    .dataframe tbody tr th {\n",
              "        vertical-align: top;\n",
              "    }\n",
              "\n",
              "    .dataframe thead th {\n",
              "        text-align: right;\n",
              "    }\n",
              "</style>\n",
              "<table border=\"1\" class=\"dataframe\">\n",
              "  <thead>\n",
              "    <tr style=\"text-align: right;\">\n",
              "      <th></th>\n",
              "      <th>date</th>\n",
              "      <th>time</th>\n",
              "      <th>author</th>\n",
              "      <th>message</th>\n",
              "      <th>Positive</th>\n",
              "      <th>Negative</th>\n",
              "      <th>Neutral</th>\n",
              "    </tr>\n",
              "  </thead>\n",
              "  <tbody>\n",
              "    <tr>\n",
              "      <th>0</th>\n",
              "      <td>2019-08-13</td>\n",
              "      <td>7:10 PM</td>\n",
              "      <td>Kirthiga</td>\n",
              "      <td></td>\n",
              "      <td>0.0</td>\n",
              "      <td>0.0</td>\n",
              "      <td>0.0</td>\n",
              "    </tr>\n",
              "    <tr>\n",
              "      <th>1</th>\n",
              "      <td>2019-08-13</td>\n",
              "      <td>8:12 PM</td>\n",
              "      <td>Suji</td>\n",
              "      <td>Hi</td>\n",
              "      <td>0.0</td>\n",
              "      <td>0.0</td>\n",
              "      <td>1.0</td>\n",
              "    </tr>\n",
              "    <tr>\n",
              "      <th>2</th>\n",
              "      <td>2019-08-13</td>\n",
              "      <td>8:12 PM</td>\n",
              "      <td>Suji</td>\n",
              "      <td>Un Peru sollu d</td>\n",
              "      <td>0.0</td>\n",
              "      <td>0.0</td>\n",
              "      <td>1.0</td>\n",
              "    </tr>\n",
              "    <tr>\n",
              "      <th>3</th>\n",
              "      <td>2019-08-13</td>\n",
              "      <td>8:14 PM</td>\n",
              "      <td>Kirthiga</td>\n",
              "      <td>Hii</td>\n",
              "      <td>0.0</td>\n",
              "      <td>0.0</td>\n",
              "      <td>1.0</td>\n",
              "    </tr>\n",
              "    <tr>\n",
              "      <th>4</th>\n",
              "      <td>2019-08-13</td>\n",
              "      <td>8:14 PM</td>\n",
              "      <td>Kirthiga</td>\n",
              "      <td>Kirthiga</td>\n",
              "      <td>0.0</td>\n",
              "      <td>0.0</td>\n",
              "      <td>1.0</td>\n",
              "    </tr>\n",
              "  </tbody>\n",
              "</table>\n",
              "</div>"
            ],
            "text/plain": [
              "        date       time     author  ... Positive  Negative  Neutral\n",
              "0 2019-08-13   7:10 PM    Kirthiga  ...      0.0       0.0      0.0\n",
              "1 2019-08-13   8:12 PM        Suji  ...      0.0       0.0      1.0\n",
              "2 2019-08-13   8:12 PM        Suji  ...      0.0       0.0      1.0\n",
              "3 2019-08-13   8:14 PM    Kirthiga  ...      0.0       0.0      1.0\n",
              "4 2019-08-13   8:14 PM    Kirthiga  ...      0.0       0.0      1.0\n",
              "\n",
              "[5 rows x 7 columns]"
            ]
          },
          "metadata": {},
          "execution_count": 43
        }
      ]
    },
    {
      "cell_type": "code",
      "metadata": {
        "id": "OCfBCvAXooNP"
      },
      "source": [
        "x=sum(data['Positive'])\n",
        "y=sum(data['Negative'])\n",
        "z=sum(data['Neutral'])"
      ],
      "execution_count": 44,
      "outputs": []
    },
    {
      "cell_type": "code",
      "metadata": {
        "colab": {
          "base_uri": "https://localhost:8080/"
        },
        "id": "XAedSGGAoymk",
        "outputId": "d1799c38-48e3-4a56-964d-527d6aa27808"
      },
      "source": [
        "x,y,z"
      ],
      "execution_count": 46,
      "outputs": [
        {
          "output_type": "execute_result",
          "data": {
            "text/plain": [
              "(563.6560000000001, 181.21399999999994, 14887.127999999946)"
            ]
          },
          "metadata": {},
          "execution_count": 46
        }
      ]
    },
    {
      "cell_type": "code",
      "metadata": {
        "id": "Biid-xciozmO"
      },
      "source": [
        "def sentiment_score(a,b,c):\n",
        "  if a>b and a>c:\n",
        "    print(\"Positive\")\n",
        "    print(emoji.emojize(\":grinning_face_with_big_eyes:\"))\n",
        "  elif b>c and b>a:\n",
        "    print(\"Negative\")\n",
        "    print(emoji.emojize(':upside-down_face:'))\n",
        "  else:\n",
        "    print(\"Neutral\")\n",
        "    print(emoji.emojize(':grinning_squinting_face:'))"
      ],
      "execution_count": 55,
      "outputs": []
    },
    {
      "cell_type": "code",
      "metadata": {
        "colab": {
          "base_uri": "https://localhost:8080/"
        },
        "id": "b5otrOLNpqfI",
        "outputId": "3e0f1f68-2db5-47ca-9e58-7a29f4e40042"
      },
      "source": [
        "sentiment_score(x,y,z)"
      ],
      "execution_count": 56,
      "outputs": [
        {
          "output_type": "stream",
          "text": [
            "Neutral\n",
            "😆\n"
          ],
          "name": "stdout"
        }
      ]
    },
    {
      "cell_type": "code",
      "metadata": {
        "id": "UBDuTsHspvfc"
      },
      "source": [
        ""
      ],
      "execution_count": 50,
      "outputs": []
    }
  ]
}